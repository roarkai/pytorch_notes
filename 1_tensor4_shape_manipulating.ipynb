{
 "cells": [
  {
   "cell_type": "code",
   "execution_count": 1,
   "id": "48c18bb1",
   "metadata": {
    "ExecuteTime": {
     "end_time": "2024-08-03T03:29:26.762552Z",
     "start_time": "2024-08-03T03:29:25.439932Z"
    }
   },
   "outputs": [],
   "source": [
    "import torch"
   ]
  },
  {
   "cell_type": "markdown",
   "id": "1151dcc0",
   "metadata": {},
   "source": [
    "# Manipulating tensor shapes"
   ]
  },
  {
   "cell_type": "markdown",
   "id": "73dee657",
   "metadata": {},
   "source": [
    "### 3.2 tensor.reshape()\n",
    "1. 通常情况下，reshape返回的tensor只是原tensor的一个view，两者指向的是相同的memory location。但实际使用的时候，不要依赖这里的view vs. copy关系，不然容易出错。\n",
    "2. reshape实际上是打包了两种处理方式的method，当reshape的input tensor和outpu tensor的shape是compatible的时候，它调用的是tensor.view()，此时不copy data，当两者的shape不兼容的时候，它调用tensor.contiguous()，这时候就会copy data。\n",
    "   - <font color=blue>· 可以理解成，处理contiguous tensor时，调用view();处理non-contiguous tensor时，调用contiguous(). </font>\n",
    "3. pyrotch要求'shape'参数必须是tuple of ints。但是当shape是第一个参数的时候，可以用series if integers或者单个integer作为shape的值，但如果shape不是第一个参数，就必须是tuple。\n",
    "\n",
    "· 注：在extent of dim为1时，要注意，x=(3)是int，x=(3,)是tuple"
   ]
  },
  {
   "cell_type": "code",
   "execution_count": 16,
   "id": "693c59dc",
   "metadata": {
    "ExecuteTime": {
     "end_time": "2024-08-03T03:29:26.874381Z",
     "start_time": "2024-08-03T03:29:26.869204Z"
    }
   },
   "outputs": [
    {
     "name": "stdout",
     "output_type": "stream",
     "text": [
      "<class 'tuple'> <class 'int'> <class 'tuple'>\n",
      "tensor([1., 1., 1., 1., 1., 1., 1., 1., 1., 1., 1., 1.]) torch.Size([12])\n",
      "torch.Size([12])\n"
     ]
    }
   ],
   "source": [
    "## tensor.reshape()的shape参数：x=(3)是int，不能用，x=(3,)是tuple\n",
    "x = (1, 2, 3)\n",
    "y = (3)\n",
    "z = (2,)\n",
    "print(type(x), type(y), type(z))\n",
    "\n",
    "## 用tensor.reshape,这时shape参数是第一个参数\n",
    "output3d = torch.ones(2, 2, 3)\n",
    "\n",
    "input1d = output3d.reshape(12) # 12 = 2 * 2 * 3\n",
    "print(input1d, input1d.shape)\n",
    "\n",
    "## 用torch module的reshape method，这时shape参数不是第一个参数\n",
    "# input1d_2 = torch.reshape(output3d, (12)) # 错,(12)被识别为int12\n",
    "input1d_2 = torch.reshape(output3d, (12,))  # 用(12,)才是tuple\n",
    "print(input1d_2.shape)"
   ]
  },
  {
   "cell_type": "code",
   "execution_count": 17,
   "id": "3c7bde51",
   "metadata": {
    "ExecuteTime": {
     "end_time": "2024-08-03T03:29:26.881785Z",
     "start_time": "2024-08-03T03:29:26.876321Z"
    }
   },
   "outputs": [
    {
     "name": "stdout",
     "output_type": "stream",
     "text": [
      "tensor([ 1,  2,  3,  4,  5,  6,  7,  8,  9, 10, 11, 12]) True\n",
      "tensor([[ 1,  2,  3],\n",
      "        [ 4,  5,  6],\n",
      "        [ 7,  8,  9],\n",
      "        [10, 11, 12]])\n",
      "True\n",
      "tensor([  1,   2, 100,   4,   5,   6,   7,   8,   9,  10,  11,  12]) \n",
      "\n",
      "tensor([[  1,   2, 100],\n",
      "        [  4,   5,   6],\n",
      "        [  7,   8,   9],\n",
      "        [ 10,  11,  12]]) \n",
      "\n"
     ]
    }
   ],
   "source": [
    "## 处理contiguous tensor\n",
    "x = torch.arange(1,13)\n",
    "print(x, x.is_contiguous())\n",
    "\n",
    "y = x.reshape(4,3)\n",
    "print(y)\n",
    "print(x.storage().data_ptr() == y.storage().data_ptr())\n",
    "\n",
    "# 改变x中元素值, y也变\n",
    "x[2] = 100\n",
    "print(x, '\\n')\n",
    "print(y, '\\n')"
   ]
  },
  {
   "cell_type": "code",
   "execution_count": 18,
   "id": "8e5452e4",
   "metadata": {
    "ExecuteTime": {
     "end_time": "2024-08-03T03:29:26.889008Z",
     "start_time": "2024-08-03T03:29:26.883474Z"
    }
   },
   "outputs": [
    {
     "name": "stdout",
     "output_type": "stream",
     "text": [
      "tensor([[ 1,  3,  5,  7,  9, 11],\n",
      "        [ 2,  4,  6,  8, 10, 12]]) False\n",
      "tensor([[ 1,  3,  5],\n",
      "        [ 7,  9, 11],\n",
      "        [ 2,  4,  6],\n",
      "        [ 8, 10, 12]])\n",
      "False\n",
      "tensor([[  1,   3,   5,   7,   9,  11],\n",
      "        [100, 100, 100, 100, 100, 100]]) \n",
      "\n",
      "tensor([[ 1,  3,  5],\n",
      "        [ 7,  9, 11],\n",
      "        [ 2,  4,  6],\n",
      "        [ 8, 10, 12]]) \n",
      "\n"
     ]
    }
   ],
   "source": [
    "## 处理non-contiguous tensor\n",
    "x = torch.arange(1,13).view(6,2).transpose(0,1)\n",
    "print(x, x.is_contiguous())\n",
    "\n",
    "y = x.reshape(4,3)\n",
    "print(y)\n",
    "print(x.storage().data_ptr() == y.storage().data_ptr())\n",
    "\n",
    "# 改变x中元素值, y不变\n",
    "x[1] = 100\n",
    "print(x, '\\n')\n",
    "print(y, '\\n')"
   ]
  }
 ],
 "metadata": {
  "kernelspec": {
   "display_name": "Python [conda env:231n] *",
   "language": "python",
   "name": "conda-env-231n-py"
  },
  "language_info": {
   "codemirror_mode": {
    "name": "ipython",
    "version": 3
   },
   "file_extension": ".py",
   "mimetype": "text/x-python",
   "name": "python",
   "nbconvert_exporter": "python",
   "pygments_lexer": "ipython3",
   "version": "3.10.12"
  }
 },
 "nbformat": 4,
 "nbformat_minor": 5
}
