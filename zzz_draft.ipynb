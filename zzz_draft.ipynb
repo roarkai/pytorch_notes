{
 "cells": [
  {
   "cell_type": "code",
   "execution_count": 33,
   "id": "f37dfbb5",
   "metadata": {
    "ExecuteTime": {
     "end_time": "2024-08-12T07:48:50.348096Z",
     "start_time": "2024-08-12T07:48:50.344106Z"
    }
   },
   "outputs": [],
   "source": [
    "import torch\n",
    "import math\n",
    "import torch.nn as nn\n",
    "import torchviz\n",
    "# 配置\n",
    "device = torch.device('cuda')\n",
    "dtype = torch.float"
   ]
  },
  {
   "cell_type": "code",
   "execution_count": 40,
   "id": "7b0bad6f",
   "metadata": {
    "ExecuteTime": {
     "end_time": "2024-08-12T08:16:58.221760Z",
     "start_time": "2024-08-12T08:16:58.215201Z"
    }
   },
   "outputs": [
    {
     "name": "stdout",
     "output_type": "stream",
     "text": [
      "tensor([0.2000, 0.2000, 0.2000, 0.2000, 0.2000])\n"
     ]
    }
   ],
   "source": [
    "a = torch.ones(5, requires_grad = True)\n",
    "b = 2*a\n",
    "\n",
    "b.retain_grad()   # Since b is non-leaf and it's grad will be destroyed otherwise.\n",
    "\n",
    "c = b.mean()\n",
    "\n",
    "c.backward()\n",
    "\n",
    "print(b.grad)"
   ]
  },
  {
   "cell_type": "code",
   "execution_count": 44,
   "id": "49e9d8c2",
   "metadata": {
    "ExecuteTime": {
     "end_time": "2024-08-12T08:21:35.106228Z",
     "start_time": "2024-08-12T08:21:35.098681Z"
    }
   },
   "outputs": [
    {
     "name": "stdout",
     "output_type": "stream",
     "text": [
      "tensor([0.2000, 0.2000, 0.2000, 0.2000, 0.2000])\n",
      "tensor([0.4000, 0.4000, 0.4000, 0.4000, 0.4000])\n"
     ]
    }
   ],
   "source": [
    "a = torch.ones(5, requires_grad = True)\n",
    "b = 2*a\n",
    "\n",
    "b.register_hook(lambda x: print(x))  \n",
    "\n",
    "b.mean().backward() \n",
    "print(a.grad)"
   ]
  },
  {
   "cell_type": "code",
   "execution_count": 43,
   "id": "7edc6353",
   "metadata": {
    "ExecuteTime": {
     "end_time": "2024-08-12T08:21:11.807300Z",
     "start_time": "2024-08-12T08:21:11.798357Z"
    }
   },
   "outputs": [
    {
     "data": {
      "text/plain": [
       "(tensor([0.4000, 0.4000, 0.4000, 0.4000, 0.4000]),\n",
       " tensor([0.4000, 0.4000, 0.4000, 0.4000, 0.4000]))"
      ]
     },
     "execution_count": 43,
     "metadata": {},
     "output_type": "execute_result"
    }
   ],
   "source": [
    "a = torch.ones(5, requires_grad = True)\n",
    "b = 2*a\n",
    "b.retain_grad()\n",
    "b.mean().backward() \n",
    "b.grad *= 2\n",
    "a.grad, b.grad # a的grad应该也改变，但是没有。所以还要手动改a的grad"
   ]
  },
  {
   "cell_type": "code",
   "execution_count": null,
   "id": "af9dfa9c",
   "metadata": {},
   "outputs": [],
   "source": [
    "class rktestModule(nn.Module):\n",
    "    def __init__(self):\n",
    "        super().__init__()\n",
    "        self.aff1 = nn.Linear(20, 100)\n",
    "        self.aff2 = nn.Linear(100, 10)\n",
    "    \n",
    "    def forward(self, x):\n",
    "        x = self.aff1(x)\n",
    "        x = F.relu(x)\n",
    "        y = self.aff2(x)\n",
    "        return y\n",
    "\n",
    "net = rktestModule()\n",
    "torch.manual_seed(2)\n",
    "x = torch.randn(2, 20)\n",
    "y = torch.randn(2, 10)\n",
    "\n",
    "score = net(x)\n",
    "loss = F.cross_entropy(score, y)\n",
    "loss.backward()"
   ]
  }
 ],
 "metadata": {
  "kernelspec": {
   "display_name": "Python [conda env:231n] *",
   "language": "python",
   "name": "conda-env-231n-py"
  },
  "language_info": {
   "codemirror_mode": {
    "name": "ipython",
    "version": 3
   },
   "file_extension": ".py",
   "mimetype": "text/x-python",
   "name": "python",
   "nbconvert_exporter": "python",
   "pygments_lexer": "ipython3",
   "version": "3.10.12"
  }
 },
 "nbformat": 4,
 "nbformat_minor": 5
}
