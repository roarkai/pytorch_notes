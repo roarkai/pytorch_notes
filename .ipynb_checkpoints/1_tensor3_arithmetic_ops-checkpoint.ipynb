{
 "cells": [
  {
   "cell_type": "markdown",
   "id": "850c1f78",
   "metadata": {},
   "source": [
    "# Arithmetic operations"
   ]
  },
  {
   "cell_type": "code",
   "execution_count": 1,
   "id": "cd9e538e",
   "metadata": {
    "ExecuteTime": {
     "end_time": "2023-10-31T02:51:26.598275Z",
     "start_time": "2023-10-31T02:51:25.415173Z"
    }
   },
   "outputs": [],
   "source": [
    "import torch\n",
    "import math\n",
    "import numpy as np"
   ]
  },
  {
   "cell_type": "code",
   "execution_count": 2,
   "id": "096d2aa2",
   "metadata": {
    "ExecuteTime": {
     "end_time": "2023-10-31T02:51:26.603526Z",
     "start_time": "2023-10-31T02:51:26.600732Z"
    }
   },
   "outputs": [],
   "source": [
    "x = torch.ones(2, 3)"
   ]
  },
  {
   "cell_type": "markdown",
   "id": "d107d56c",
   "metadata": {},
   "source": [
    "### matrix product"
   ]
  },
  {
   "cell_type": "code",
   "execution_count": 3,
   "id": "92876829",
   "metadata": {
    "ExecuteTime": {
     "end_time": "2023-10-31T02:51:26.617736Z",
     "start_time": "2023-10-31T02:51:26.604745Z"
    }
   },
   "outputs": [
    {
     "name": "stdout",
     "output_type": "stream",
     "text": [
      "tensor([[3., 3.],\n",
      "        [3., 3.]]) \n",
      " tensor([[3., 3.],\n",
      "        [3., 3.]]) \n",
      " tensor([[3., 3.],\n",
      "        [3., 3.]])\n"
     ]
    }
   ],
   "source": [
    "y1 = x @ x.T\n",
    "y2 = x.matmul(x.T)\n",
    "\n",
    "y3 = torch.zeros((2, 2))\n",
    "torch.matmul(x, x.T, out=y3)\n",
    "print(y1,'\\n', y2,'\\n', y3)"
   ]
  },
  {
   "cell_type": "markdown",
   "id": "8571590e",
   "metadata": {},
   "source": [
    "### element-wise product"
   ]
  },
  {
   "cell_type": "code",
   "execution_count": 4,
   "id": "2e4cfe16",
   "metadata": {
    "ExecuteTime": {
     "end_time": "2023-10-31T02:51:26.622810Z",
     "start_time": "2023-10-31T02:51:26.619520Z"
    }
   },
   "outputs": [
    {
     "name": "stdout",
     "output_type": "stream",
     "text": [
      "tensor([[1., 1., 1.],\n",
      "        [1., 1., 1.]]) \n",
      " tensor([[1., 1., 1.],\n",
      "        [1., 1., 1.]]) \n",
      " tensor([[1., 1., 1.],\n",
      "        [1., 1., 1.]])\n"
     ]
    }
   ],
   "source": [
    "z1 = x * x\n",
    "z2 = x.mul(x)\n",
    "\n",
    "z3 = torch.rand_like(x)\n",
    "torch.mul(x, x, out=z3)\n",
    "print(z1,'\\n', z2,'\\n', z3)"
   ]
  },
  {
   "cell_type": "markdown",
   "id": "05e81cce",
   "metadata": {},
   "source": [
    "### 注意区分\n",
    "1. **torch.mm()** - performs a matrix multiplication without broadcasting - (2D tensor) by (2D tensor)\n",
    "2. **torch.mul()** - performs a elementwise multiplication with broadcasting - (Tensor) by (Tensor or Number)\n",
    "3. **torch.matmul()** - matrix product with broadcasting - (Tensor) by (Tensor) with different behaviors depending on the tensor shapes (dot product, matrix product, batched matrix products)."
   ]
  },
  {
   "cell_type": "markdown",
   "id": "79e861ac",
   "metadata": {},
   "source": [
    "### 从单元素tensor中提取元素的value"
   ]
  },
  {
   "cell_type": "code",
   "execution_count": 5,
   "id": "3191b21c",
   "metadata": {
    "ExecuteTime": {
     "end_time": "2023-10-31T02:51:26.626551Z",
     "start_time": "2023-10-31T02:51:26.623933Z"
    }
   },
   "outputs": [
    {
     "name": "stdout",
     "output_type": "stream",
     "text": [
      "tensor(6.) <class 'torch.Tensor'> 6.0 <class 'float'>\n"
     ]
    }
   ],
   "source": [
    "y = torch.sum(x) # or y = x.sum()\n",
    "value_y = y.item()\n",
    "print(y, type(y), value_y, type(value_y))"
   ]
  },
  {
   "cell_type": "markdown",
   "id": "5c0dea56",
   "metadata": {},
   "source": [
    "### broadcast\n",
    "规则：按照**last to first**的顺序比较每个dim的值，\n",
    "所有dim值相同的话，直接运算；\\\n",
    "不相同的dim上，其中一个operand的dim值是0；\\\n",
    "或者，dimension在其中一个tensor上不存在。"
   ]
  },
  {
   "cell_type": "code",
   "execution_count": 6,
   "id": "f97213e7",
   "metadata": {
    "ExecuteTime": {
     "end_time": "2023-10-31T02:51:26.631598Z",
     "start_time": "2023-10-31T02:51:26.627712Z"
    },
    "scrolled": true
   },
   "outputs": [
    {
     "name": "stdout",
     "output_type": "stream",
     "text": [
      "tensor([[[0.0848, 0.8052],\n",
      "         [0.9057, 0.1640],\n",
      "         [0.6530, 0.8912]],\n",
      "\n",
      "        [[0.0848, 0.8052],\n",
      "         [0.9057, 0.1640],\n",
      "         [0.6530, 0.8912]]])\n",
      "tensor([[[0.3890, 0.3890],\n",
      "         [0.6748, 0.6748],\n",
      "         [0.7538, 0.7538]],\n",
      "\n",
      "        [[0.3890, 0.3890],\n",
      "         [0.6748, 0.6748],\n",
      "         [0.7538, 0.7538]]])\n",
      "tensor([[[0.6372, 0.4234],\n",
      "         [0.6372, 0.4234],\n",
      "         [0.6372, 0.4234]],\n",
      "\n",
      "        [[0.6372, 0.4234],\n",
      "         [0.6372, 0.4234],\n",
      "         [0.6372, 0.4234]]])\n"
     ]
    }
   ],
   "source": [
    "a =     torch.ones(2, 3, 2)\n",
    "b = a * torch.rand(   3, 2) # 3rd & 2nd dims identical to a, dim 1 absent\n",
    "print(b)\n",
    "\n",
    "c = a * torch.rand(   3, 1) # 3rd dim = 1, 2nd dim identical to a\n",
    "print(c)\n",
    "\n",
    "d = a * torch.rand(   1, 2) # 3rd dim identical to a, 2nd dim = 1\n",
    "print(d)"
   ]
  },
  {
   "cell_type": "code",
   "execution_count": 7,
   "id": "52e7588b",
   "metadata": {
    "ExecuteTime": {
     "end_time": "2023-10-31T02:51:26.635161Z",
     "start_time": "2023-10-31T02:51:26.632681Z"
    }
   },
   "outputs": [],
   "source": [
    "# 典型错误\n",
    "a =     torch.ones(4, 3, 2)\n",
    "# b = a * torch.rand(4, 3)    # dimensions must match last-to-first\n",
    "# c = a * torch.rand(   2, 3) # both 3rd & 2nd dims different\n",
    "# d = a * torch.rand((0, ))   # can't broadcast with an empty tensor"
   ]
  },
  {
   "cell_type": "markdown",
   "id": "5e4e0443",
   "metadata": {},
   "source": [
    "### in-place ops\n",
    "大多数binary operations都会返回新建的tensor，但很多数学运算也支持in-place operation：\n",
    "1. 用下划线标记，或者用函数提供的out参数\n",
    "2. 虽然in-place操作可以节省存储空间，但求梯度的时候不要用，会丢失weights history"
   ]
  },
  {
   "cell_type": "code",
   "execution_count": 8,
   "id": "158e4206",
   "metadata": {
    "ExecuteTime": {
     "end_time": "2023-10-31T02:51:26.640368Z",
     "start_time": "2023-10-31T02:51:26.636364Z"
    }
   },
   "outputs": [
    {
     "name": "stdout",
     "output_type": "stream",
     "text": [
      "原x:\n",
      " tensor([[0.8773, 0.4527, 0.9055],\n",
      "        [0.5495, 0.8900, 0.7486]])\n",
      "in-place add:\n",
      " tensor([[1.8773, 1.4527, 1.9055],\n",
      "        [1.5495, 1.8900, 1.7486]])\n",
      "in-place transpose:\n",
      " tensor([[1.8773, 1.5495],\n",
      "        [1.4527, 1.8900],\n",
      "        [1.9055, 1.7486]])\n"
     ]
    }
   ],
   "source": [
    "x = torch.rand((2, 3))\n",
    "print('原x:\\n', x)\n",
    "x.add_(1)\n",
    "print('in-place add:\\n', x)\n",
    "x.t_()\n",
    "print('in-place transpose:\\n', x)"
   ]
  },
  {
   "cell_type": "code",
   "execution_count": 9,
   "id": "8f83b037",
   "metadata": {
    "ExecuteTime": {
     "end_time": "2023-10-31T02:51:26.646205Z",
     "start_time": "2023-10-31T02:51:26.641448Z"
    }
   },
   "outputs": [
    {
     "name": "stdout",
     "output_type": "stream",
     "text": [
      "a:\n",
      " tensor([0.0000, 0.7854, 1.5708, 2.3562])\n",
      "output:\n",
      " tensor([0.0000, 0.7071, 1.0000, 0.7071])\n",
      "a没变：\n",
      " tensor([0.0000, 0.7854, 1.5708, 2.3562])\n",
      "b:\n",
      " tensor([0.0000, 0.7854, 1.5708, 2.3562])\n",
      "output:\n",
      " tensor([0.0000, 0.7071, 1.0000, 0.7071])\n",
      "b改变：\n",
      " tensor([0.0000, 0.7071, 1.0000, 0.7071])\n"
     ]
    }
   ],
   "source": [
    "a = torch.tensor([0, math.pi / 4, math.pi / 2, 3 * math.pi / 4])\n",
    "print('a:\\n', a)\n",
    "print(\"output:\\n\", torch.sin(a)) \n",
    "print(\"a没变：\\n\", a) \n",
    "\n",
    "b = torch.tensor([0, math.pi / 4, math.pi / 2, 3 * math.pi / 4])\n",
    "print('b:\\n', b)\n",
    "print(\"output:\\n\", torch.sin_(b))\n",
    "print(\"b改变：\\n\", b) "
   ]
  },
  {
   "cell_type": "code",
   "execution_count": 10,
   "id": "6093c151",
   "metadata": {
    "ExecuteTime": {
     "end_time": "2023-10-31T02:51:26.652072Z",
     "start_time": "2023-10-31T02:51:26.648109Z"
    }
   },
   "outputs": [
    {
     "name": "stdout",
     "output_type": "stream",
     "text": [
      "tensor([[0., 0.],\n",
      "        [0., 0.]])\n",
      "tensor([[0.6382, 0.5725],\n",
      "        [1.1383, 1.1478]])\n",
      "tensor([[0.0379, 0.0416],\n",
      "        [0.3732, 0.9919]])\n"
     ]
    }
   ],
   "source": [
    "a = torch.rand(2, 2)\n",
    "b = torch.rand(2, 2)\n",
    "c = torch.zeros(2, 2)\n",
    "old_id = id(c)\n",
    "\n",
    "print(c)\n",
    "d = torch.matmul(a, b, out=c)\n",
    "print(c)                # contents of c have changed\n",
    "\n",
    "assert c is d           # test c & d are same object, not just containing equal values\n",
    "assert id(c) == old_id  # make sure that our new c is the same object as the old one\n",
    "\n",
    "torch.rand(2, 2, out=c) # works for creation too!\n",
    "print(c)                # c has changed again\n",
    "assert id(c) == old_id  # still the same object!"
   ]
  },
  {
   "cell_type": "markdown",
   "id": "83c9ac7a",
   "metadata": {
    "ExecuteTime": {
     "end_time": "2023-10-10T01:09:48.583537Z",
     "start_time": "2023-10-10T01:09:48.578891Z"
    }
   },
   "source": [
    "### copy tensor\n",
    "1. assignment只是给等号右边对象新建了一个label，并没有复制新的对象\n",
    "2. 如果要复制，可以用tensor.clone()\n",
    "3. 如果被复制的tensor enabled autograd，那么clone得到的tensor也会enable。如果不希望clone得到的tensor复制原tensor的autograd设置，可以用tensor.detach()"
   ]
  },
  {
   "cell_type": "code",
   "execution_count": 11,
   "id": "0ee8a55f",
   "metadata": {
    "ExecuteTime": {
     "end_time": "2023-10-31T02:51:26.656460Z",
     "start_time": "2023-10-31T02:51:26.653392Z"
    }
   },
   "outputs": [
    {
     "name": "stdout",
     "output_type": "stream",
     "text": [
      "tensor([[True, True],\n",
      "        [True, True]])\n",
      "tensor([[1., 1.],\n",
      "        [1., 1.]])\n"
     ]
    }
   ],
   "source": [
    "a = torch.ones(2, 2)\n",
    "b = a.clone()\n",
    "\n",
    "assert b is not a      # 在memory中是不同的object\n",
    "# assert b == a          # 不能这样assert，因为b==a输出的是boolean矩阵，assert只处理单个boolean值\n",
    "print(torch.eq(a, b))  # ...but still with the same contents!\n",
    "\n",
    "a[0][1] = 561          # a changes...\n",
    "print(b)               # ...but b is still all ones"
   ]
  },
  {
   "cell_type": "code",
   "execution_count": 12,
   "id": "f5f8f57d",
   "metadata": {
    "ExecuteTime": {
     "end_time": "2023-10-31T02:51:26.661201Z",
     "start_time": "2023-10-31T02:51:26.657721Z"
    }
   },
   "outputs": [
    {
     "name": "stdout",
     "output_type": "stream",
     "text": [
      "tensor([[0.1276, 0.3408],\n",
      "        [0.8050, 0.7558]], requires_grad=True)\n",
      "tensor([[0.1276, 0.3408],\n",
      "        [0.8050, 0.7558]], grad_fn=<CloneBackward0>)\n",
      "tensor([[0.1276, 0.3408],\n",
      "        [0.8050, 0.7558]])\n",
      "tensor([[0.1276, 0.3408],\n",
      "        [0.8050, 0.7558]], requires_grad=True)\n"
     ]
    }
   ],
   "source": [
    "a = torch.rand(2, 2, requires_grad=True) # turn on autograd\n",
    "print(a)\n",
    "\n",
    "b = a.clone()\n",
    "print(b)\n",
    "\n",
    "c = a.detach().clone()  # 这里在不改变a的设置的条件下，关闭c的autograd\n",
    "print(c)                # c的autograd关闭\n",
    "print(a)                # a的autograd还是开启状态"
   ]
  },
  {
   "cell_type": "markdown",
   "id": "cfb790f4",
   "metadata": {},
   "source": [
    "### reduce ops"
   ]
  },
  {
   "cell_type": "code",
   "execution_count": 13,
   "id": "21e04d96",
   "metadata": {
    "ExecuteTime": {
     "end_time": "2023-10-31T02:51:26.677908Z",
     "start_time": "2023-10-31T02:51:26.662455Z"
    }
   },
   "outputs": [
    {
     "data": {
      "text/plain": [
       "torch.return_types.max(\n",
       "values=tensor([3, 6, 9]),\n",
       "indices=tensor([2, 2, 2]))"
      ]
     },
     "execution_count": 13,
     "metadata": {},
     "output_type": "execute_result"
    }
   ],
   "source": [
    "x = torch.tensor([[1, 2, 3],\n",
    "                  [4, 5, 6],\n",
    "                  [7, 8, 9]])\n",
    "# 注意输出形式：\n",
    "torch.max(x, dim=1)"
   ]
  },
  {
   "cell_type": "code",
   "execution_count": 14,
   "id": "bbdee206",
   "metadata": {
    "ExecuteTime": {
     "end_time": "2023-10-31T02:55:30.362135Z",
     "start_time": "2023-10-31T02:55:30.352686Z"
    }
   },
   "outputs": [
    {
     "name": "stdout",
     "output_type": "stream",
     "text": [
      "tensor([3, 6, 9])\n"
     ]
    }
   ],
   "source": [
    "# Find the highest value in each row\n",
    "max_values, _ = torch.max(x, dim=1)\n",
    "print(max_values)"
   ]
  }
 ],
 "metadata": {
  "kernelspec": {
   "display_name": "Python [conda env:231n] *",
   "language": "python",
   "name": "conda-env-231n-py"
  },
  "language_info": {
   "codemirror_mode": {
    "name": "ipython",
    "version": 3
   },
   "file_extension": ".py",
   "mimetype": "text/x-python",
   "name": "python",
   "nbconvert_exporter": "python",
   "pygments_lexer": "ipython3",
   "version": "3.10.12"
  }
 },
 "nbformat": 4,
 "nbformat_minor": 5
}
