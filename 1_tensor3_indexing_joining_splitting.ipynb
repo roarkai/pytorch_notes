{
 "cells": [
  {
   "cell_type": "code",
   "execution_count": 1,
   "id": "a7d54465",
   "metadata": {
    "ExecuteTime": {
     "end_time": "2024-08-04T09:40:45.974163Z",
     "start_time": "2024-08-04T09:40:44.641941Z"
    }
   },
   "outputs": [],
   "source": [
    "import torch\n",
    "import numpy as np"
   ]
  },
  {
   "cell_type": "markdown",
   "id": "f5dd0ee9",
   "metadata": {},
   "source": [
    "## 1. indexing and slicing"
   ]
  },
  {
   "cell_type": "code",
   "execution_count": 2,
   "id": "6891c897",
   "metadata": {
    "ExecuteTime": {
     "end_time": "2024-08-04T09:40:45.984531Z",
     "start_time": "2024-08-04T09:40:45.976392Z"
    }
   },
   "outputs": [
    {
     "name": "stdout",
     "output_type": "stream",
     "text": [
      "1st row: tensor([0.3466, 0.8739, 0.2632])\n",
      "1st col: tensor([0.3466, 0.3762])\n",
      "last col: tensor([0.2632, 0.8377])\n",
      "tensor([[0.3466, 0.0000, 0.2632],\n",
      "        [0.3762, 0.0000, 0.8377]]) cpu\n"
     ]
    }
   ],
   "source": [
    "tensor = torch.rand(2, 3)\n",
    "print(f\"1st row: {tensor[0]}\")\n",
    "print(f\"1st col: {tensor[:, 0]}\")\n",
    "print(f\"last col: {tensor[:, -1]}\")\n",
    "tensor[:, 1] = 0\n",
    "print(tensor, tensor.device)"
   ]
  },
  {
   "cell_type": "markdown",
   "id": "365dc8c7",
   "metadata": {
    "ExecuteTime": {
     "end_time": "2023-10-08T07:05:59.340280Z",
     "start_time": "2023-10-08T07:05:59.337706Z"
    }
   },
   "source": [
    "## 2. concatenation and repeating\n",
    "- <font color=blue>**torch.cat(tensor sequences, dim=0)**</font>: <font color=green>dim的取值范围是[0, number of dims-1]</font>。在指定维度上堆叠tensor sequence。output的dim数量不变，指定dim的length变大。\n",
    "  - tensor的dim数>=2时，<font color=blue>**hstack(a, b)**</font>相当于cat((a, b), dim=1)\n",
    "  - tensor的dim数>=2时，<font color=blue>**vstack(a, b)**</font>相当于cat((a, b), dim=0)\n",
    "- <font color=blue>**torch.stack(tensor sequences, dim=0)**</font>: <font color=green>dim的取值范围是[0, number of dims]</font>。新增1维，在新增的维度上堆叠指定的tensor sequence。dim数量+1.<font color=green>相当于在指定维度上对所有tensor sequence做unsqueeze，然后将他们做torch.cat</font>\n",
    "- <font color=blue>**tensor.repeat()**</font>: 复制指定维度，维度的数量可以扩张。类似numpy.tile\n",
    "  - 将选定维度上的data整体repeat，[1, 2, 3]repeat 2次就是[1, 2, 3, 1, 2, 3]\n",
    "  - 如果参数的维度数量>tensor维度数量，就在dim0位置插入新的dim，然后repeat\n",
    "- <font color=blue>**tensor.repeat_interleave()**</font>: 重复每个维度上的元素，类似numpy.repeat\n",
    "  - 将选定维度上的元素逐个repeat，[1, 2, 3]repeat 2次就是[1, 1, 2, 2, 3, 3]"
   ]
  },
  {
   "cell_type": "markdown",
   "id": "f9156cf7",
   "metadata": {},
   "source": [
    "### 2.1 torch.cat将tensor sequence在已有维度上做堆叠\n",
    "- 除了参数指定的维度，其他维度上的length必须一样，或者是empty tensor\n",
    "- dim参数取值不能超过input的维度数"
   ]
  },
  {
   "cell_type": "code",
   "execution_count": 3,
   "id": "f7ee8780",
   "metadata": {
    "ExecuteTime": {
     "end_time": "2024-08-04T09:40:45.998355Z",
     "start_time": "2024-08-04T09:40:45.986207Z"
    }
   },
   "outputs": [
    {
     "data": {
      "text/plain": [
       "(tensor([[0.2625, 0.2303],\n",
       "         [0.7754, 0.0500]]),\n",
       " torch.Size([2, 2]))"
      ]
     },
     "execution_count": 3,
     "metadata": {},
     "output_type": "execute_result"
    }
   ],
   "source": [
    "x = torch.rand(2, 2)\n",
    "x, x.shape"
   ]
  },
  {
   "cell_type": "code",
   "execution_count": 4,
   "id": "3f000f6a",
   "metadata": {
    "ExecuteTime": {
     "end_time": "2024-08-04T09:40:46.005738Z",
     "start_time": "2024-08-04T09:40:46.000495Z"
    },
    "scrolled": true
   },
   "outputs": [
    {
     "data": {
      "text/plain": [
       "(tensor([[0.2625, 0.2303, 0.2625, 0.2303],\n",
       "         [0.7754, 0.0500, 0.7754, 0.0500]]),\n",
       " tensor([[0.2625, 0.2303],\n",
       "         [0.7754, 0.0500],\n",
       "         [0.2625, 0.2303],\n",
       "         [0.7754, 0.0500]]),\n",
       " True)"
      ]
     },
     "execution_count": 4,
     "metadata": {},
     "output_type": "execute_result"
    }
   ],
   "source": [
    "t1 = torch.cat([x, x], dim=1) # 在dim 1上堆，shape的dim 0大小不变\n",
    "t2 = torch.cat([x, x], dim=0) # 在dim 0上堆，shape的dim 1大小不变\n",
    "t1, t2, len(x.shape) == len(t1.shape) == len(t2.shape)"
   ]
  },
  {
   "cell_type": "code",
   "execution_count": 5,
   "id": "7511d35e",
   "metadata": {
    "ExecuteTime": {
     "end_time": "2024-08-04T09:40:46.012110Z",
     "start_time": "2024-08-04T09:40:46.007217Z"
    }
   },
   "outputs": [
    {
     "data": {
      "text/plain": [
       "(torch.Size([4, 3, 5]), True)"
      ]
     },
     "execution_count": 5,
     "metadata": {},
     "output_type": "execute_result"
    }
   ],
   "source": [
    "a = torch.ones(2, 3, 5)\n",
    "b = torch.arange(30).view(2, 3, 5)\n",
    "v = torch.vstack((a, b)) # concatenate dim0\n",
    "v.shape, torch.all(v == torch.cat((a, b), dim=0)).item()"
   ]
  },
  {
   "cell_type": "code",
   "execution_count": 6,
   "id": "b610ef96",
   "metadata": {
    "ExecuteTime": {
     "end_time": "2024-08-04T09:40:46.018100Z",
     "start_time": "2024-08-04T09:40:46.013772Z"
    }
   },
   "outputs": [
    {
     "data": {
      "text/plain": [
       "(torch.Size([2, 6, 5]), True)"
      ]
     },
     "execution_count": 6,
     "metadata": {},
     "output_type": "execute_result"
    }
   ],
   "source": [
    "h = torch.hstack((a, b)) # concatenate dim1\n",
    "h.shape, torch.all(h == torch.cat((a, b), dim=1)).item()"
   ]
  },
  {
   "cell_type": "code",
   "execution_count": 7,
   "id": "14303cbf",
   "metadata": {
    "ExecuteTime": {
     "end_time": "2024-08-04T09:40:46.026160Z",
     "start_time": "2024-08-04T09:40:46.019502Z"
    }
   },
   "outputs": [
    {
     "name": "stderr",
     "output_type": "stream",
     "text": [
      "/tmp/ipykernel_18781/422504737.py:7: UserWarning: TypedStorage is deprecated. It will be removed in the future and UntypedStorage will be the only storage class. This should only matter to you if you are using storages directly.  To access UntypedStorage directly, use tensor.untyped_storage() instead of tensor.storage()\n",
      "  a, e, a.storage(), e.storage()\n"
     ]
    },
    {
     "data": {
      "text/plain": [
       "(tensor([[[0, 1],\n",
       "          [2, 3]],\n",
       " \n",
       "         [[0, 1],\n",
       "          [2, 3]],\n",
       " \n",
       "         [[0, 1],\n",
       "          [2, 3]]]),\n",
       " tensor([[[0, 1],\n",
       "          [2, 3]],\n",
       " \n",
       "         [[0, 1],\n",
       "          [2, 3]]]),\n",
       "  0\n",
       "  1\n",
       "  2\n",
       "  3\n",
       "  0\n",
       "  1\n",
       "  2\n",
       "  3\n",
       "  0\n",
       "  1\n",
       "  2\n",
       "  3\n",
       " [torch.storage.TypedStorage(dtype=torch.int64, device=cpu) of size 12],\n",
       "  0\n",
       "  1\n",
       "  2\n",
       "  3\n",
       " [torch.storage.TypedStorage(dtype=torch.int64, device=cpu) of size 4])"
      ]
     },
     "execution_count": 7,
     "metadata": {},
     "output_type": "execute_result"
    }
   ],
   "source": [
    "x = torch.arange(4).view(1, 2, 2)\n",
    "a = torch.cat((x, x, x), 0)\n",
    "\n",
    "## 和expand的区别：expand不copy，只是给多个重复的view\n",
    "e = x.expand([2, 2, 2])\n",
    "\n",
    "a, e, a.storage(), e.storage()"
   ]
  },
  {
   "cell_type": "code",
   "execution_count": 8,
   "id": "7760e742",
   "metadata": {
    "ExecuteTime": {
     "end_time": "2024-08-04T09:40:46.032202Z",
     "start_time": "2024-08-04T09:40:46.027586Z"
    }
   },
   "outputs": [
    {
     "data": {
      "text/plain": [
       "(tensor([[[0, 1],\n",
       "          [2, 3],\n",
       "          [0, 1],\n",
       "          [2, 3],\n",
       "          [0, 1],\n",
       "          [2, 3]]]),\n",
       " False)"
      ]
     },
     "execution_count": 8,
     "metadata": {},
     "output_type": "execute_result"
    }
   ],
   "source": [
    "b = torch.cat((x, x, x), 1)\n",
    "b, a.data_ptr() == b.data_ptr()"
   ]
  },
  {
   "cell_type": "markdown",
   "id": "27c848d8",
   "metadata": {
    "ExecuteTime": {
     "end_time": "2023-10-08T09:07:44.825008Z",
     "start_time": "2023-10-08T09:07:44.819441Z"
    }
   },
   "source": [
    "### 2.2 torch.stack将tensor sequence堆叠到新的维度\n",
    "- 相当于在指定维度上对所有tensor sequence做unsqueeze，然后做torch.cat\n",
    "- 被stack的tensors要有相同的shape\n",
    "- output维度+1"
   ]
  },
  {
   "cell_type": "code",
   "execution_count": 9,
   "id": "8f90234d",
   "metadata": {
    "ExecuteTime": {
     "end_time": "2024-08-04T09:40:46.038235Z",
     "start_time": "2024-08-04T09:40:46.033535Z"
    }
   },
   "outputs": [
    {
     "data": {
      "text/plain": [
       "(tensor([[0., 0., 0.],\n",
       "         [0., 0., 0.]]),\n",
       " tensor([[1, 2, 3],\n",
       "         [4, 5, 6]]))"
      ]
     },
     "execution_count": 9,
     "metadata": {},
     "output_type": "execute_result"
    }
   ],
   "source": [
    "y = torch.zeros(2, 3) \n",
    "z = torch.arange(1, 7).reshape(2, 3)\n",
    "y, z"
   ]
  },
  {
   "cell_type": "code",
   "execution_count": 10,
   "id": "be84db76",
   "metadata": {
    "ExecuteTime": {
     "end_time": "2024-08-04T09:40:46.046184Z",
     "start_time": "2024-08-04T09:40:46.040752Z"
    }
   },
   "outputs": [
    {
     "name": "stdout",
     "output_type": "stream",
     "text": [
      "tensor([[[0., 0., 0.],\n",
      "         [0., 0., 0.]],\n",
      "\n",
      "        [[1., 2., 3.],\n",
      "         [4., 5., 6.]]]) torch.Size([2, 2, 3])\n",
      "tensor([[[0., 0., 0.],\n",
      "         [1., 2., 3.]],\n",
      "\n",
      "        [[0., 0., 0.],\n",
      "         [4., 5., 6.]]]) torch.Size([2, 2, 3])\n",
      "tensor([[[0., 1.],\n",
      "         [0., 2.],\n",
      "         [0., 3.]],\n",
      "\n",
      "        [[0., 4.],\n",
      "         [0., 5.],\n",
      "         [0., 6.]]]) torch.Size([2, 3, 2])\n",
      "# dim of t3,t4,t5: (3, 3, 3)\n"
     ]
    }
   ],
   "source": [
    "t3 = torch.stack([y, z], dim=0)\n",
    "t4 = torch.stack([y, z], dim=1)\n",
    "t5 = torch.stack([y, z], dim=2)  # dim取值范围[-3, 2]\n",
    "print(t3, t3.shape)\n",
    "print(t4, t4.shape)\n",
    "print(t5, t5.shape)\n",
    "print(f\"# dim of t3,t4,t5: {len(t3.shape), len(t4.shape), len(t5.shape)}\")"
   ]
  },
  {
   "cell_type": "code",
   "execution_count": 11,
   "id": "f932b6a8",
   "metadata": {
    "ExecuteTime": {
     "end_time": "2024-08-04T09:40:46.052225Z",
     "start_time": "2024-08-04T09:40:46.047410Z"
    },
    "scrolled": true
   },
   "outputs": [
    {
     "data": {
      "text/plain": [
       "(torch.Size([2, 2, 3]), torch.Size([2, 2, 3]))"
      ]
     },
     "execution_count": 11,
     "metadata": {},
     "output_type": "execute_result"
    }
   ],
   "source": [
    "x = torch.tensor([[[1, 2, 0], \n",
    "                   [5, 6, 7]],\n",
    "                  \n",
    "                  [[8, 9, 0], \n",
    "                   [3, 4, 5]]])\n",
    "\n",
    "y = torch.tensor([[[1, 1, 1], \n",
    "                   [2, 2, 2]],\n",
    "                  \n",
    "                  [[0, 0, 0], \n",
    "                   [9, 9, 9]]])\n",
    "x.shape, y.shape"
   ]
  },
  {
   "cell_type": "code",
   "execution_count": 12,
   "id": "23bb5739",
   "metadata": {
    "ExecuteTime": {
     "end_time": "2024-08-04T09:40:46.058690Z",
     "start_time": "2024-08-04T09:40:46.053409Z"
    }
   },
   "outputs": [
    {
     "name": "stdout",
     "output_type": "stream",
     "text": [
      "在dim 0上堆:\n",
      " tensor([[[[1, 2, 0],\n",
      "          [5, 6, 7]],\n",
      "\n",
      "         [[8, 9, 0],\n",
      "          [3, 4, 5]]],\n",
      "\n",
      "\n",
      "        [[[1, 1, 1],\n",
      "          [2, 2, 2]],\n",
      "\n",
      "         [[0, 0, 0],\n",
      "          [9, 9, 9]]]]) torch.Size([2, 2, 2, 3])\n",
      "在dim 1上堆:\n",
      " tensor([[[[1, 2, 0],\n",
      "          [5, 6, 7]],\n",
      "\n",
      "         [[1, 1, 1],\n",
      "          [2, 2, 2]]],\n",
      "\n",
      "\n",
      "        [[[8, 9, 0],\n",
      "          [3, 4, 5]],\n",
      "\n",
      "         [[0, 0, 0],\n",
      "          [9, 9, 9]]]]) torch.Size([2, 2, 2, 3])\n",
      "在dim 2上堆:\n",
      " tensor([[[[1, 2, 0],\n",
      "          [1, 1, 1]],\n",
      "\n",
      "         [[5, 6, 7],\n",
      "          [2, 2, 2]]],\n",
      "\n",
      "\n",
      "        [[[8, 9, 0],\n",
      "          [0, 0, 0]],\n",
      "\n",
      "         [[3, 4, 5],\n",
      "          [9, 9, 9]]]]) torch.Size([2, 2, 2, 3])\n"
     ]
    }
   ],
   "source": [
    "t1 = torch.stack([x, y], dim=0) # 在dim 0上堆，shape的dim 1,2大小不变\n",
    "t2 = torch.stack([x, y], dim=1) # 在dim 1上堆，shape的dim 0,2大小不变\n",
    "t3 = torch.stack([x, y], dim=2) # 在dim 2上堆，shape的dim 1,2大小不变\n",
    "print('在dim 0上堆:\\n', t1, t1.shape)\n",
    "print('在dim 1上堆:\\n', t2, t2.shape)\n",
    "print('在dim 2上堆:\\n', t3, t3.shape)"
   ]
  },
  {
   "cell_type": "markdown",
   "id": "5a926423",
   "metadata": {},
   "source": [
    "### 2.3 tensor.repeat(): 重复堆叠tensor.类似numpy.tile\n",
    "- <font color=red>repeat会copy data</font>\n",
    "- 参数数量(number)决定在多少个维度上做堆叠，参数个数可以大于tensor维数\\\n",
    "- 每个参数值(value)指定对应维度的堆叠次数\\\n",
    "- 如tensor有d维，后d个参数指定d维上堆叠的次数，其他参数决定前序扩张维度上的堆叠次数"
   ]
  },
  {
   "cell_type": "code",
   "execution_count": 13,
   "id": "0f9f68e2",
   "metadata": {
    "ExecuteTime": {
     "end_time": "2024-08-04T09:40:46.064414Z",
     "start_time": "2024-08-04T09:40:46.059899Z"
    }
   },
   "outputs": [
    {
     "data": {
      "text/plain": [
       "(tensor([1, 2, 3, 1, 2, 3, 1, 2, 3]), torch.Size([9]))"
      ]
     },
     "execution_count": 13,
     "metadata": {},
     "output_type": "execute_result"
    }
   ],
   "source": [
    "x = torch.tensor([1, 2, 3])  # dim=1, shape=(n,)\n",
    "y0 = x.repeat(3)\n",
    "y0, y0.shape"
   ]
  },
  {
   "cell_type": "code",
   "execution_count": 14,
   "id": "8ce9ae7e",
   "metadata": {
    "ExecuteTime": {
     "end_time": "2024-08-04T09:40:46.069795Z",
     "start_time": "2024-08-04T09:40:46.065587Z"
    }
   },
   "outputs": [
    {
     "data": {
      "text/plain": [
       "(tensor([[1, 2, 3, 1, 2, 3],\n",
       "         [1, 2, 3, 1, 2, 3],\n",
       "         [1, 2, 3, 1, 2, 3]]),\n",
       " torch.Size([3, 6]))"
      ]
     },
     "execution_count": 14,
     "metadata": {},
     "output_type": "execute_result"
    }
   ],
   "source": [
    "y1 = x.repeat(3, 2)          # dim=2, shape=(3, 2*n)\n",
    "y1, y1.shape"
   ]
  },
  {
   "cell_type": "code",
   "execution_count": 15,
   "id": "114f09ac",
   "metadata": {
    "ExecuteTime": {
     "end_time": "2024-08-04T09:40:46.075194Z",
     "start_time": "2024-08-04T09:40:46.071106Z"
    }
   },
   "outputs": [
    {
     "data": {
      "text/plain": [
       "(tensor([[[1, 2, 3, 1, 2, 3]],\n",
       " \n",
       "         [[1, 2, 3, 1, 2, 3]]]),\n",
       " torch.Size([2, 1, 6]))"
      ]
     },
     "execution_count": 15,
     "metadata": {},
     "output_type": "execute_result"
    }
   ],
   "source": [
    "y2 = x.repeat(2, 1, 2)       # dim=3, shape=(2, 1, 2*n)\n",
    "y2, y2.shape"
   ]
  },
  {
   "cell_type": "code",
   "execution_count": 16,
   "id": "614127e3",
   "metadata": {
    "ExecuteTime": {
     "end_time": "2024-08-04T09:40:46.081974Z",
     "start_time": "2024-08-04T09:40:46.076572Z"
    }
   },
   "outputs": [
    {
     "name": "stdout",
     "output_type": "stream",
     "text": [
      "tensor([[1, 2, 0, 1, 2, 0],\n",
      "        [5, 6, 7, 5, 6, 7],\n",
      "        [1, 2, 0, 1, 2, 0],\n",
      "        [5, 6, 7, 5, 6, 7],\n",
      "        [1, 2, 0, 1, 2, 0],\n",
      "        [5, 6, 7, 5, 6, 7]]) torch.Size([6, 6])\n",
      "tensor([[[1, 2, 0, 1, 2, 0, 1, 2, 0],\n",
      "         [5, 6, 7, 5, 6, 7, 5, 6, 7],\n",
      "         [1, 2, 0, 1, 2, 0, 1, 2, 0],\n",
      "         [5, 6, 7, 5, 6, 7, 5, 6, 7]],\n",
      "\n",
      "        [[1, 2, 0, 1, 2, 0, 1, 2, 0],\n",
      "         [5, 6, 7, 5, 6, 7, 5, 6, 7],\n",
      "         [1, 2, 0, 1, 2, 0, 1, 2, 0],\n",
      "         [5, 6, 7, 5, 6, 7, 5, 6, 7]]]) torch.Size([2, 4, 9])\n",
      "tensor([[[[1, 2, 0],\n",
      "          [5, 6, 7]],\n",
      "\n",
      "         [[1, 2, 0],\n",
      "          [5, 6, 7]]],\n",
      "\n",
      "\n",
      "        [[[1, 2, 0],\n",
      "          [5, 6, 7]],\n",
      "\n",
      "         [[1, 2, 0],\n",
      "          [5, 6, 7]]]]) torch.Size([2, 2, 2, 3])\n"
     ]
    }
   ],
   "source": [
    "x = torch.tensor([[1, 2, 0], \n",
    "                  [5, 6, 7]])  # dim=d=2, shape=(m, n)=(2, 3)\n",
    "y1 = x.repeat(3, 2)                       # dim=2, shape=(3*m, 2*n)\n",
    "y2 = x.repeat(2, 2, 3)                    # dim=3, shape=(2, 2*m, 3*n)\n",
    "y3 = x.repeat(2, 2, 1, 1)                 # dim=4, shape=(2, 2, 1*m, 1*n)\n",
    "print(y1, y1.shape)\n",
    "print(y2, y2.shape)\n",
    "print(y3, y3.shape)"
   ]
  },
  {
   "cell_type": "markdown",
   "id": "b954bc0e",
   "metadata": {},
   "source": [
    "### 2.4 tensor.repeat_interleave(\\<tensor>, \\<n>, dim=?)\n",
    "- 不指定参数dim=？时，输出会被flattened成1维\\\n",
    "- 参数dim决定元素在哪个维度上重复，n决定重复次数\n",
    "- 第2个参数指定repeat的次数，如果是int，就是每个元素重复次数；如果是tensor，那么tensor的长度必须等于input tensor的长度，每个tensor的值决定input tensor中每个元素重复多少次"
   ]
  },
  {
   "cell_type": "code",
   "execution_count": 17,
   "id": "36019354",
   "metadata": {
    "ExecuteTime": {
     "end_time": "2024-08-04T09:40:46.087284Z",
     "start_time": "2024-08-04T09:40:46.083318Z"
    }
   },
   "outputs": [
    {
     "name": "stdout",
     "output_type": "stream",
     "text": [
      "flattened, 重复2次: tensor([1, 1, 2, 2, 3, 3, 4, 4, 5, 5, 6, 6])\n"
     ]
    }
   ],
   "source": [
    "x = torch.tensor([[1, 2], [3, 4], [5, 6]])\n",
    "\n",
    "y1 = x.repeat_interleave(2)\n",
    "print('flattened, 重复2次:',y1)"
   ]
  },
  {
   "cell_type": "code",
   "execution_count": 18,
   "id": "57736876",
   "metadata": {
    "ExecuteTime": {
     "end_time": "2024-08-04T09:40:46.092870Z",
     "start_time": "2024-08-04T09:40:46.088631Z"
    }
   },
   "outputs": [
    {
     "name": "stdout",
     "output_type": "stream",
     "text": [
      "沿dim0，重复2次: \n",
      " tensor([[1, 2],\n",
      "        [1, 2],\n",
      "        [3, 4],\n",
      "        [3, 4],\n",
      "        [5, 6],\n",
      "        [5, 6]])\n",
      "沿dim1，重复3次: \n",
      " tensor([[1, 1, 1, 2, 2, 2],\n",
      "        [3, 3, 3, 4, 4, 4],\n",
      "        [5, 5, 5, 6, 6, 6]])\n"
     ]
    }
   ],
   "source": [
    "y3 = x.repeat_interleave(2, dim=0)\n",
    "print('沿dim0，重复2次:','\\n', y3)\n",
    "y4 = x.repeat_interleave(3, dim=1)\n",
    "print('沿dim1，重复3次:','\\n', y4)"
   ]
  },
  {
   "cell_type": "code",
   "execution_count": 19,
   "id": "7b01d6e3",
   "metadata": {
    "ExecuteTime": {
     "end_time": "2024-08-04T09:40:46.099125Z",
     "start_time": "2024-08-04T09:40:46.094252Z"
    }
   },
   "outputs": [
    {
     "data": {
      "text/plain": [
       "tensor([[1, 2],\n",
       "        [3, 4],\n",
       "        [3, 4],\n",
       "        [5, 6]])"
      ]
     },
     "execution_count": 19,
     "metadata": {},
     "output_type": "execute_result"
    }
   ],
   "source": [
    "# 沿dim0，分别重复1， 2， 1次\n",
    "y5 = x.repeat_interleave(torch.tensor([1, 2, 1]), dim=0)\n",
    "y5"
   ]
  }
 ],
 "metadata": {
  "kernelspec": {
   "display_name": "Python [conda env:231n] *",
   "language": "python",
   "name": "conda-env-231n-py"
  },
  "language_info": {
   "codemirror_mode": {
    "name": "ipython",
    "version": 3
   },
   "file_extension": ".py",
   "mimetype": "text/x-python",
   "name": "python",
   "nbconvert_exporter": "python",
   "pygments_lexer": "ipython3",
   "version": "3.10.12"
  }
 },
 "nbformat": 4,
 "nbformat_minor": 5
}
