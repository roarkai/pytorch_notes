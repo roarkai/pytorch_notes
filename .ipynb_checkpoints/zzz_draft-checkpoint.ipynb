{
 "cells": [
  {
   "cell_type": "code",
   "execution_count": 1,
   "id": "f37dfbb5",
   "metadata": {
    "ExecuteTime": {
     "end_time": "2024-08-08T13:12:29.751740Z",
     "start_time": "2024-08-08T13:12:28.342248Z"
    }
   },
   "outputs": [],
   "source": [
    "import torch\n",
    "import math\n",
    "import torch.nn as nn\n",
    "import torchviz\n",
    "# 配置\n",
    "device = torch.device('cuda')\n",
    "dtype = torch.float"
   ]
  },
  {
   "cell_type": "code",
   "execution_count": 28,
   "id": "60840737",
   "metadata": {
    "ExecuteTime": {
     "end_time": "2024-08-07T06:22:48.091955Z",
     "start_time": "2024-08-07T06:22:48.088526Z"
    },
    "scrolled": false
   },
   "outputs": [],
   "source": [
    "a = torch.tensor([2., 3.], requires_grad=True)\n",
    "b = torch.tensor([6., 4.], requires_grad=True)\n",
    "Q = 3 * a ** 3 - torch.sin(b)\n",
    "Q = Q.sum()\n",
    "\n",
    "# torchviz.make_dot(Q, {\"a\":a, \"b\":b})"
   ]
  },
  {
   "cell_type": "code",
   "execution_count": 42,
   "id": "660003b4",
   "metadata": {
    "ExecuteTime": {
     "end_time": "2024-08-07T14:17:34.368245Z",
     "start_time": "2024-08-07T14:17:34.362581Z"
    }
   },
   "outputs": [
    {
     "name": "stdout",
     "output_type": "stream",
     "text": [
      "None\n"
     ]
    }
   ],
   "source": [
    "a = torch.tensor([0., 0., 0.], requires_grad=True)\n",
    "isinstance(a.grad_fn, torch.autograd.graph.Node)\n",
    "print(a.grad_fn)"
   ]
  },
  {
   "cell_type": "code",
   "execution_count": 39,
   "id": "c7d020b4",
   "metadata": {
    "ExecuteTime": {
     "end_time": "2024-08-07T14:16:39.041734Z",
     "start_time": "2024-08-07T14:16:39.037660Z"
    }
   },
   "outputs": [
    {
     "name": "stdout",
     "output_type": "stream",
     "text": [
      "CloneBackward0\n"
     ]
    }
   ],
   "source": [
    "b = a.clone()\n",
    "isinstance(b.grad_fn, torch.autograd.graph.Node)\n",
    "print(b.grad_fn.name())"
   ]
  },
  {
   "cell_type": "code",
   "execution_count": 5,
   "id": "427d2c19",
   "metadata": {
    "ExecuteTime": {
     "end_time": "2024-08-07T01:47:10.177856Z",
     "start_time": "2024-08-07T01:47:10.171303Z"
    }
   },
   "outputs": [
    {
     "name": "stdout",
     "output_type": "stream",
     "text": [
      "137211935143104\n",
      "137211935143104\n",
      "137211936973952\n"
     ]
    },
    {
     "data": {
      "text/plain": [
       "tensor([[1., 1., 1.],\n",
       "        [1., 1., 1.]])"
      ]
     },
     "execution_count": 5,
     "metadata": {},
     "output_type": "execute_result"
    }
   ],
   "source": [
    "def foo(x):\n",
    "    print(id(x))\n",
    "    x = x*2\n",
    "    print(id(x))\n",
    "\n",
    "a = torch.ones(2, 3)\n",
    "print(id(a))\n",
    "foo(a)\n",
    "a"
   ]
  },
  {
   "cell_type": "code",
   "execution_count": 4,
   "id": "9d9cabb5",
   "metadata": {
    "ExecuteTime": {
     "end_time": "2024-08-08T13:13:30.743423Z",
     "start_time": "2024-08-08T13:13:30.738022Z"
    }
   },
   "outputs": [
    {
     "name": "stdout",
     "output_type": "stream",
     "text": [
      "None\n"
     ]
    }
   ],
   "source": [
    "v = torch.empty((2, 3))\n",
    "print(v.grad_fn)"
   ]
  },
  {
   "cell_type": "code",
   "execution_count": 5,
   "id": "7041ab00",
   "metadata": {
    "ExecuteTime": {
     "end_time": "2024-08-08T13:14:21.422600Z",
     "start_time": "2024-08-08T13:14:21.407192Z"
    }
   },
   "outputs": [
    {
     "name": "stdout",
     "output_type": "stream",
     "text": [
      "<MulBackward0 object at 0x784d03e61e40>\n"
     ]
    }
   ],
   "source": [
    "x = torch.tensor([0.5, 0.5], requires_grad=True)\n",
    "v = x[0] * x[1]\n",
    "print(v.grad_fn)"
   ]
  },
  {
   "cell_type": "code",
   "execution_count": null,
   "id": "f230d36e",
   "metadata": {},
   "outputs": [],
   "source": []
  },
  {
   "cell_type": "code",
   "execution_count": null,
   "id": "e7621fb6",
   "metadata": {},
   "outputs": [],
   "source": []
  }
 ],
 "metadata": {
  "kernelspec": {
   "display_name": "Python [conda env:231n] *",
   "language": "python",
   "name": "conda-env-231n-py"
  },
  "language_info": {
   "codemirror_mode": {
    "name": "ipython",
    "version": 3
   },
   "file_extension": ".py",
   "mimetype": "text/x-python",
   "name": "python",
   "nbconvert_exporter": "python",
   "pygments_lexer": "ipython3",
   "version": "3.10.12"
  }
 },
 "nbformat": 4,
 "nbformat_minor": 5
}
