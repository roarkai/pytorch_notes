{
 "cells": [
  {
   "cell_type": "markdown",
   "id": "23724491",
   "metadata": {},
   "source": [
    "# Build model\n",
    "## 什么是pytorch中的module,pytorch提供了哪些module类型？\n",
    "· module是构建神经网络的基础模块。pytorch提供了一个modules库，也支持自定义modules。用他们可以很容易地构建多层神经网络。具体实现来看，<font color=green>**namespace**</font> **torch.nn**提供了layers, containers和utilities三种主要的module类型，以及tensor类型的nn.Parameter作为modules parameter。\n",
    "1. <font color=lightblue>**Layers：**</font>NN通过layers对数据进行操作。pytorch用modules来表达这些layers,比如conv, affine, pooling, normalization, transformer和loss functions等\n",
    "2. <font color=lightblue>**containers：**</font>有3类container，nn.Module，nn.Sequential和holders of submodules。\n",
    "(1)**torch.nn.Module**。它是所有NN modules的base class，pytorch中所有的module都是**nn.Module**的子类\\\n",
    "(2)**torch.nn.Sequential**：以序列形式将1个或多个module顺序排列，体现了module的nestable\\\n",
    "(3)holders of submodules,其中：**nn.ModuleList，nn.ModuleDict**分别是以list和dictionary类型存储的module序列。**nn.ParamterList和nn.ParameterDict**分别是以list和dictionary形式存储的参数。\n",
    "3. <font color=lightblue>**utilities：**</font>把一些数据处理的函数以modules的形式表达。<font color=red>【具体待使用后描述？？？】</font>\n",
    "\n",
    "## module的特点\n",
    "1. module和autograd system一起工作：modules使optimizer update参数非常方便<font color=red>【理解？？？】</font>\n",
    "2. pytorch中的module可以nest：每个神经网络模型自身都是一个module，该module又由其他modules(layers)构成。这种nest structure可以很方便的构造复杂的网络架构。<font color=red>【理解？？？】</font>\n",
    "3. **nn.Module**的子类会自动track参数，可以用两个method来查看：parameters()和named_parameters()\n",
    "4. 很容易与Transform配合使用：modules的save和restore都很直接，在CPU/GPU之间移动，做prune，quantize和其他很多操作都很方便"
   ]
  },
  {
   "cell_type": "code",
   "execution_count": 1,
   "id": "13ea8140",
   "metadata": {
    "ExecuteTime": {
     "end_time": "2023-10-20T04:54:06.337540Z",
     "start_time": "2023-10-20T04:54:04.659654Z"
    }
   },
   "outputs": [
    {
     "name": "stdout",
     "output_type": "stream",
     "text": [
      "Using cuda device\n"
     ]
    }
   ],
   "source": [
    "import os\n",
    "import torch\n",
    "import torch.nn as nn           # for torch.nn.Module\n",
    "import torch.nn.functional as F # for the activation function\n",
    "from torch.utils.data import DataLoader\n",
    "from torchvision import datasets, transforms\n",
    "\n",
    "device = (\"cuda\" if torch.cuda.is_available() else \"cpu\")\n",
    "print(f\"Using {device} device\")"
   ]
  },
  {
   "cell_type": "code",
   "execution_count": 11,
   "id": "e63c55dd",
   "metadata": {
    "ExecuteTime": {
     "end_time": "2023-10-20T04:54:21.494836Z",
     "start_time": "2023-10-20T04:54:21.491781Z"
    }
   },
   "outputs": [],
   "source": [
    "m = MyLinear(4, 3)"
   ]
  },
  {
   "cell_type": "markdown",
   "id": "70a0e4f0",
   "metadata": {},
   "source": [
    "## 定义一个NN\n",
    "1. 自定义model也得定义为**nn.Module**的子类\n",
    "2. 每个子类都必须定义\\__init__和\\__forward__两个method。模型对input data的操作都放在\\__forward__中"
   ]
  },
  {
   "cell_type": "code",
   "execution_count": 2,
   "id": "c2951b8c",
   "metadata": {
    "ExecuteTime": {
     "end_time": "2023-10-20T04:54:06.343763Z",
     "start_time": "2023-10-20T04:54:06.339994Z"
    }
   },
   "outputs": [],
   "source": [
    "## 自定义一个简单的Module\n",
    "class MyLinear(nn.Module):  # 必须是nn.Module的子类\n",
    "  def __init__(self, in_features, out_features):\n",
    "    super().__init__()\n",
    "\n",
    "    # 参数定义成nn.Parameter的实例，此时autograd会自动tracking并让optimizer在迭代时update\n",
    "    self.weight = nn.Parameter(torch.randn(in_features, out_features))\n",
    "    self.bias = nn.Parameter(torch.randn(out_features))\n",
    "\n",
    "  # 定义forward函数，指定要执行的computation，用的operation是nn.autograd.Function的子类的实例\n",
    "  # 这些nn.autograd.Function的子类可以是pytorch已经定义好的，也可以是自定义的。\n",
    "  # nn.autograd.Function的子类都定义好了forward()和backward() method\n",
    "  # 执行这些operation时，autograd system会自动处理backward pass，因此不用再手动定义backward\n",
    "  def forward(self, input):\n",
    "    return input @ self.weight + self.bias"
   ]
  },
  {
   "cell_type": "code",
   "execution_count": 3,
   "id": "74cfdaed",
   "metadata": {
    "ExecuteTime": {
     "end_time": "2023-10-20T04:54:06.349673Z",
     "start_time": "2023-10-20T04:54:06.345213Z"
    }
   },
   "outputs": [],
   "source": [
    "# 自定义NN\n",
    "class RKNet(nn.Module):\n",
    "    def __init__(self):\n",
    "        super().__init__()\n",
    "        self.flatten = nn.Flatten()\n",
    "        self.linear_relu_stack = nn.Sequential(\n",
    "            nn.Linear(28*28, 512),\n",
    "            nn.ReLU(),\n",
    "            nn.Linear(512, 512),\n",
    "            nn.ReLU(),\n",
    "            nn.Linear(512, 10),\n",
    "        )\n",
    "\n",
    "    def forward(self, x):\n",
    "        x = self.flatten(x)\n",
    "        logits = self.linear_relu_stack(x)\n",
    "        return logits"
   ]
  },
  {
   "cell_type": "code",
   "execution_count": 4,
   "id": "15acc066",
   "metadata": {
    "ExecuteTime": {
     "end_time": "2023-10-20T04:54:06.605455Z",
     "start_time": "2023-10-20T04:54:06.351853Z"
    }
   },
   "outputs": [
    {
     "name": "stdout",
     "output_type": "stream",
     "text": [
      "RKNet(\n",
      "  (flatten): Flatten(start_dim=1, end_dim=-1)\n",
      "  (linear_relu_stack): Sequential(\n",
      "    (0): Linear(in_features=784, out_features=512, bias=True)\n",
      "    (1): ReLU()\n",
      "    (2): Linear(in_features=512, out_features=512, bias=True)\n",
      "    (3): ReLU()\n",
      "    (4): Linear(in_features=512, out_features=10, bias=True)\n",
      "  )\n",
      ")\n"
     ]
    }
   ],
   "source": [
    "# 创建自定义NN的实例\n",
    "model = RKNet().to(device)  # model要建在gpu上\n",
    "print(model)                # 打印model的structure"
   ]
  },
  {
   "cell_type": "code",
   "execution_count": 5,
   "id": "cb7a088f",
   "metadata": {
    "ExecuteTime": {
     "end_time": "2023-10-20T04:54:06.689074Z",
     "start_time": "2023-10-20T04:54:06.607471Z"
    }
   },
   "outputs": [
    {
     "name": "stdout",
     "output_type": "stream",
     "text": [
      "predict class:tensor([3], device='cuda:0')\n"
     ]
    }
   ],
   "source": [
    "X = torch.rand(1, 28, 28, device=device)\n",
    "scores = model(X)\n",
    "\n",
    "prob = nn.Softmax(dim=1)(scores) # dim决定softmax求解的维度\n",
    "y_pred = prob.argmax(1)\n",
    "print(f'predict class:{y_pred}')"
   ]
  },
  {
   "cell_type": "markdown",
   "id": "1337005f",
   "metadata": {},
   "source": [
    "## 典型layers"
   ]
  },
  {
   "cell_type": "markdown",
   "id": "90d35d19",
   "metadata": {},
   "source": [
    "### nn.Flatten\n",
    "1. 参数：torch.nn.Flatten(start_dim=1, end_dim=-1)\n",
    "2. 压缩[start_dim, end_dim]范围的dims\n",
    "2. 默认将输入的data压成2维数据，保留原第一维，压缩剩下的维度，比如输出(N, D)"
   ]
  },
  {
   "cell_type": "code",
   "execution_count": 6,
   "id": "d741eb78",
   "metadata": {
    "ExecuteTime": {
     "end_time": "2023-10-20T04:54:06.694583Z",
     "start_time": "2023-10-20T04:54:06.691101Z"
    }
   },
   "outputs": [
    {
     "name": "stdout",
     "output_type": "stream",
     "text": [
      "torch.Size([3, 28, 28])\n",
      "torch.Size([3, 784])\n",
      "torch.Size([84, 28])\n"
     ]
    }
   ],
   "source": [
    "input_image = torch.rand(3,28,28)\n",
    "print(input_image.size())\n",
    "\n",
    "flatten = nn.Flatten()\n",
    "flat_image = flatten(input_image)\n",
    "print(flat_image.size())\n",
    "\n",
    "flatten2 = nn.Flatten(0, 1)  # 压缩[0, 1]范围的dims\n",
    "flat_image2 = flatten2(input_image)\n",
    "print(flat_image2.size())"
   ]
  },
  {
   "cell_type": "markdown",
   "id": "15422dc0",
   "metadata": {},
   "source": [
    "### nn.Linear\n",
    "1. affine layer\n",
    "2. 参数：torch.nn.Linear(in_features, out_features, bias=True, device=None, dtype=None)\n",
    "   · in_features (int) – size of each input sample\n",
    "   · out_features (int) – size of each output sample\n",
    "   · bias (bool)取False时, 就不会learn bias. Default: True"
   ]
  },
  {
   "cell_type": "code",
   "execution_count": 7,
   "id": "d2975059",
   "metadata": {
    "ExecuteTime": {
     "end_time": "2023-10-20T04:54:06.705291Z",
     "start_time": "2023-10-20T04:54:06.696275Z"
    }
   },
   "outputs": [
    {
     "name": "stdout",
     "output_type": "stream",
     "text": [
      "torch.Size([3, 6])\n"
     ]
    }
   ],
   "source": [
    "layer1 = nn.Linear(in_features=28*28, out_features=6)\n",
    "hidden1 = layer1(flat_image)\n",
    "print(hidden1.size())"
   ]
  },
  {
   "cell_type": "markdown",
   "id": "107dfd54",
   "metadata": {},
   "source": [
    "### nn.ReLU"
   ]
  },
  {
   "cell_type": "code",
   "execution_count": 8,
   "id": "a9664ae1",
   "metadata": {
    "ExecuteTime": {
     "end_time": "2023-10-20T04:54:06.716086Z",
     "start_time": "2023-10-20T04:54:06.706696Z"
    }
   },
   "outputs": [
    {
     "name": "stdout",
     "output_type": "stream",
     "text": [
      "Before ReLU:\n",
      " tensor([[ 0.1400,  0.3509,  0.1541, -0.2322, -0.1627,  0.6068],\n",
      "        [-0.1102,  0.2422,  0.0933, -0.0575,  0.2145,  0.6366],\n",
      "        [ 0.1104,  0.0492, -0.2537,  0.0920, -0.2633,  0.5453]],\n",
      "       grad_fn=<AddmmBackward0>)\n",
      "\n",
      "After ReLU:\n",
      " tensor([[0.1400, 0.3509, 0.1541, 0.0000, 0.0000, 0.6068],\n",
      "        [0.0000, 0.2422, 0.0933, 0.0000, 0.2145, 0.6366],\n",
      "        [0.1104, 0.0492, 0.0000, 0.0920, 0.0000, 0.5453]],\n",
      "       grad_fn=<ReluBackward0>)\n"
     ]
    }
   ],
   "source": [
    "print(f\"Before ReLU:\\n {hidden1}\\n\")\n",
    "hidden1 = nn.ReLU()(hidden1)\n",
    "print(f\"After ReLU:\\n {hidden1}\")"
   ]
  },
  {
   "cell_type": "markdown",
   "id": "377c6442",
   "metadata": {},
   "source": [
    "### nn.Sequential\n",
    "1. an ordered container of modules.\n",
    "2. 数据会按照Sequential中定义的layer顺序做处理"
   ]
  },
  {
   "cell_type": "code",
   "execution_count": 9,
   "id": "88abdeb3",
   "metadata": {
    "ExecuteTime": {
     "end_time": "2023-10-20T04:54:06.722972Z",
     "start_time": "2023-10-20T04:54:06.717165Z"
    }
   },
   "outputs": [],
   "source": [
    "seq_modules = nn.Sequential(\n",
    "    flatten,\n",
    "    layer1,\n",
    "    nn.ReLU(),\n",
    "    nn.Linear(6, 10)\n",
    ")\n",
    "input_image = torch.rand(3,28,28)\n",
    "scores = seq_modules(input_image)\n",
    "\n",
    "softmax = nn.Softmax(dim=1)\n",
    "pred_probab = softmax(scores)"
   ]
  },
  {
   "cell_type": "markdown",
   "id": "f4d1ff4e",
   "metadata": {},
   "source": [
    "## 模型参数\n",
    "1. NN中的一些layers有参数，比如有的layers在training后都有weights和bias\n",
    "2. 把model定义为nn.Module的子类后，nn.Module能自动track所有model object中定义的fields，而参数可以通过model的parameters()和named_parameters()两种method来获取。"
   ]
  },
  {
   "cell_type": "code",
   "execution_count": 10,
   "id": "f185b9d3",
   "metadata": {
    "ExecuteTime": {
     "end_time": "2023-10-20T04:54:06.830581Z",
     "start_time": "2023-10-20T04:54:06.726349Z"
    }
   },
   "outputs": [
    {
     "name": "stdout",
     "output_type": "stream",
     "text": [
      "Model structure: RKNet(\n",
      "  (flatten): Flatten(start_dim=1, end_dim=-1)\n",
      "  (linear_relu_stack): Sequential(\n",
      "    (0): Linear(in_features=784, out_features=512, bias=True)\n",
      "    (1): ReLU()\n",
      "    (2): Linear(in_features=512, out_features=512, bias=True)\n",
      "    (3): ReLU()\n",
      "    (4): Linear(in_features=512, out_features=10, bias=True)\n",
      "  )\n",
      ")\n",
      "\n",
      "\n",
      "Layer: linear_relu_stack.0.weight | Size: torch.Size([512, 784]) | Values : tensor([[ 0.0321, -0.0283,  0.0348,  ...,  0.0050,  0.0042,  0.0318],\n",
      "        [-0.0351, -0.0190, -0.0015,  ..., -0.0355, -0.0275,  0.0003]],\n",
      "       device='cuda:0', grad_fn=<SliceBackward0>) \n",
      "\n",
      "Layer: linear_relu_stack.0.bias | Size: torch.Size([512]) | Values : tensor([ 0.0079, -0.0152], device='cuda:0', grad_fn=<SliceBackward0>) \n",
      "\n",
      "Layer: linear_relu_stack.2.weight | Size: torch.Size([512, 512]) | Values : tensor([[ 0.0342, -0.0194,  0.0037,  ..., -0.0280,  0.0307,  0.0070],\n",
      "        [-0.0222,  0.0056, -0.0250,  ..., -0.0107,  0.0178, -0.0075]],\n",
      "       device='cuda:0', grad_fn=<SliceBackward0>) \n",
      "\n",
      "Layer: linear_relu_stack.2.bias | Size: torch.Size([512]) | Values : tensor([0.0199, 0.0342], device='cuda:0', grad_fn=<SliceBackward0>) \n",
      "\n",
      "Layer: linear_relu_stack.4.weight | Size: torch.Size([10, 512]) | Values : tensor([[ 0.0008, -0.0163,  0.0146,  ...,  0.0187, -0.0381, -0.0208],\n",
      "        [-0.0076, -0.0257, -0.0168,  ...,  0.0111, -0.0259, -0.0395]],\n",
      "       device='cuda:0', grad_fn=<SliceBackward0>) \n",
      "\n",
      "Layer: linear_relu_stack.4.bias | Size: torch.Size([10]) | Values : tensor([-0.0301,  0.0415], device='cuda:0', grad_fn=<SliceBackward0>) \n",
      "\n"
     ]
    }
   ],
   "source": [
    "print(f\"Model structure: {model}\\n\\n\")\n",
    "\n",
    "for name, param in model.named_parameters():\n",
    "    print(f\"Layer: {name} | Size: {param.size()} | Values : {param[:2]} \\n\")"
   ]
  }
 ],
 "metadata": {
  "kernelspec": {
   "display_name": "Python [conda env:231n] *",
   "language": "python",
   "name": "conda-env-231n-py"
  },
  "language_info": {
   "codemirror_mode": {
    "name": "ipython",
    "version": 3
   },
   "file_extension": ".py",
   "mimetype": "text/x-python",
   "name": "python",
   "nbconvert_exporter": "python",
   "pygments_lexer": "ipython3",
   "version": "3.10.12"
  }
 },
 "nbformat": 4,
 "nbformat_minor": 5
}
