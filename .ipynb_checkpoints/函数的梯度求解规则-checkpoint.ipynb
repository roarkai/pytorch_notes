{
 "cells": [
  {
   "cell_type": "markdown",
   "id": "8d320e05",
   "metadata": {},
   "source": [
    "# 函数的梯度求解规则\n",
    "· <font color=red>\"developer notes\"</font>\n",
    "1. 如果函数可导，直接在current point求导。\n",
    "2. 如果该函数（至少在局部）是凸的，用<font color=red>最小范数的次梯度(sub-gradient of minimum norm)，它是最陡下降方向</font>。\n",
    "3. 如果该函数（至少在局部）是凹的，用<font color=red>最小范数的超梯度（用 -f(x) 在previous point）。\n",
    "4. 如果该函数有定义，在当前点通过连续性定义梯度（这里可能存在inf，例如对于sqrt(0)）。如果存在多个可能的值，会任选一个。\n",
    "5. 如果函数在current point无定义（如sqrt(-1)，log(-1)或函数input是NaN），则梯度的自动给出的值是任意的（也可能报错，但是不能保证一定会报错）。大多数函数将使用NaN作为梯度，但出于性能原因，也可能用其他值（例如log(-1)）。\n",
    "6. 如果该函数不是确定性映射（not a deterministic mapping，即它不是数学函数），它将被标记为不可导。如果需要用它计算tensor的梯度，在backward的时候会报错。"
   ]
  }
 ],
 "metadata": {
  "kernelspec": {
   "display_name": "Python [conda env:231n] *",
   "language": "python",
   "name": "conda-env-231n-py"
  },
  "language_info": {
   "codemirror_mode": {
    "name": "ipython",
    "version": 3
   },
   "file_extension": ".py",
   "mimetype": "text/x-python",
   "name": "python",
   "nbconvert_exporter": "python",
   "pygments_lexer": "ipython3",
   "version": "3.10.12"
  }
 },
 "nbformat": 4,
 "nbformat_minor": 5
}
