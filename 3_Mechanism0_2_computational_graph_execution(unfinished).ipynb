{
 "cells": [
  {
   "cell_type": "code",
   "execution_count": 1,
   "id": "28eed91f",
   "metadata": {
    "ExecuteTime": {
     "end_time": "2024-08-11T10:13:59.852804Z",
     "start_time": "2024-08-11T10:13:58.473255Z"
    }
   },
   "outputs": [],
   "source": [
    "import torch\n",
    "import torch.nn as nn\n",
    "from torchviz import make_dot"
   ]
  },
  {
   "cell_type": "markdown",
   "id": "fe7ca79a",
   "metadata": {},
   "source": [
    "# how computational graph is executed\n",
    "参考：\n",
    "1. How Computational Graphs are Constructed in PyTorch https://pytorch.org/blog/computational-graphs-constructed-in-pytorch/\n",
    "2. How Computational Graphs are Executed in PyTorch\n",
    "https://pytorch.org/blog/how-computational-graphs-are-executed-in-pytorch/\n",
    "3. pytorch internals http://blog.ezyang.com/category/pytorch/"
   ]
  },
  {
   "cell_type": "markdown",
   "id": "47e3fc73",
   "metadata": {},
   "source": [
    "## I. 执行计算图涉及的数据结构\n"
   ]
  },
  {
   "cell_type": "markdown",
   "id": "53bff0a5",
   "metadata": {},
   "source": [
    "#### I.1 GraphTask"
   ]
  },
  {
   "cell_type": "markdown",
   "id": "a30ed4d7",
   "metadata": {},
   "source": [
    "#### I.2 NodeTask"
   ]
  },
  {
   "cell_type": "markdown",
   "id": "f5ecbb63",
   "metadata": {},
   "source": [
    "#### I.3 GraphRoot"
   ]
  },
  {
   "cell_type": "markdown",
   "id": "11d48055",
   "metadata": {},
   "source": [
    "#### I.4 AccumulatedGrad"
   ]
  },
  {
   "cell_type": "markdown",
   "id": "cf95952c",
   "metadata": {},
   "source": [
    "## II. 执行"
   ]
  },
  {
   "cell_type": "markdown",
   "id": "750b9411",
   "metadata": {},
   "source": [
    "### II.1 Preparing the graph"
   ]
  },
  {
   "cell_type": "markdown",
   "id": "88c415e6",
   "metadata": {},
   "source": []
  },
  {
   "cell_type": "markdown",
   "id": "d23dfe60",
   "metadata": {},
   "source": [
    "### II.2 Graph Traverse和Node execution"
   ]
  },
  {
   "cell_type": "markdown",
   "id": "86c95b0a",
   "metadata": {},
   "source": []
  },
  {
   "cell_type": "markdown",
   "id": "5b741a78",
   "metadata": {},
   "source": [
    "### II.3 Thread initialization\n"
   ]
  },
  {
   "cell_type": "markdown",
   "id": "a9e306c6",
   "metadata": {},
   "source": []
  },
  {
   "cell_type": "markdown",
   "id": "fcf2e3c4",
   "metadata": {},
   "source": []
  },
  {
   "cell_type": "markdown",
   "id": "e666ee4f",
   "metadata": {},
   "source": []
  }
 ],
 "metadata": {
  "kernelspec": {
   "display_name": "Python 3 (ipykernel)",
   "language": "python",
   "name": "python3"
  },
  "language_info": {
   "codemirror_mode": {
    "name": "ipython",
    "version": 3
   },
   "file_extension": ".py",
   "mimetype": "text/x-python",
   "name": "python",
   "nbconvert_exporter": "python",
   "pygments_lexer": "ipython3",
   "version": "3.10.12"
  }
 },
 "nbformat": 4,
 "nbformat_minor": 5
}
