{
 "cells": [
  {
   "cell_type": "code",
   "execution_count": 1,
   "id": "f37dfbb5",
   "metadata": {
    "ExecuteTime": {
     "end_time": "2024-08-05T05:33:00.670916Z",
     "start_time": "2024-08-05T05:32:59.361620Z"
    }
   },
   "outputs": [],
   "source": [
    "import torch\n",
    "import math\n",
    "\n",
    "# 配置\n",
    "device = torch.device('cuda')\n",
    "dtype = torch.float"
   ]
  },
  {
   "cell_type": "code",
   "execution_count": 2,
   "id": "60840737",
   "metadata": {
    "ExecuteTime": {
     "end_time": "2024-08-05T05:33:00.920851Z",
     "start_time": "2024-08-05T05:33:00.673208Z"
    },
    "scrolled": true
   },
   "outputs": [],
   "source": [
    "# 用多项式拟合sin函数\n",
    "x = torch.linspace(-math.pi, math.pi, 2000, device=device, dtype=dtype)\n",
    "y = torch.sin(x)"
   ]
  },
  {
   "cell_type": "code",
   "execution_count": 3,
   "id": "20b4b718",
   "metadata": {
    "ExecuteTime": {
     "end_time": "2024-08-05T05:33:01.057710Z",
     "start_time": "2024-08-05T05:33:00.922501Z"
    }
   },
   "outputs": [
    {
     "data": {
      "text/plain": [
       "(tensor(-0.3048, device='cuda:0'),\n",
       " tensor(-1.2870, device='cuda:0'),\n",
       " tensor(0.1696, device='cuda:0'),\n",
       " tensor(1.3719, device='cuda:0'),\n",
       " torch.Size([]))"
      ]
     },
     "execution_count": 3,
     "metadata": {},
     "output_type": "execute_result"
    }
   ],
   "source": [
    "# 参数初始化\n",
    "torch.manual_seed(7)\n",
    "a = torch.randn((), device=device, dtype=dtype)\n",
    "b = torch.randn((), device=device, dtype=dtype)\n",
    "c = torch.randn((), device=device, dtype=dtype)\n",
    "d = torch.randn((), device=device, dtype=dtype)\n",
    "a, b, c, d, a.shape"
   ]
  },
  {
   "cell_type": "code",
   "execution_count": 4,
   "id": "d9548bc8",
   "metadata": {
    "ExecuteTime": {
     "end_time": "2024-08-05T05:33:01.696371Z",
     "start_time": "2024-08-05T05:33:01.059788Z"
    }
   },
   "outputs": [
    {
     "name": "stdout",
     "output_type": "stream",
     "text": [
      "377146.03125 \n",
      "\n",
      "2505.1455078125 \n",
      "\n",
      "1103.321044921875 \n",
      "\n",
      "488.8830871582031 \n",
      "\n",
      "219.47401428222656 \n",
      "\n",
      "101.30149841308594 \n",
      "\n",
      "49.443519592285156 \n",
      "\n",
      "26.674936294555664 \n",
      "\n",
      "16.672531127929688 \n",
      "\n",
      "12.275455474853516 \n",
      "\n"
     ]
    }
   ],
   "source": [
    "lr = 1e-6\n",
    "\n",
    "for i in range(2000):\n",
    "    y_pred = a + b*x + c*(x**2) + d*(x**3)\n",
    "    loss = ((y_pred - y)**2).sum().item()\n",
    "    \n",
    "    # 打印training loss\n",
    "    if i % 200 == 0:\n",
    "        print(loss, '\\n')\n",
    "    \n",
    "    # 计算梯度\n",
    "    grad_y_pred = 2 * (y_pred - y)\n",
    "    grad_a = grad_y_pred.sum()\n",
    "    grad_b = grad_y_pred @ x\n",
    "    grad_c = grad_y_pred @ (x**2)\n",
    "    grad_d = grad_y_pred @ (x**3)\n",
    "    \n",
    "    # 参数迭代\n",
    "    a -= lr * grad_a\n",
    "    b -= lr * grad_b\n",
    "    c -= lr * grad_c\n",
    "    d -= lr * grad_d"
   ]
  },
  {
   "cell_type": "code",
   "execution_count": 12,
   "id": "833cab92",
   "metadata": {
    "ExecuteTime": {
     "end_time": "2024-08-05T07:02:54.356864Z",
     "start_time": "2024-08-05T07:02:54.350799Z"
    }
   },
   "outputs": [
    {
     "data": {
      "text/plain": [
       "tensor([4, 4, 5, 5, 5, 5, 4, 5, 4, 5])"
      ]
     },
     "execution_count": 12,
     "metadata": {},
     "output_type": "execute_result"
    }
   ],
   "source": [
    "torch.randint(4, 6,(10,))"
   ]
  },
  {
   "cell_type": "code",
   "execution_count": 34,
   "id": "b7ca2dcb",
   "metadata": {
    "ExecuteTime": {
     "end_time": "2024-08-05T07:35:34.701791Z",
     "start_time": "2024-08-05T07:35:34.696470Z"
    }
   },
   "outputs": [
    {
     "name": "stdout",
     "output_type": "stream",
     "text": [
      "is :  range(4, 5)\n",
      "is :  range(4, 4)\n",
      "is :  range(4, 4)\n",
      "is :  range(4, 6)\n",
      "is :  range(4, 4)\n",
      "is :  range(4, 5)\n",
      "is :  range(4, 4)\n",
      "is :  range(4, 6)\n",
      "is :  range(4, 6)\n",
      "is :  range(4, 5)\n"
     ]
    }
   ],
   "source": [
    "import random\n",
    "for j in range(10):\n",
    "    i = range(4, random.randint(4, 6))\n",
    "    print('is : ', i)"
   ]
  },
  {
   "cell_type": "code",
   "execution_count": 35,
   "id": "766da682",
   "metadata": {
    "ExecuteTime": {
     "end_time": "2024-08-05T07:35:54.391766Z",
     "start_time": "2024-08-05T07:35:54.387517Z"
    }
   },
   "outputs": [],
   "source": [
    "for j in range(4, 4):\n",
    "    print(j)"
   ]
  }
 ],
 "metadata": {
  "kernelspec": {
   "display_name": "Python [conda env:231n] *",
   "language": "python",
   "name": "conda-env-231n-py"
  },
  "language_info": {
   "codemirror_mode": {
    "name": "ipython",
    "version": 3
   },
   "file_extension": ".py",
   "mimetype": "text/x-python",
   "name": "python",
   "nbconvert_exporter": "python",
   "pygments_lexer": "ipython3",
   "version": "3.10.12"
  }
 },
 "nbformat": 4,
 "nbformat_minor": 5
}
