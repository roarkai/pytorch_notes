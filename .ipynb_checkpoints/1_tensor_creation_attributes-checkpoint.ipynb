{
 "cells": [
  {
   "cell_type": "code",
   "execution_count": 1,
   "id": "ef76c569",
   "metadata": {
    "ExecuteTime": {
     "end_time": "2023-10-08T10:38:00.090593Z",
     "start_time": "2023-10-08T10:37:58.929513Z"
    }
   },
   "outputs": [],
   "source": [
    "import torch\n",
    "import numpy as np"
   ]
  },
  {
   "cell_type": "markdown",
   "id": "275fd7c5",
   "metadata": {},
   "source": [
    "## 新建Tensor"
   ]
  },
  {
   "cell_type": "code",
   "execution_count": 6,
   "id": "a178d58b",
   "metadata": {
    "ExecuteTime": {
     "end_time": "2023-10-08T10:38:00.124628Z",
     "start_time": "2023-10-08T10:38:00.121530Z"
    }
   },
   "outputs": [
    {
     "name": "stdout",
     "output_type": "stream",
     "text": [
      "torch.Size([3, 4]) torch.float32 cpu\n"
     ]
    }
   ],
   "source": [
    "# tensor的属性\n",
    "tensor = torch.rand(3,4)\n",
    "print(tensor.shape, tensor.dtype, tensor.device)"
   ]
  },
  {
   "cell_type": "code",
   "execution_count": 4,
   "id": "722853c7",
   "metadata": {
    "ExecuteTime": {
     "end_time": "2023-10-08T10:38:00.114873Z",
     "start_time": "2023-10-08T10:38:00.110227Z"
    }
   },
   "outputs": [
    {
     "name": "stdout",
     "output_type": "stream",
     "text": [
      "ones tensor with shape as x_data: tensor([[1, 1],\n",
      "        [1, 1]])\n",
      "tensor([[0.6211, 0.1491],\n",
      "        [0.5689, 0.5829]])\n"
     ]
    }
   ],
   "source": [
    "# 保留tensor的属性，改变value\n",
    "x_ones = torch.ones_like(x_data)\n",
    "print(f'ones tensor with shape as x_data:', x_ones)\n",
    "\n",
    "# x_rand = torch.rand_like(x_data) # 错，x_data原来的value是int，要override\n",
    "x_rand = torch.rand_like(x_data, dtype=torch.float)\n",
    "print(x_rand)"
   ]
  },
  {
   "cell_type": "code",
   "execution_count": 5,
   "id": "cfe1a607",
   "metadata": {
    "ExecuteTime": {
     "end_time": "2023-10-08T10:38:00.120229Z",
     "start_time": "2023-10-08T10:38:00.116140Z"
    }
   },
   "outputs": [
    {
     "name": "stdout",
     "output_type": "stream",
     "text": [
      "tensor([[1., 1., 1.],\n",
      "        [1., 1., 1.]]) \n",
      " tensor([[0., 0., 0.],\n",
      "        [0., 0., 0.]]) \n",
      " tensor([[0.5903, 0.8316, 0.5952],\n",
      "        [0.0036, 0.7440, 0.7259]])\n"
     ]
    }
   ],
   "source": [
    "# 根据指定的shape直接新建特殊值的tensor\n",
    "shape = (2, 3)\n",
    "ones = torch.ones(shape)\n",
    "zeros = torch.zeros(shape)\n",
    "rand = torch.rand(shape)   # [0, 1)均匀分布\n",
    "print(ones, '\\n', zeros, '\\n', rand)"
   ]
  },
  {
   "cell_type": "code",
   "execution_count": 2,
   "id": "568797f8",
   "metadata": {
    "ExecuteTime": {
     "end_time": "2023-10-08T10:38:00.095183Z",
     "start_time": "2023-10-08T10:38:00.092432Z"
    }
   },
   "outputs": [],
   "source": [
    "# 将python list转变成tensor类型\n",
    "data = [[1, 2],[3, 4]]\n",
    "x_data = torch.tensor(data)"
   ]
  },
  {
   "cell_type": "code",
   "execution_count": 3,
   "id": "5225523e",
   "metadata": {
    "ExecuteTime": {
     "end_time": "2023-10-08T10:38:00.108390Z",
     "start_time": "2023-10-08T10:38:00.096383Z"
    }
   },
   "outputs": [],
   "source": [
    "# 将np_array转变成tensor\n",
    "np_array = np.array(data)\n",
    "x_np = torch.tensor(np_array)"
   ]
  },
  {
   "cell_type": "markdown",
   "id": "bdcccce1",
   "metadata": {},
   "source": [
    "## 存储位置\n",
    "默认情况下，tensor是在cpu上创建的，用tensor.to()将tensor转移到gpu上。\n",
    "注意：在cpu和gpu之间做数据的迁移很耗费时间。"
   ]
  },
  {
   "cell_type": "code",
   "execution_count": 7,
   "id": "b6f3cc75",
   "metadata": {
    "ExecuteTime": {
     "end_time": "2023-10-08T10:38:00.280550Z",
     "start_time": "2023-10-08T10:38:00.126387Z"
    }
   },
   "outputs": [
    {
     "name": "stdout",
     "output_type": "stream",
     "text": [
      "torch.Size([3, 4]) torch.float32 cpu\n",
      "torch.Size([3, 4]) torch.float32 cuda:0\n"
     ]
    }
   ],
   "source": [
    "## 指定tensor的操作在gpu上进行\n",
    "if torch.cuda.is_available():\n",
    "    tensor2 = tensor.to('cuda')\n",
    "print(tensor.shape, tensor.dtype, tensor.device)\n",
    "print(tensor2.shape, tensor2.dtype, tensor2.device)\n",
    "\n",
    "## 一个expression中的运算对象要在同一个device上\n",
    "# mul = tensor * tensor2 # 错，他们一个在cpu上，一个在gpu上"
   ]
  },
  {
   "cell_type": "code",
   "execution_count": 11,
   "id": "3ae68e06",
   "metadata": {
    "ExecuteTime": {
     "end_time": "2023-10-08T14:29:25.595023Z",
     "start_time": "2023-10-08T14:29:25.588600Z"
    }
   },
   "outputs": [
    {
     "name": "stdout",
     "output_type": "stream",
     "text": [
      "改变前： tensor([1., 1., 1., 1., 1.]) [1. 1. 1. 1. 1.]\n",
      "改变后： tensor([3., 3., 3., 3., 3.]) [3. 3. 3. 3. 3.]\n"
     ]
    }
   ],
   "source": [
    "## 存储在cpu上的tensor可以跟numpy共享底层的memory location。\n",
    "# 此时，改变其中一个的值，另一个也会改变\n",
    "t = torch.ones(5)\n",
    "n = t.numpy()\n",
    "print(\"改变前：\", t, n)\n",
    "t.add_(2)\n",
    "print(\"改变tensor，numpy对象也变：\", t, n)\n",
    "np.add(n, 2, out=n)\n",
    "print(\"改变numpy对象后，tensor也变：\", t, n)"
   ]
  },
  {
   "cell_type": "code",
   "execution_count": 14,
   "id": "1acaaaf7",
   "metadata": {
    "ExecuteTime": {
     "end_time": "2023-10-08T14:32:40.663523Z",
     "start_time": "2023-10-08T14:32:40.507171Z"
    }
   },
   "outputs": [
    {
     "name": "stdout",
     "output_type": "stream",
     "text": [
      "tensor([7., 7., 7., 7., 7.], device='cuda:0')\n"
     ]
    }
   ],
   "source": [
    "## 但在gpu上无法做numpy类型对象的计算\n",
    "if torch.cuda.is_available():\n",
    "    t = t.to('cuda')\n",
    "print(t)\n",
    "# n = t.numpy() # 报错：can't convert cuda:0 device type tensor to numpy."
   ]
  }
 ],
 "metadata": {
  "kernelspec": {
   "display_name": "Python [conda env:231n] *",
   "language": "python",
   "name": "conda-env-231n-py"
  },
  "language_info": {
   "codemirror_mode": {
    "name": "ipython",
    "version": 3
   },
   "file_extension": ".py",
   "mimetype": "text/x-python",
   "name": "python",
   "nbconvert_exporter": "python",
   "pygments_lexer": "ipython3",
   "version": "3.10.12"
  }
 },
 "nbformat": 4,
 "nbformat_minor": 5
}
