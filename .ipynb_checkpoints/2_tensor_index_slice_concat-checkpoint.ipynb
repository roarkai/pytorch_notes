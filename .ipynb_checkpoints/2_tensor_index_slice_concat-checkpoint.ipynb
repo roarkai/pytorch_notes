{
 "cells": [
  {
   "cell_type": "code",
   "execution_count": 1,
   "id": "a7d54465",
   "metadata": {
    "ExecuteTime": {
     "end_time": "2023-10-08T09:52:15.650041Z",
     "start_time": "2023-10-08T09:52:14.468469Z"
    }
   },
   "outputs": [],
   "source": [
    "import torch\n",
    "import numpy as np"
   ]
  },
  {
   "cell_type": "markdown",
   "id": "f5dd0ee9",
   "metadata": {},
   "source": [
    "## 1. indexing and slicing"
   ]
  },
  {
   "cell_type": "code",
   "execution_count": 8,
   "id": "6891c897",
   "metadata": {
    "ExecuteTime": {
     "end_time": "2023-10-08T09:52:15.978749Z",
     "start_time": "2023-10-08T09:52:15.974456Z"
    }
   },
   "outputs": [
    {
     "name": "stdout",
     "output_type": "stream",
     "text": [
      "1st row: tensor([0.8738, 0.8820, 0.6595])\n",
      "1st col: tensor([0.8738, 0.8613])\n",
      "last col: tensor([0.6595, 0.9696])\n",
      "tensor([[0.8738, 0.0000, 0.6595],\n",
      "        [0.8613, 0.0000, 0.9696]]) cpu\n"
     ]
    }
   ],
   "source": [
    "tensor = torch.rand(2, 3)\n",
    "print(f\"1st row: {tensor[0]}\")\n",
    "print(f\"1st col: {tensor[:, 0]}\")\n",
    "print(f\"last col: {tensor[:, -1]}\")\n",
    "tensor[:, 1] = 0\n",
    "print(tensor, tensor.device)"
   ]
  },
  {
   "cell_type": "markdown",
   "id": "365dc8c7",
   "metadata": {
    "ExecuteTime": {
     "end_time": "2023-10-08T07:05:59.340280Z",
     "start_time": "2023-10-08T07:05:59.337706Z"
    }
   },
   "source": [
    "## 2. concatenation and repeating\n",
    " · torch.cat: 处理tenser sequence，在现有维度上堆叠tensor sequence，dim数量不扩，指定dim的值变大\\\n",
    " · torch.stack: 处理tenser sequence，新增1维，在该维度上堆叠指定的tensor sequence\\\n",
    " · tensor.repeat: 处理tenser，堆叠本tensor的各维度，维度可以扩张。类似numpy.tile\\\n",
    " · torch.repeat_interleave, tensor.repeat_interleave: 处理tenser，重复每个维度上的元素，类似numpy.repeat"
   ]
  },
  {
   "cell_type": "markdown",
   "id": "f9156cf7",
   "metadata": {},
   "source": [
    "### 2.1 torch.cat将tensor sequence在自身的某维度上做堆叠\n",
    "· 被堆叠的sequence中的tensors必须有相同的shape，或者是empty tensor\\\n",
    "· dim参数取值不能超过input的维度数\\\n",
    "· output的维度数和input tensor相同"
   ]
  },
  {
   "cell_type": "code",
   "execution_count": 9,
   "id": "f7ee8780",
   "metadata": {
    "ExecuteTime": {
     "end_time": "2023-10-08T09:52:15.992130Z",
     "start_time": "2023-10-08T09:52:15.979857Z"
    }
   },
   "outputs": [
    {
     "name": "stdout",
     "output_type": "stream",
     "text": [
      "x is:  tensor([[0.4630, 0.5083]])\n",
      "shape of x:  torch.Size([1, 2])\n",
      "tensor([[0.4630, 0.5083, 0.4630, 0.5083]]) torch.Size([1, 4])\n",
      "tensor([[0.4630, 0.5083],\n",
      "        [0.4630, 0.5083]]) torch.Size([2, 2])\n",
      "True\n"
     ]
    }
   ],
   "source": [
    "x = torch.rand(1, 2)\n",
    "t1 = torch.cat([x, x], dim=1) # 在dim 1上堆，shape的dim 0大小不变\n",
    "t2 = torch.cat([x, x], dim=0) # 在dim 0上堆，shape的dim 1大小不变\n",
    "print('x is: ', x)\n",
    "print('shape of x: ', x.shape)\n",
    "print(t1, t1.shape)\n",
    "print(t2, t2.shape)\n",
    "print(len(x.shape) == len(t1.shape) == len(t2.shape)) # output还是2维"
   ]
  },
  {
   "cell_type": "code",
   "execution_count": 10,
   "id": "49e8764d",
   "metadata": {
    "ExecuteTime": {
     "end_time": "2023-10-08T09:52:15.999585Z",
     "start_time": "2023-10-08T09:52:15.994165Z"
    }
   },
   "outputs": [
    {
     "name": "stdout",
     "output_type": "stream",
     "text": [
      "原x:\n",
      " tensor([[[1, 2, 0],\n",
      "         [5, 6, 7]],\n",
      "\n",
      "        [[8, 9, 0],\n",
      "         [3, 4, 5]]]) torch.Size([2, 2, 3])\n",
      "原y:\n",
      " tensor([[[1, 1, 1],\n",
      "         [2, 2, 2]],\n",
      "\n",
      "        [[0, 0, 0],\n",
      "         [9, 9, 9]]]) torch.Size([2, 2, 3])\n",
      "在dim 0上堆:\n",
      " tensor([[[1, 2, 0],\n",
      "         [5, 6, 7]],\n",
      "\n",
      "        [[8, 9, 0],\n",
      "         [3, 4, 5]],\n",
      "\n",
      "        [[1, 1, 1],\n",
      "         [2, 2, 2]],\n",
      "\n",
      "        [[0, 0, 0],\n",
      "         [9, 9, 9]]]) torch.Size([4, 2, 3])\n",
      "在dim 1上堆:\n",
      " tensor([[[1, 2, 0],\n",
      "         [5, 6, 7],\n",
      "         [1, 1, 1],\n",
      "         [2, 2, 2]],\n",
      "\n",
      "        [[8, 9, 0],\n",
      "         [3, 4, 5],\n",
      "         [0, 0, 0],\n",
      "         [9, 9, 9]]]) torch.Size([2, 4, 3])\n",
      "在dim 2上堆:\n",
      " tensor([[[1, 2, 0, 1, 1, 1],\n",
      "         [5, 6, 7, 2, 2, 2]],\n",
      "\n",
      "        [[8, 9, 0, 0, 0, 0],\n",
      "         [3, 4, 5, 9, 9, 9]]]) torch.Size([2, 2, 6])\n"
     ]
    }
   ],
   "source": [
    "x = torch.tensor([[[1, 2, 0], [5, 6, 7]],\n",
    "                  [[8, 9, 0], [3, 4, 5]]])\n",
    "y = torch.tensor([[[1, 1, 1], [2, 2, 2]],\n",
    "                  [[0, 0, 0], [9, 9, 9]]])\n",
    "t1 = torch.cat([x, y], dim=0) # 在dim 0上堆，shape的dim 1,2大小不变\n",
    "t2 = torch.cat([x, y], dim=1) # 在dim 1上堆，shape的dim 0,2大小不变\n",
    "t3 = torch.cat([x, y], dim=2) # 在dim 2上堆，shape的dim 1,2大小不变\n",
    "print('原x:\\n',x, x.shape)\n",
    "print('原y:\\n',y, y.shape)\n",
    "print('在dim 0上堆:\\n', t1, t1.shape)\n",
    "print('在dim 1上堆:\\n', t2, t2.shape)\n",
    "print('在dim 2上堆:\\n', t3, t3.shape)"
   ]
  },
  {
   "cell_type": "markdown",
   "id": "27c848d8",
   "metadata": {
    "ExecuteTime": {
     "end_time": "2023-10-08T09:07:44.825008Z",
     "start_time": "2023-10-08T09:07:44.819441Z"
    }
   },
   "source": [
    "### 2.2 torch.stack将tensor sequence堆叠到新的维度\n",
    "· 被堆叠的sequence中的tensors必须有相同的shape\\\n",
    "· output维度+1"
   ]
  },
  {
   "cell_type": "code",
   "execution_count": 11,
   "id": "8f90234d",
   "metadata": {
    "ExecuteTime": {
     "end_time": "2023-10-08T09:52:16.005653Z",
     "start_time": "2023-10-08T09:52:16.000703Z"
    }
   },
   "outputs": [
    {
     "name": "stdout",
     "output_type": "stream",
     "text": [
      "y is: tensor([[0., 0., 0.],\n",
      "        [0., 0., 0.]])\n",
      "z is: tensor([[1, 2, 3],\n",
      "        [4, 5, 6]])\n",
      "tensor([[[0., 0., 0.],\n",
      "         [0., 0., 0.]],\n",
      "\n",
      "        [[1., 2., 3.],\n",
      "         [4., 5., 6.]]]) torch.Size([2, 2, 3])\n",
      "tensor([[[0., 0., 0.],\n",
      "         [1., 2., 3.]],\n",
      "\n",
      "        [[0., 0., 0.],\n",
      "         [4., 5., 6.]]]) torch.Size([2, 2, 3])\n",
      "tensor([[[0., 1.],\n",
      "         [0., 2.],\n",
      "         [0., 3.]],\n",
      "\n",
      "        [[0., 4.],\n",
      "         [0., 5.],\n",
      "         [0., 6.]]]) torch.Size([2, 3, 2])\n",
      "# dim of t3,t4,t5: (3, 3, 3)\n"
     ]
    }
   ],
   "source": [
    "y = torch.zeros(2, 3) \n",
    "z = torch.arange(1, 7).reshape(2, 3)\n",
    "print('y is:', y)\n",
    "print('z is:', z)\n",
    "t3 = torch.stack([y, z], dim=0)\n",
    "t4 = torch.stack([y, z], dim=1)\n",
    "t5 = torch.stack([y, z], dim=2)  # dim取[-3, 2]\n",
    "print(t3, t3.shape)\n",
    "print(t4, t4.shape)\n",
    "print(t5, t5.shape)\n",
    "print(f\"# dim of t3,t4,t5: {len(t3.shape), len(t4.shape), len(t5.shape)}\")"
   ]
  },
  {
   "cell_type": "code",
   "execution_count": 12,
   "id": "f932b6a8",
   "metadata": {
    "ExecuteTime": {
     "end_time": "2023-10-08T09:52:16.012151Z",
     "start_time": "2023-10-08T09:52:16.006734Z"
    }
   },
   "outputs": [
    {
     "name": "stdout",
     "output_type": "stream",
     "text": [
      "原x:\n",
      " tensor([[[1, 2, 0],\n",
      "         [5, 6, 7]],\n",
      "\n",
      "        [[8, 9, 0],\n",
      "         [3, 4, 5]]]) torch.Size([2, 2, 3])\n",
      "原y:\n",
      " tensor([[[1, 1, 1],\n",
      "         [2, 2, 2]],\n",
      "\n",
      "        [[0, 0, 0],\n",
      "         [9, 9, 9]]]) torch.Size([2, 2, 3])\n",
      "在dim 0上堆:\n",
      " tensor([[[[1, 2, 0],\n",
      "          [5, 6, 7]],\n",
      "\n",
      "         [[8, 9, 0],\n",
      "          [3, 4, 5]]],\n",
      "\n",
      "\n",
      "        [[[1, 1, 1],\n",
      "          [2, 2, 2]],\n",
      "\n",
      "         [[0, 0, 0],\n",
      "          [9, 9, 9]]]]) torch.Size([2, 2, 2, 3])\n",
      "在dim 1上堆:\n",
      " tensor([[[[1, 2, 0],\n",
      "          [5, 6, 7]],\n",
      "\n",
      "         [[1, 1, 1],\n",
      "          [2, 2, 2]]],\n",
      "\n",
      "\n",
      "        [[[8, 9, 0],\n",
      "          [3, 4, 5]],\n",
      "\n",
      "         [[0, 0, 0],\n",
      "          [9, 9, 9]]]]) torch.Size([2, 2, 2, 3])\n",
      "在dim 2上堆:\n",
      " tensor([[[[1, 2, 0],\n",
      "          [1, 1, 1]],\n",
      "\n",
      "         [[5, 6, 7],\n",
      "          [2, 2, 2]]],\n",
      "\n",
      "\n",
      "        [[[8, 9, 0],\n",
      "          [0, 0, 0]],\n",
      "\n",
      "         [[3, 4, 5],\n",
      "          [9, 9, 9]]]]) torch.Size([2, 2, 2, 3])\n"
     ]
    }
   ],
   "source": [
    "x = torch.tensor([[[1, 2, 0], [5, 6, 7]],\n",
    "                  [[8, 9, 0], [3, 4, 5]]])\n",
    "y = torch.tensor([[[1, 1, 1], [2, 2, 2]],\n",
    "                  [[0, 0, 0], [9, 9, 9]]])\n",
    "t1 = torch.stack([x, y], dim=0) # 在dim 0上堆，shape的dim 1,2大小不变\n",
    "t2 = torch.stack([x, y], dim=1) # 在dim 1上堆，shape的dim 0,2大小不变\n",
    "t3 = torch.stack([x, y], dim=2) # 在dim 2上堆，shape的dim 1,2大小不变\n",
    "print('原x:\\n',x, x.shape)\n",
    "print('原y:\\n',y, y.shape)\n",
    "print('在dim 0上堆:\\n', t1, t1.shape)\n",
    "print('在dim 1上堆:\\n', t2, t2.shape)\n",
    "print('在dim 2上堆:\\n', t3, t3.shape)"
   ]
  },
  {
   "cell_type": "markdown",
   "id": "5a926423",
   "metadata": {},
   "source": [
    "### 2.3 tensor.repeat(): 重复堆叠tensor.类似numpy.tile\n",
    "· 参数数量(number)决定在多少个维度上做堆叠，参数个数可以大于tensor维数\\\n",
    "· 每个参数值(value)指定对应维度的堆叠次数\\\n",
    "· 如tensor有d维，后d个参数指定d维上堆叠的次数，其他参数决定前序扩张维度上的堆叠次数"
   ]
  },
  {
   "cell_type": "code",
   "execution_count": 13,
   "id": "0f9f68e2",
   "metadata": {
    "ExecuteTime": {
     "end_time": "2023-10-08T09:52:16.017306Z",
     "start_time": "2023-10-08T09:52:16.013256Z"
    }
   },
   "outputs": [
    {
     "name": "stdout",
     "output_type": "stream",
     "text": [
      "tensor([1, 2, 3, 1, 2, 3, 1, 2, 3]) torch.Size([9])\n",
      "tensor([[1, 2, 3, 1, 2, 3],\n",
      "        [1, 2, 3, 1, 2, 3],\n",
      "        [1, 2, 3, 1, 2, 3]]) torch.Size([3, 6])\n",
      "tensor([[[1, 2, 3, 1, 2, 3]],\n",
      "\n",
      "        [[1, 2, 3, 1, 2, 3]]]) torch.Size([2, 1, 6])\n",
      "tensor([[[[1, 2, 3, 1, 2, 3]],\n",
      "\n",
      "         [[1, 2, 3, 1, 2, 3]]],\n",
      "\n",
      "\n",
      "        [[[1, 2, 3, 1, 2, 3]],\n",
      "\n",
      "         [[1, 2, 3, 1, 2, 3]]]]) torch.Size([2, 2, 1, 6])\n"
     ]
    }
   ],
   "source": [
    "x = torch.tensor([1, 2, 3])  # dim=d, shape=(n,)\n",
    "y0 = x.repeat(3)\n",
    "y1 = x.repeat(3, 2)          # dim=2, shape=(3, 2*n)\n",
    "y2 = x.repeat(2, 1, 2)       # dim=3, shape=(2, 1, 2*n)\n",
    "y3 = x.repeat(2, 2, 1, 2)    # dim=4, shape=(2, 2, 1, 2*n)\n",
    "print(y0, y0.shape)\n",
    "print(y1, y1.shape)\n",
    "print(y2, y2.shape)\n",
    "print(y3, y3.shape)"
   ]
  },
  {
   "cell_type": "code",
   "execution_count": 14,
   "id": "614127e3",
   "metadata": {
    "ExecuteTime": {
     "end_time": "2023-10-08T09:52:16.022492Z",
     "start_time": "2023-10-08T09:52:16.018502Z"
    }
   },
   "outputs": [
    {
     "name": "stdout",
     "output_type": "stream",
     "text": [
      "tensor([[1, 2, 0, 1, 2, 0],\n",
      "        [5, 6, 7, 5, 6, 7],\n",
      "        [1, 2, 0, 1, 2, 0],\n",
      "        [5, 6, 7, 5, 6, 7],\n",
      "        [1, 2, 0, 1, 2, 0],\n",
      "        [5, 6, 7, 5, 6, 7]]) torch.Size([6, 6])\n",
      "tensor([[[1, 2, 0, 1, 2, 0, 1, 2, 0],\n",
      "         [5, 6, 7, 5, 6, 7, 5, 6, 7],\n",
      "         [1, 2, 0, 1, 2, 0, 1, 2, 0],\n",
      "         [5, 6, 7, 5, 6, 7, 5, 6, 7]],\n",
      "\n",
      "        [[1, 2, 0, 1, 2, 0, 1, 2, 0],\n",
      "         [5, 6, 7, 5, 6, 7, 5, 6, 7],\n",
      "         [1, 2, 0, 1, 2, 0, 1, 2, 0],\n",
      "         [5, 6, 7, 5, 6, 7, 5, 6, 7]]]) torch.Size([2, 4, 9])\n",
      "tensor([[[[1, 2, 0],\n",
      "          [5, 6, 7]],\n",
      "\n",
      "         [[1, 2, 0],\n",
      "          [5, 6, 7]]],\n",
      "\n",
      "\n",
      "        [[[1, 2, 0],\n",
      "          [5, 6, 7]],\n",
      "\n",
      "         [[1, 2, 0],\n",
      "          [5, 6, 7]]]]) torch.Size([2, 2, 2, 3])\n"
     ]
    }
   ],
   "source": [
    "x = torch.tensor([[1, 2, 0], [5, 6, 7]])  # dim=d=2, shape=(m, n)=(2, 3)\n",
    "y1 = x.repeat(3, 2)                       # dim=2, shape=(3*m, 2*n)\n",
    "y2 = x.repeat(2, 2, 3)                    # dim=3, shape=(2, 2*m, 3*n)\n",
    "y3 = x.repeat(2, 2, 1, 1)                 # dim=4, shape=(2, 2, 1*m, 1*n)\n",
    "print(y1, y1.shape)\n",
    "print(y2, y2.shape)\n",
    "print(y3, y3.shape)"
   ]
  },
  {
   "cell_type": "markdown",
   "id": "b954bc0e",
   "metadata": {},
   "source": [
    "### 2.4 tensor.repeat_interleave(\\<tensor>, \\<n>, dim=?)\n",
    "· 不指定参数dim=？时，输出会被flattened成1维\\\n",
    "· 参数dim决定元素在哪个维度上重复，n决定重复次数\n",
    "· 第2个参数指定repeat的次数，如果是int，就是每个元素重复次数；如果是tensor，那么tensor的长度必须等于input tensor的长度，每个tensor的值决定input tensor中每个元素重复多少次"
   ]
  },
  {
   "cell_type": "code",
   "execution_count": 15,
   "id": "36019354",
   "metadata": {
    "ExecuteTime": {
     "end_time": "2023-10-08T09:52:16.032850Z",
     "start_time": "2023-10-08T09:52:16.023604Z"
    }
   },
   "outputs": [
    {
     "name": "stdout",
     "output_type": "stream",
     "text": [
      "flattened, 重复2次: tensor([1, 1, 2, 2, 3, 3, 4, 4, 5, 5, 6, 6]) \n",
      " tensor([1, 1, 2, 2, 3, 3, 4, 4, 5, 5, 6, 6])\n",
      "沿dim0，重复2次: \n",
      " tensor([[1, 2],\n",
      "        [1, 2],\n",
      "        [3, 4],\n",
      "        [3, 4],\n",
      "        [5, 6],\n",
      "        [5, 6]])\n",
      "沿dim1，重复3次: \n",
      " tensor([[1, 1, 1, 2, 2, 2],\n",
      "        [3, 3, 3, 4, 4, 4],\n",
      "        [5, 5, 5, 6, 6, 6]])\n",
      "沿dim0，分别重复1， 2， 1次: \n",
      " tensor([[1, 2],\n",
      "        [3, 4],\n",
      "        [3, 4],\n",
      "        [5, 6]])\n"
     ]
    }
   ],
   "source": [
    "x = torch.tensor([[1, 2], [3, 4], [5, 6]])\n",
    "\n",
    "y1 = x.repeat_interleave(2)\n",
    "y2 = torch.repeat_interleave(x, 2)\n",
    "print('flattened, 重复2次:',y1,'\\n', y2)\n",
    "\n",
    "y3 = torch.repeat_interleave(x, 2, dim=0)\n",
    "print('沿dim0，重复2次:','\\n', y3)\n",
    "y4 = torch.repeat_interleave(x, 3, dim=1)\n",
    "print('沿dim1，重复3次:','\\n', y4)\n",
    "y5 = torch.repeat_interleave(x, torch.tensor([1, 2, 1]), dim=0)\n",
    "print('沿dim0，分别重复1， 2， 1次:','\\n', y5)"
   ]
  }
 ],
 "metadata": {
  "kernelspec": {
   "display_name": "Python [conda env:231n] *",
   "language": "python",
   "name": "conda-env-231n-py"
  },
  "language_info": {
   "codemirror_mode": {
    "name": "ipython",
    "version": 3
   },
   "file_extension": ".py",
   "mimetype": "text/x-python",
   "name": "python",
   "nbconvert_exporter": "python",
   "pygments_lexer": "ipython3",
   "version": "3.10.12"
  }
 },
 "nbformat": 4,
 "nbformat_minor": 5
}
