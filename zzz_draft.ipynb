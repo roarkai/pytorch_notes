{
 "cells": [
  {
   "cell_type": "code",
   "execution_count": 1,
   "id": "f37dfbb5",
   "metadata": {
    "ExecuteTime": {
     "end_time": "2024-08-03T15:45:46.056934Z",
     "start_time": "2024-08-03T15:45:44.632344Z"
    }
   },
   "outputs": [],
   "source": [
    "import torch\n",
    "import math\n",
    "import numpy as np\n",
    "import torchviz"
   ]
  },
  {
   "cell_type": "code",
   "execution_count": 8,
   "id": "8bb1cd8d",
   "metadata": {
    "ExecuteTime": {
     "end_time": "2024-08-03T16:01:38.664523Z",
     "start_time": "2024-08-03T16:01:38.659197Z"
    }
   },
   "outputs": [
    {
     "data": {
      "text/plain": [
       "torch.Size([5, 5, 4, 4])"
      ]
     },
     "execution_count": 8,
     "metadata": {},
     "output_type": "execute_result"
    }
   ],
   "source": [
    "x=torch.ones(5,1,4,1)\n",
    "y=torch.arange(20).reshape(5,1,4)\n",
    "(x + y).shape"
   ]
  },
  {
   "cell_type": "code",
   "execution_count": 9,
   "id": "01e398d2",
   "metadata": {
    "ExecuteTime": {
     "end_time": "2023-10-31T04:55:13.441527Z",
     "start_time": "2023-10-31T04:55:13.437898Z"
    }
   },
   "outputs": [
    {
     "name": "stdout",
     "output_type": "stream",
     "text": [
      "tensor([4, 5, 6])\n"
     ]
    }
   ],
   "source": [
    "x = torch.tensor([4, 5, 6])\n",
    "# 注意输出形式：\n",
    "torch.max(x, dim=0)[1]\n",
    "print(x.data)"
   ]
  },
  {
   "cell_type": "code",
   "execution_count": 10,
   "id": "fc8f679d",
   "metadata": {
    "ExecuteTime": {
     "end_time": "2023-10-27T15:20:31.667999Z",
     "start_time": "2023-10-27T15:20:31.654622Z"
    }
   },
   "outputs": [
    {
     "data": {
      "text/plain": [
       "True"
      ]
     },
     "execution_count": 10,
     "metadata": {},
     "output_type": "execute_result"
    }
   ],
   "source": [
    "class Exp(torch.autograd.Function):\n",
    "    # Simple case where everything goes well\n",
    "    @staticmethod\n",
    "    def forward(ctx, x):\n",
    "        # This time we save the output\n",
    "        result = torch.exp(x)\n",
    "        # Note that we should use `save_for_backward` here when\n",
    "        # the tensor saved is an ouptut (or an input).\n",
    "        ctx.save_for_backward(result)\n",
    "        return result\n",
    "\n",
    "    @staticmethod\n",
    "    def backward(ctx, grad_out):\n",
    "        result, = ctx.saved_tensors\n",
    "        return result * grad_out\n",
    "\n",
    "x = torch.tensor(1., requires_grad=True, dtype=torch.double).clone()\n",
    "# Validate our gradients using gradcheck\n",
    "torch.autograd.gradcheck(Exp.apply, x)\n",
    "torch.autograd.gradgradcheck(Exp.apply, x)"
   ]
  },
  {
   "cell_type": "code",
   "execution_count": null,
   "id": "1f3fe59e",
   "metadata": {},
   "outputs": [],
   "source": []
  },
  {
   "cell_type": "code",
   "execution_count": 12,
   "id": "66ce8004",
   "metadata": {
    "ExecuteTime": {
     "end_time": "2023-10-27T15:20:31.718634Z",
     "start_time": "2023-10-27T15:20:31.711009Z"
    }
   },
   "outputs": [
    {
     "name": "stdout",
     "output_type": "stream",
     "text": [
      "tensor(-1.1106) tensor(0.0014) tensor(1.5280) tensor(-1.0778)\n",
      "torch.Size([]) -1.1105817556381226\n"
     ]
    }
   ],
   "source": [
    "device = torch.device('cpu')\n",
    "dtype = torch.float\n",
    "\n",
    "torch.manual_seed(231)\n",
    "a = torch.randn((), device=device, dtype=dtype)\n",
    "b = torch.randn((), device=device, dtype=dtype)\n",
    "c = torch.randn((), device=device, dtype=dtype)\n",
    "d = torch.randn((), device=device, dtype=dtype)\n",
    "print(a, b, c, d)\n",
    "print(a.shape, a.item())"
   ]
  },
  {
   "cell_type": "code",
   "execution_count": 13,
   "id": "bd802321",
   "metadata": {
    "ExecuteTime": {
     "end_time": "2023-10-27T15:20:31.726523Z",
     "start_time": "2023-10-27T15:20:31.720382Z"
    }
   },
   "outputs": [
    {
     "name": "stdout",
     "output_type": "stream",
     "text": [
      "tensor([-1.1106]) tensor([0.0014]) tensor([1.5280]) tensor([-1.0778])\n",
      "torch.Size([1]) -1.1105817556381226\n"
     ]
    }
   ],
   "source": [
    "torch.manual_seed(231)\n",
    "a = torch.randn((1), device=device, dtype=dtype)\n",
    "b = torch.randn((1), device=device, dtype=dtype)\n",
    "c = torch.randn((1), device=device, dtype=dtype)\n",
    "d = torch.randn((1), device=device, dtype=dtype)\n",
    "print(a, b, c, d)\n",
    "print(a.shape, a.item())"
   ]
  },
  {
   "cell_type": "code",
   "execution_count": 14,
   "id": "5f88ce28",
   "metadata": {
    "ExecuteTime": {
     "end_time": "2023-10-27T15:20:31.732468Z",
     "start_time": "2023-10-27T15:20:31.728309Z"
    }
   },
   "outputs": [
    {
     "name": "stdout",
     "output_type": "stream",
     "text": [
      "tensor([0.0000, 0.2618, 0.5236, 0.7854, 1.0472, 1.3090, 1.5708, 1.8326, 2.0944,\n",
      "        2.3562, 2.6180, 2.8798, 3.1416, 3.4034, 3.6652, 3.9270, 4.1888, 4.4506,\n",
      "        4.7124, 4.9742, 5.2360, 5.4978, 5.7596, 6.0214, 6.2832],\n",
      "       requires_grad=True)\n"
     ]
    }
   ],
   "source": [
    "a = torch.linspace(0, 2 * math.pi, steps=25, requires_grad=True)\n",
    "print(a)"
   ]
  },
  {
   "cell_type": "code",
   "execution_count": 15,
   "id": "34d1c774",
   "metadata": {
    "ExecuteTime": {
     "end_time": "2023-10-27T15:20:32.128978Z",
     "start_time": "2023-10-27T15:20:31.734855Z"
    }
   },
   "outputs": [
    {
     "name": "stdout",
     "output_type": "stream",
     "text": [
      "tensor([ 0.0000e+00,  2.5882e-01,  5.0000e-01,  7.0711e-01,  8.6603e-01,\n",
      "         9.6593e-01,  1.0000e+00,  9.6593e-01,  8.6603e-01,  7.0711e-01,\n",
      "         5.0000e-01,  2.5882e-01, -8.7423e-08, -2.5882e-01, -5.0000e-01,\n",
      "        -7.0711e-01, -8.6603e-01, -9.6593e-01, -1.0000e+00, -9.6593e-01,\n",
      "        -8.6603e-01, -7.0711e-01, -5.0000e-01, -2.5882e-01,  1.7485e-07],\n",
      "       grad_fn=<SinBackward0>)\n"
     ]
    },
    {
     "data": {
      "image/png": "[encoded data removed]",
      "text/plain": [
       "<Figure size 300x300 with 1 Axes>"
      ]
     },
     "metadata": {},
     "output_type": "display_data"
    }
   ],
   "source": [
    "import matplotlib.pyplot as plt\n",
    "\n",
    "plt.figure(figsize=(3, 3))\n",
    "b = torch.sin(a)\n",
    "plt.plot(a.detach(), b.detach()) # plot无法处理带grad的tensor，detach后才能处理\n",
    "print(b)"
   ]
  },
  {
   "cell_type": "code",
   "execution_count": 16,
   "id": "d803f1cf",
   "metadata": {
    "ExecuteTime": {
     "end_time": "2023-10-27T15:20:32.135513Z",
     "start_time": "2023-10-27T15:20:32.131200Z"
    }
   },
   "outputs": [],
   "source": [
    "# \n",
    "a = torch.linspace(0, 2 * math.pi, steps=25, requires_grad=True)\n",
    "b = torch.sin(a)\n",
    "c = 2 * b\n",
    "d = c + 1\n",
    "out = d.sum()"
   ]
  },
  {
   "cell_type": "code",
   "execution_count": 17,
   "id": "5ec89c22",
   "metadata": {
    "ExecuteTime": {
     "end_time": "2023-10-27T15:20:32.148448Z",
     "start_time": "2023-10-27T15:20:32.137140Z"
    }
   },
   "outputs": [
    {
     "name": "stdout",
     "output_type": "stream",
     "text": [
      "b: <SinBackward0 object at 0x7f6c68faea40>\n",
      "c: <MulBackward0 object at 0x7f6c60a5d270>\n",
      "d: <AddBackward0 object at 0x7f6c68faea40>\n",
      "out: <SumBackward0 object at 0x7f6c60a5d270>\n"
     ]
    }
   ],
   "source": [
    "print('b:', b.grad_fn)\n",
    "print('c:', c.grad_fn)\n",
    "print('d:', d.grad_fn)\n",
    "print('out:', out.grad_fn)"
   ]
  },
  {
   "cell_type": "code",
   "execution_count": 18,
   "id": "23030248",
   "metadata": {
    "ExecuteTime": {
     "end_time": "2023-10-27T15:20:32.154516Z",
     "start_time": "2023-10-27T15:20:32.149995Z"
    }
   },
   "outputs": [
    {
     "name": "stdout",
     "output_type": "stream",
     "text": [
      "out:\n",
      "<SumBackward0 object at 0x7f6c60c155a0>\n",
      "((<AddBackward0 object at 0x7f6c60aa29b0>, 0),)\n",
      "((<MulBackward0 object at 0x7f6c60c155a0>, 0), (None, 0))\n",
      "((<SinBackward0 object at 0x7f6c68fad240>, 0), (None, 0))\n",
      "((<AccumulateGrad object at 0x7f6c60c155a0>, 0),)\n"
     ]
    }
   ],
   "source": [
    "print('out:')\n",
    "print(out.grad_fn)\n",
    "print(out.grad_fn.next_functions)\n",
    "print(out.grad_fn.next_functions[0][0].next_functions)\n",
    "print(out.grad_fn.next_functions[0][0].next_functions[0][0].next_functions)\n",
    "print(out.grad_fn.next_functions[0][0].next_functions[0][0].next_functions[0][0].next_functions)"
   ]
  },
  {
   "cell_type": "code",
   "execution_count": 19,
   "id": "77cc8e60",
   "metadata": {
    "ExecuteTime": {
     "end_time": "2023-10-27T15:20:32.196677Z",
     "start_time": "2023-10-27T15:20:32.155885Z"
    }
   },
   "outputs": [
    {
     "data": {
      "image/svg+xml": [
       "<?xml version=\"1.0\" encoding=\"UTF-8\" standalone=\"no\"?>\n",
       "<!DOCTYPE svg PUBLIC \"-//W3C//DTD SVG 1.1//EN\"\n",
       " \"http://www.w3.org/Graphics/SVG/1.1/DTD/svg11.dtd\">\n",
       "<!-- Generated by graphviz version 2.43.0 (0)\n",
       " -->\n",
       "<!-- Title: %3 Pages: 1 -->\n",
       "<svg width=\"109pt\" height=\"325pt\"\n",
       " viewBox=\"0.00 0.00 109.00 325.00\" xmlns=\"http://www.w3.org/2000/svg\" xmlns:xlink=\"http://www.w3.org/1999/xlink\">\n",
       "<g id=\"graph0\" class=\"graph\" transform=\"scale(1 1) rotate(0) translate(4 321)\">\n",
       "<title>%3</title>\n",
       "<polygon fill=\"white\" stroke=\"transparent\" points=\"-4,4 -4,-321 105,-321 105,4 -4,4\"/>\n",
       "<!-- 140103455097776 -->\n",
       "<g id=\"node1\" class=\"node\">\n",
       "<title>140103455097776</title>\n",
       "<polygon fill=\"#caff70\" stroke=\"black\" points=\"77.5,-31 23.5,-31 23.5,0 77.5,0 77.5,-31\"/>\n",
       "<text text-anchor=\"middle\" x=\"50.5\" y=\"-7\" font-family=\"monospace\" font-size=\"10.00\"> ()</text>\n",
       "</g>\n",
       "<!-- 140103454956592 -->\n",
       "<g id=\"node2\" class=\"node\">\n",
       "<title>140103454956592</title>\n",
       "<polygon fill=\"lightgrey\" stroke=\"black\" points=\"95,-86 6,-86 6,-67 95,-67 95,-86\"/>\n",
       "<text text-anchor=\"middle\" x=\"50.5\" y=\"-74\" font-family=\"monospace\" font-size=\"10.00\">SumBackward0</text>\n",
       "</g>\n",
       "<!-- 140103454956592&#45;&gt;140103455097776 -->\n",
       "<g id=\"edge5\" class=\"edge\">\n",
       "<title>140103454956592&#45;&gt;140103455097776</title>\n",
       "<path fill=\"none\" stroke=\"black\" d=\"M50.5,-66.79C50.5,-60.07 50.5,-50.4 50.5,-41.34\"/>\n",
       "<polygon fill=\"black\" stroke=\"black\" points=\"54,-41.19 50.5,-31.19 47,-41.19 54,-41.19\"/>\n",
       "</g>\n",
       "<!-- 140103454956640 -->\n",
       "<g id=\"node3\" class=\"node\">\n",
       "<title>140103454956640</title>\n",
       "<polygon fill=\"lightgrey\" stroke=\"black\" points=\"101,-141 0,-141 0,-122 101,-122 101,-141\"/>\n",
       "<text text-anchor=\"middle\" x=\"50.5\" y=\"-129\" font-family=\"monospace\" font-size=\"10.00\">ClampBackward1</text>\n",
       "</g>\n",
       "<!-- 140103454956640&#45;&gt;140103454956592 -->\n",
       "<g id=\"edge1\" class=\"edge\">\n",
       "<title>140103454956640&#45;&gt;140103454956592</title>\n",
       "<path fill=\"none\" stroke=\"black\" d=\"M50.5,-121.75C50.5,-114.8 50.5,-104.85 50.5,-96.13\"/>\n",
       "<polygon fill=\"black\" stroke=\"black\" points=\"54,-96.09 50.5,-86.09 47,-96.09 54,-96.09\"/>\n",
       "</g>\n",
       "<!-- 140103454956736 -->\n",
       "<g id=\"node4\" class=\"node\">\n",
       "<title>140103454956736</title>\n",
       "<polygon fill=\"lightgrey\" stroke=\"black\" points=\"92,-196 9,-196 9,-177 92,-177 92,-196\"/>\n",
       "<text text-anchor=\"middle\" x=\"50.5\" y=\"-184\" font-family=\"monospace\" font-size=\"10.00\">MvBackward0</text>\n",
       "</g>\n",
       "<!-- 140103454956736&#45;&gt;140103454956640 -->\n",
       "<g id=\"edge2\" class=\"edge\">\n",
       "<title>140103454956736&#45;&gt;140103454956640</title>\n",
       "<path fill=\"none\" stroke=\"black\" d=\"M50.5,-176.75C50.5,-169.8 50.5,-159.85 50.5,-151.13\"/>\n",
       "<polygon fill=\"black\" stroke=\"black\" points=\"54,-151.09 50.5,-141.09 47,-151.09 54,-151.09\"/>\n",
       "</g>\n",
       "<!-- 140103454956832 -->\n",
       "<g id=\"node5\" class=\"node\">\n",
       "<title>140103454956832</title>\n",
       "<polygon fill=\"lightgrey\" stroke=\"black\" points=\"101,-251 0,-251 0,-232 101,-232 101,-251\"/>\n",
       "<text text-anchor=\"middle\" x=\"50.5\" y=\"-239\" font-family=\"monospace\" font-size=\"10.00\">AccumulateGrad</text>\n",
       "</g>\n",
       "<!-- 140103454956832&#45;&gt;140103454956736 -->\n",
       "<g id=\"edge3\" class=\"edge\">\n",
       "<title>140103454956832&#45;&gt;140103454956736</title>\n",
       "<path fill=\"none\" stroke=\"black\" d=\"M50.5,-231.75C50.5,-224.8 50.5,-214.85 50.5,-206.13\"/>\n",
       "<polygon fill=\"black\" stroke=\"black\" points=\"54,-206.09 50.5,-196.09 47,-206.09 54,-206.09\"/>\n",
       "</g>\n",
       "<!-- 140103594543280 -->\n",
       "<g id=\"node6\" class=\"node\">\n",
       "<title>140103594543280</title>\n",
       "<polygon fill=\"lightblue\" stroke=\"black\" points=\"77.5,-317 23.5,-317 23.5,-287 77.5,-287 77.5,-317\"/>\n",
       "<text text-anchor=\"middle\" x=\"50.5\" y=\"-305\" font-family=\"monospace\" font-size=\"10.00\">w</text>\n",
       "<text text-anchor=\"middle\" x=\"50.5\" y=\"-294\" font-family=\"monospace\" font-size=\"10.00\"> (3)</text>\n",
       "</g>\n",
       "<!-- 140103594543280&#45;&gt;140103454956832 -->\n",
       "<g id=\"edge4\" class=\"edge\">\n",
       "<title>140103594543280&#45;&gt;140103454956832</title>\n",
       "<path fill=\"none\" stroke=\"black\" d=\"M50.5,-286.84C50.5,-279.21 50.5,-269.7 50.5,-261.45\"/>\n",
       "<polygon fill=\"black\" stroke=\"black\" points=\"54,-261.27 50.5,-251.27 47,-261.27 54,-261.27\"/>\n",
       "</g>\n",
       "</g>\n",
       "</svg>\n"
      ],
      "text/plain": [
       "<graphviz.graphs.Digraph at 0x7f6c60aa20b0>"
      ]
     },
     "execution_count": 19,
     "metadata": {},
     "output_type": "execute_result"
    }
   ],
   "source": [
    "x = torch.randn(5, 3)\n",
    "w = torch.randn(3, requires_grad=True)\n",
    "y = x @ w\n",
    "y = torch.clamp(y, min=0)\n",
    "loss = y.sum()\n",
    "loss.backward()\n",
    "\n",
    "torchviz.make_dot(loss, params={'w':w})"
   ]
  },
  {
   "cell_type": "code",
   "execution_count": 20,
   "id": "6fa6d51f",
   "metadata": {
    "ExecuteTime": {
     "end_time": "2023-10-27T15:20:32.201533Z",
     "start_time": "2023-10-27T15:20:32.197947Z"
    }
   },
   "outputs": [
    {
     "data": {
      "text/plain": [
       "(True, True)"
      ]
     },
     "execution_count": 20,
     "metadata": {},
     "output_type": "execute_result"
    }
   ],
   "source": [
    "import torch\n",
    "a = torch.randn(5, requires_grad=True)\n",
    "b = torch.ones(5, requires_grad=True)\n",
    "y = a * b\n",
    "y.grad_fn._saved_self is a, y.grad_fn._saved_other is b"
   ]
  },
  {
   "cell_type": "code",
   "execution_count": 21,
   "id": "1fcebeeb",
   "metadata": {
    "ExecuteTime": {
     "end_time": "2023-10-27T15:20:32.207167Z",
     "start_time": "2023-10-27T15:20:32.202798Z"
    }
   },
   "outputs": [
    {
     "data": {
      "text/plain": [
       "(False, True)"
      ]
     },
     "execution_count": 21,
     "metadata": {},
     "output_type": "execute_result"
    }
   ],
   "source": [
    "a = torch.randn(5, requires_grad=True)\n",
    "y = torch.exp(a)\n",
    "y.grad_fn._saved_result is a, y.grad_fn._saved_result.equal(y)"
   ]
  },
  {
   "cell_type": "code",
   "execution_count": 22,
   "id": "d398070d",
   "metadata": {
    "ExecuteTime": {
     "end_time": "2023-10-27T15:20:32.212974Z",
     "start_time": "2023-10-27T15:20:32.208991Z"
    }
   },
   "outputs": [
    {
     "name": "stdout",
     "output_type": "stream",
     "text": [
      "tensor([-0.7871,  1.4755, -0.5347]) tensor([-0.7871,  1.4755, -0.5347], requires_grad=True)\n"
     ]
    }
   ],
   "source": [
    "a = torch.randn(3, requires_grad=True)\n",
    "b = a.detach()\n",
    "print(b, a)"
   ]
  },
  {
   "cell_type": "code",
   "execution_count": 23,
   "id": "24e46d24",
   "metadata": {
    "ExecuteTime": {
     "end_time": "2023-10-27T15:20:32.218172Z",
     "start_time": "2023-10-27T15:20:32.214660Z"
    }
   },
   "outputs": [],
   "source": [
    "x = torch.randn(5, 3)\n",
    "w = torch.randn(3, requires_grad=True)\n",
    "b = torch.randn(5, requires_grad=True)\n",
    "t = torch.randn(5)\n",
    "\n",
    "s = x @ w\n",
    "y = s + b\n",
    "loss = ((y - t) ** 2).sum()\n",
    "\n"
   ]
  },
  {
   "cell_type": "code",
   "execution_count": 24,
   "id": "3a3b0b51",
   "metadata": {
    "ExecuteTime": {
     "end_time": "2023-10-27T15:20:32.224318Z",
     "start_time": "2023-10-27T15:20:32.219927Z"
    }
   },
   "outputs": [
    {
     "name": "stdout",
     "output_type": "stream",
     "text": [
      "tensor([6.])\n"
     ]
    }
   ],
   "source": [
    "import torch.nn as nn\n",
    "import torch\n",
    "\n",
    "import torch\n",
    "\n",
    "# Create a tensor with requires_grad=True\n",
    "x = torch.tensor([2.0], requires_grad=True)\n",
    "\n",
    "# Perform operations\n",
    "y1 = 2 * x  # Operation 1\n",
    "y2 = x**2  # Operation 2\n",
    "y = y1 + y2  # Operation 3\n",
    "\n",
    "# Compute gradients\n",
    "y.backward(retain_graph=True)\n",
    "\n",
    "# Access gradients\n",
    "print(x.grad)"
   ]
  },
  {
   "cell_type": "code",
   "execution_count": 25,
   "id": "913a67a3",
   "metadata": {
    "ExecuteTime": {
     "end_time": "2023-10-27T15:20:32.231531Z",
     "start_time": "2023-10-27T15:20:32.226154Z"
    }
   },
   "outputs": [
    {
     "name": "stdout",
     "output_type": "stream",
     "text": [
      "1: tensor([2.])\n",
      "2: tensor([4.], grad_fn=<CopyBackwards>)\n",
      "3: tensor([6.], grad_fn=<CopyBackwards>)\n"
     ]
    },
    {
     "name": "stderr",
     "output_type": "stream",
     "text": [
      "/home/roark/anaconda3/envs/231n/lib/python3.10/site-packages/torch/autograd/__init__.py:200: UserWarning: Using backward() with create_graph=True will create a reference cycle between the parameter and its gradient which can cause a memory leak. We recommend using autograd.grad when creating the graph to avoid this. If you have to use this function, make sure to reset the .grad fields of your parameters to None after use to break the cycle and avoid the leak. (Triggered internally at ../torch/csrc/autograd/engine.cpp:1151.)\n",
      "  Variable._execution_engine.run_backward(  # Calls into the C++ engine to run the backward pass\n"
     ]
    }
   ],
   "source": [
    "x.grad = None  # Clear gradients\n",
    "y1.backward(create_graph=True)\n",
    "print('1:', x.grad)  # This would be None\n",
    "\n",
    "x.grad = None  # Clear gradients\n",
    "y2.backward(create_graph=True)\n",
    "print('2:', x.grad)  # This would be None\n",
    "\n",
    "x.grad = None  # Clear gradients\n",
    "y.backward(create_graph=True)\n",
    "print('3:', x.grad)  # This would be the gradient of y with respect to x\n"
   ]
  },
  {
   "cell_type": "code",
   "execution_count": 29,
   "id": "d40a6239",
   "metadata": {
    "ExecuteTime": {
     "end_time": "2023-10-27T15:35:34.029632Z",
     "start_time": "2023-10-27T15:35:33.981786Z"
    }
   },
   "outputs": [
    {
     "name": "stdout",
     "output_type": "stream",
     "text": [
      "Gradient of x: 1.0\n"
     ]
    },
    {
     "data": {
      "image/svg+xml": [
       "<?xml version=\"1.0\" encoding=\"UTF-8\" standalone=\"no\"?>\n",
       "<!DOCTYPE svg PUBLIC \"-//W3C//DTD SVG 1.1//EN\"\n",
       " \"http://www.w3.org/Graphics/SVG/1.1/DTD/svg11.dtd\">\n",
       "<!-- Generated by graphviz version 2.43.0 (0)\n",
       " -->\n",
       "<!-- Title: %3 Pages: 1 -->\n",
       "<svg width=\"182pt\" height=\"338pt\"\n",
       " viewBox=\"0.00 0.00 181.50 338.00\" xmlns=\"http://www.w3.org/2000/svg\" xmlns:xlink=\"http://www.w3.org/1999/xlink\">\n",
       "<g id=\"graph0\" class=\"graph\" transform=\"scale(1 1) rotate(0) translate(4 334)\">\n",
       "<title>%3</title>\n",
       "<polygon fill=\"white\" stroke=\"transparent\" points=\"-4,4 -4,-334 177.5,-334 177.5,4 -4,4\"/>\n",
       "<!-- 140103457639136 -->\n",
       "<g id=\"node1\" class=\"node\">\n",
       "<title>140103457639136</title>\n",
       "<polygon fill=\"#caff70\" stroke=\"black\" points=\"77.5,-31 23.5,-31 23.5,0 77.5,0 77.5,-31\"/>\n",
       "<text text-anchor=\"middle\" x=\"50.5\" y=\"-7\" font-family=\"monospace\" font-size=\"10.00\"> (1)</text>\n",
       "</g>\n",
       "<!-- 140103451724816 -->\n",
       "<g id=\"node2\" class=\"node\">\n",
       "<title>140103451724816</title>\n",
       "<polygon fill=\"lightgrey\" stroke=\"black\" points=\"98,-86 3,-86 3,-67 98,-67 98,-86\"/>\n",
       "<text text-anchor=\"middle\" x=\"50.5\" y=\"-74\" font-family=\"monospace\" font-size=\"10.00\">SqrtBackward0</text>\n",
       "</g>\n",
       "<!-- 140103451724816&#45;&gt;140103457639136 -->\n",
       "<g id=\"edge5\" class=\"edge\">\n",
       "<title>140103451724816&#45;&gt;140103457639136</title>\n",
       "<path fill=\"none\" stroke=\"black\" d=\"M50.5,-66.79C50.5,-60.07 50.5,-50.4 50.5,-41.34\"/>\n",
       "<polygon fill=\"black\" stroke=\"black\" points=\"54,-41.19 50.5,-31.19 47,-41.19 54,-41.19\"/>\n",
       "</g>\n",
       "<!-- 140103444345424 -->\n",
       "<g id=\"node3\" class=\"node\">\n",
       "<title>140103444345424</title>\n",
       "<polygon fill=\"lightgrey\" stroke=\"black\" points=\"101,-147 0,-147 0,-128 101,-128 101,-147\"/>\n",
       "<text text-anchor=\"middle\" x=\"50.5\" y=\"-135\" font-family=\"monospace\" font-size=\"10.00\">CloneBackward0</text>\n",
       "</g>\n",
       "<!-- 140103444345424&#45;&gt;140103451724816 -->\n",
       "<g id=\"edge1\" class=\"edge\">\n",
       "<title>140103444345424&#45;&gt;140103451724816</title>\n",
       "<path fill=\"none\" stroke=\"black\" d=\"M50.5,-127.79C50.5,-119.6 50.5,-107.06 50.5,-96.55\"/>\n",
       "<polygon fill=\"black\" stroke=\"black\" points=\"54,-96.24 50.5,-86.24 47,-96.24 54,-96.24\"/>\n",
       "</g>\n",
       "<!-- 140103444345760 -->\n",
       "<g id=\"node4\" class=\"node\">\n",
       "<title>140103444345760</title>\n",
       "<polygon fill=\"lightgrey\" stroke=\"black\" points=\"143,-208 54,-208 54,-189 143,-189 143,-208\"/>\n",
       "<text text-anchor=\"middle\" x=\"98.5\" y=\"-196\" font-family=\"monospace\" font-size=\"10.00\">PowBackward0</text>\n",
       "</g>\n",
       "<!-- 140103444345760&#45;&gt;140103444345424 -->\n",
       "<g id=\"edge2\" class=\"edge\">\n",
       "<title>140103444345760&#45;&gt;140103444345424</title>\n",
       "<path fill=\"none\" stroke=\"black\" d=\"M91.42,-188.79C84.26,-179.99 73.01,-166.17 64.11,-155.23\"/>\n",
       "<polygon fill=\"black\" stroke=\"black\" points=\"66.64,-152.79 57.61,-147.24 61.21,-157.21 66.64,-152.79\"/>\n",
       "</g>\n",
       "<!-- 140103449235424 -->\n",
       "<g id=\"node7\" class=\"node\">\n",
       "<title>140103449235424</title>\n",
       "<polygon fill=\"#caff70\" stroke=\"black\" points=\"173.5,-153 119.5,-153 119.5,-122 173.5,-122 173.5,-153\"/>\n",
       "<text text-anchor=\"middle\" x=\"146.5\" y=\"-129\" font-family=\"monospace\" font-size=\"10.00\"> (1)</text>\n",
       "</g>\n",
       "<!-- 140103444345760&#45;&gt;140103449235424 -->\n",
       "<g id=\"edge6\" class=\"edge\">\n",
       "<title>140103444345760&#45;&gt;140103449235424</title>\n",
       "<path fill=\"none\" stroke=\"black\" d=\"M105.58,-188.79C111.53,-181.48 120.3,-170.7 128.2,-160.99\"/>\n",
       "<polygon fill=\"black\" stroke=\"black\" points=\"130.95,-163.16 134.55,-153.19 125.52,-158.74 130.95,-163.16\"/>\n",
       "</g>\n",
       "<!-- 140103444337600 -->\n",
       "<g id=\"node5\" class=\"node\">\n",
       "<title>140103444337600</title>\n",
       "<polygon fill=\"lightgrey\" stroke=\"black\" points=\"149,-263 48,-263 48,-244 149,-244 149,-263\"/>\n",
       "<text text-anchor=\"middle\" x=\"98.5\" y=\"-251\" font-family=\"monospace\" font-size=\"10.00\">AccumulateGrad</text>\n",
       "</g>\n",
       "<!-- 140103444337600&#45;&gt;140103444345760 -->\n",
       "<g id=\"edge3\" class=\"edge\">\n",
       "<title>140103444337600&#45;&gt;140103444345760</title>\n",
       "<path fill=\"none\" stroke=\"black\" d=\"M98.5,-243.75C98.5,-236.8 98.5,-226.85 98.5,-218.13\"/>\n",
       "<polygon fill=\"black\" stroke=\"black\" points=\"102,-218.09 98.5,-208.09 95,-218.09 102,-218.09\"/>\n",
       "</g>\n",
       "<!-- 140103040862384 -->\n",
       "<g id=\"node6\" class=\"node\">\n",
       "<title>140103040862384</title>\n",
       "<polygon fill=\"lightblue\" stroke=\"black\" points=\"125.5,-330 71.5,-330 71.5,-299 125.5,-299 125.5,-330\"/>\n",
       "<text text-anchor=\"middle\" x=\"98.5\" y=\"-306\" font-family=\"monospace\" font-size=\"10.00\"> (1)</text>\n",
       "</g>\n",
       "<!-- 140103040862384&#45;&gt;140103444337600 -->\n",
       "<g id=\"edge4\" class=\"edge\">\n",
       "<title>140103040862384&#45;&gt;140103444337600</title>\n",
       "<path fill=\"none\" stroke=\"black\" d=\"M98.5,-298.92C98.5,-291.22 98.5,-281.69 98.5,-273.43\"/>\n",
       "<polygon fill=\"black\" stroke=\"black\" points=\"102,-273.25 98.5,-263.25 95,-273.25 102,-273.25\"/>\n",
       "</g>\n",
       "</g>\n",
       "</svg>\n"
      ],
      "text/plain": [
       "<graphviz.graphs.Digraph at 0x7f6c6078d360>"
      ]
     },
     "execution_count": 29,
     "metadata": {},
     "output_type": "execute_result"
    }
   ],
   "source": [
    "import torch\n",
    "\n",
    "# Define a tensor with requires_grad=True\n",
    "x = torch.tensor([2.0], requires_grad=True)\n",
    "\n",
    "# Perform a computation\n",
    "y = x**2\n",
    "\n",
    "# Create a clone of y\n",
    "y_clone = y.clone()\n",
    "\n",
    "# Perform a second computation (e.g., derivative of y with respect to x)\n",
    "z = y_clone.sqrt()\n",
    "\n",
    "# Compute gradients\n",
    "z.backward()\n",
    "\n",
    "# Access gradients\n",
    "grad = x.grad\n",
    "print(\"Gradient of x:\", grad.item())\n",
    "\n",
    "torchviz.make_dot((z, y))"
   ]
  }
 ],
 "metadata": {
  "kernelspec": {
   "display_name": "Python [conda env:231n] *",
   "language": "python",
   "name": "conda-env-231n-py"
  },
  "language_info": {
   "codemirror_mode": {
    "name": "ipython",
    "version": 3
   },
   "file_extension": ".py",
   "mimetype": "text/x-python",
   "name": "python",
   "nbconvert_exporter": "python",
   "pygments_lexer": "ipython3",
   "version": "3.10.12"
  }
 },
 "nbformat": 4,
 "nbformat_minor": 5
}
