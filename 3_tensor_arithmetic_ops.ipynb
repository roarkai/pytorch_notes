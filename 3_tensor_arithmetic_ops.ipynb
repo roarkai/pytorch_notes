{
 "cells": [
  {
   "cell_type": "code",
   "execution_count": 1,
   "id": "cd9e538e",
   "metadata": {
    "ExecuteTime": {
     "end_time": "2023-10-08T10:10:45.844960Z",
     "start_time": "2023-10-08T10:10:44.700804Z"
    }
   },
   "outputs": [],
   "source": [
    "import torch\n",
    "import numpy as np"
   ]
  },
  {
   "cell_type": "code",
   "execution_count": 2,
   "id": "096d2aa2",
   "metadata": {
    "ExecuteTime": {
     "end_time": "2023-10-08T10:10:45.849407Z",
     "start_time": "2023-10-08T10:10:45.846607Z"
    }
   },
   "outputs": [],
   "source": [
    "x = torch.ones(2, 3)"
   ]
  },
  {
   "cell_type": "code",
   "execution_count": 3,
   "id": "92876829",
   "metadata": {
    "ExecuteTime": {
     "end_time": "2023-10-08T10:10:45.864393Z",
     "start_time": "2023-10-08T10:10:45.850612Z"
    }
   },
   "outputs": [
    {
     "name": "stdout",
     "output_type": "stream",
     "text": [
      "tensor([[3., 3.],\n",
      "        [3., 3.]]) \n",
      " tensor([[3., 3.],\n",
      "        [3., 3.]]) \n",
      " tensor([[3., 3.],\n",
      "        [3., 3.]])\n"
     ]
    }
   ],
   "source": [
    "# matrix product\n",
    "y1 = x @ x.T\n",
    "y2 = x.matmul(x.T)\n",
    "\n",
    "y3 = torch.zeros((2, 2))\n",
    "torch.matmul(x, x.T, out=y3)\n",
    "print(y1,'\\n', y2,'\\n', y3)"
   ]
  },
  {
   "cell_type": "code",
   "execution_count": 4,
   "id": "2e4cfe16",
   "metadata": {
    "ExecuteTime": {
     "end_time": "2023-10-08T10:12:28.811511Z",
     "start_time": "2023-10-08T10:12:28.801653Z"
    }
   },
   "outputs": [
    {
     "name": "stdout",
     "output_type": "stream",
     "text": [
      "tensor([[1., 1., 1.],\n",
      "        [1., 1., 1.]]) \n",
      " tensor([[1., 1., 1.],\n",
      "        [1., 1., 1.]]) \n",
      " tensor([[1., 1., 1.],\n",
      "        [1., 1., 1.]])\n"
     ]
    }
   ],
   "source": [
    "# element-wise product\n",
    "z1 = x * x\n",
    "z2 = x.mul(x)\n",
    "\n",
    "z3 = torch.rand_like(x)\n",
    "torch.mul(x, x, out=z3)\n",
    "print(z1,'\\n', z2,'\\n', z3)"
   ]
  },
  {
   "cell_type": "code",
   "execution_count": 5,
   "id": "3191b21c",
   "metadata": {
    "ExecuteTime": {
     "end_time": "2023-10-08T10:15:13.364951Z",
     "start_time": "2023-10-08T10:15:13.355488Z"
    }
   },
   "outputs": [
    {
     "name": "stdout",
     "output_type": "stream",
     "text": [
      "tensor(6.) <class 'torch.Tensor'> 6.0 <class 'float'>\n"
     ]
    }
   ],
   "source": [
    "# 从单元素tensor中提取元素的value\n",
    "y = torch.sum(x) # or y = x.sum()\n",
    "value_y = y.item()\n",
    "print(y, type(y), value_y, type(value_y))"
   ]
  },
  {
   "cell_type": "code",
   "execution_count": 14,
   "id": "158e4206",
   "metadata": {
    "ExecuteTime": {
     "end_time": "2023-10-08T10:20:07.071754Z",
     "start_time": "2023-10-08T10:20:07.068417Z"
    }
   },
   "outputs": [
    {
     "name": "stdout",
     "output_type": "stream",
     "text": [
      "原x:\n",
      " tensor([[0.1617, 0.2208, 0.0075],\n",
      "        [0.2653, 0.7194, 0.3697]])\n",
      "in-place add:\n",
      " tensor([[1.1617, 1.2208, 1.0075],\n",
      "        [1.2653, 1.7194, 1.3697]])\n"
     ]
    }
   ],
   "source": [
    "# in-place ops用下划线标记\n",
    "# 注意：虽然in-place操作可以节省存储空间，但求梯度的时候不要用，会丢失weights history\n",
    "x = torch.rand((2, 3))\n",
    "print('原x:\\n', x)\n",
    "x.add_(1)\n",
    "print('in-place add:\\n', x)\n",
    "x.t_()\n",
    "print('in-place transpose:\\n', x)"
   ]
  },
  {
   "cell_type": "code",
   "execution_count": 15,
   "id": "f97213e7",
   "metadata": {
    "ExecuteTime": {
     "end_time": "2023-10-08T10:20:07.838194Z",
     "start_time": "2023-10-08T10:20:07.835390Z"
    }
   },
   "outputs": [
    {
     "name": "stdout",
     "output_type": "stream",
     "text": [
      "in-place transpose:\n",
      " tensor([[1.1617, 1.2653],\n",
      "        [1.2208, 1.7194],\n",
      "        [1.0075, 1.3697]])\n"
     ]
    }
   ],
   "source": []
  }
 ],
 "metadata": {
  "kernelspec": {
   "display_name": "Python [conda env:231n] *",
   "language": "python",
   "name": "conda-env-231n-py"
  },
  "language_info": {
   "codemirror_mode": {
    "name": "ipython",
    "version": 3
   },
   "file_extension": ".py",
   "mimetype": "text/x-python",
   "name": "python",
   "nbconvert_exporter": "python",
   "pygments_lexer": "ipython3",
   "version": "3.10.12"
  }
 },
 "nbformat": 4,
 "nbformat_minor": 5
}
