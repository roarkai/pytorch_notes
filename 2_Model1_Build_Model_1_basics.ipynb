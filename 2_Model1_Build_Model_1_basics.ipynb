{
 "cells": [
  {
   "cell_type": "markdown",
   "id": "23724491",
   "metadata": {},
   "source": [
    "# Build model\n",
    "<font color=blue>[包含tutorial的Build model和developer note的Modules]</font>\n",
    "## 1. 什么是module，pytorch有哪些module类型？\n",
    " - module是构建神经网络的基础模块，pytorch用module来表达神经网络。\n",
    " - pytorch提供了一个modules库，也支持自定义modules。用他们可以很容易地构建多层神经网络。\n",
    "   - 具体实现来看，<font color=green>**namespace**</font> **torch.nn**提供了layers, containers和utilities三种主要的module类型，并使用**tensor类型的nn.Parameter**作为modules parameter。\n",
    "1. <font color=blue>**Layers：**</font>NN通过layers对数据进行操作。pytorch用modules来表达这些layers,比如conv, affine, pooling, normalization, transformer和loss functions等\n",
    "2. <font color=blue>**containers：**</font>有3类container，nn.Module，nn.Sequential和holders of submodules。\\\n",
    "(1)**torch.nn.Module**。它是所有NN modules的base class，pytorch中所有的module都是**nn.Module**的子类\\\n",
    "(2)**torch.nn.Sequential**：以序列形式将1个或多个module顺序排列，体现了module的nestable\\\n",
    "(3)holders of submodules,其中：**nn.ModuleList，nn.ModuleDict**分别是以list和dictionary类型存储的module序列。**nn.ParamterList和nn.ParameterDict**分别是以list和dictionary形式存储的参数。\n",
    "3. <font color=blue>**utilities：**</font>把一些数据处理的函数以modules的形式表达。\n",
    "\n",
    "## 2. module的特点\n",
    "- module和autograd system一起工作：modules使optimizer update参数非常方便。因为module能在autograd system的管理下自动完成requires_grad=True的tensor的梯度计算，optimizer可以在此基础上自动工作。\n",
    "- pytorch中的module可以nest：每个神经网络模型自身都是一个module，该module又由其他modules(layers)构成。这种nest structure可以很方便的构造复杂的网络架构。\n",
    "- **nn.Module**的子类会自动track参数，可以用两个method来查看：parameters()和named_parameters()\n",
    "   - <font color=orange>module和autograd.Functional相比，可以自动维护module.parameters()中的参数。</font>\n",
    "- 好用，而且也容易对module做各种调整：modules的save和restore都很直接，在CPU/GPU之间移动，做prune，quantize和其他很多操作都很方便"
   ]
  },
  {
   "cell_type": "code",
   "execution_count": 1,
   "id": "13ea8140",
   "metadata": {
    "ExecuteTime": {
     "end_time": "2024-08-06T04:51:28.563087Z",
     "start_time": "2024-08-06T04:51:26.662066Z"
    },
    "scrolled": true
   },
   "outputs": [
    {
     "name": "stderr",
     "output_type": "stream",
     "text": [
      "/home/roark/anaconda3/envs/231n/lib/python3.10/site-packages/torchvision/io/image.py:13: UserWarning: Failed to load image Python extension: '/home/roark/anaconda3/envs/231n/lib/python3.10/site-packages/torchvision/image.so: undefined symbol: _ZN3c1017RegisterOperatorsD1Ev'If you don't plan on using image functionality from `torchvision.io`, you can ignore this warning. Otherwise, there might be something wrong with your environment. Did you have `libjpeg` or `libpng` installed before building `torchvision` from source?\n",
      "  warn(\n"
     ]
    },
    {
     "name": "stdout",
     "output_type": "stream",
     "text": [
      "Using cuda device\n"
     ]
    }
   ],
   "source": [
    "import os\n",
    "import torch\n",
    "import torch.nn as nn           # for torch.nn.Module\n",
    "import torch.nn.functional as F # for the activation function\n",
    "from torch.utils.data import DataLoader\n",
    "from torchvision import datasets, transforms\n",
    "\n",
    "device = (\"cuda\" if torch.cuda.is_available() else \"cpu\")\n",
    "print(f\"Using {device} device\")"
   ]
  },
  {
   "cell_type": "markdown",
   "id": "70a0e4f0",
   "metadata": {},
   "source": [
    "## 3. 自定义module实现不同的功能\n",
    "- 自定义model要定义为**nn.Module**的子类，每个子类必须定义<font color=blue>**\\__init\\__()和forward()**</font>两个method。\n",
    "  - module通过他们package <font color=blue>state and computation</font> together。\n",
    "    - 模型对input data的操作都放在forward() method中。forward()用来指定要执行的computation，用的operation是nn.autograd.Function的子类的实例。这些子类可以是pytorch定义好的，也可以是自定义的。\n",
    "    - \\__init__()中要对computation涉及的参数做register，登记后参数就会成为state的一部分，作为<font color=brown>learnable aspects of module's computation</font>。autograd system工作时就能track他们。\n",
    "      - register的方法是在\\__init\\__()中将parameter定义为nn.Parameter的实例。\n",
    "- module本身是callable的，call module会invoke forward function。\n",
    "- Parameter class是torch.Tensor的子类，但他们可以被assigned as attributes of a Module。一旦实例化后，这些parameters就会被加到lists of the module's parameters。\n",
    "  - 可以通过module.parameters()和model.namedparameters()来iterate throgh。"
   ]
  },
  {
   "cell_type": "markdown",
   "id": "67326e23",
   "metadata": {},
   "source": [
    "- <font color=green>**用nn.Mudule来实例化module时，只implement forward() method不用implement backward() method**。</font>因为：\n",
    "   - <font color=blue>用nn.autograd.Function来实例化（自定义）Function时，要同时implement forward() and backward() methods</font> \n",
    "   - <font color=blue>autograd system会用Function中的backward来自动处理module中用到的function的backward pass。</font>"
   ]
  },
  {
   "cell_type": "markdown",
   "id": "6be88166",
   "metadata": {},
   "source": [
    "### 3.1 自定义一个简单的layer Module"
   ]
  },
  {
   "cell_type": "code",
   "execution_count": 2,
   "id": "c2951b8c",
   "metadata": {
    "ExecuteTime": {
     "end_time": "2024-08-06T04:51:28.568867Z",
     "start_time": "2024-08-06T04:51:28.565229Z"
    }
   },
   "outputs": [],
   "source": [
    "class MyLinear(nn.Module):  # 必须是nn.Module的子类\n",
    "    def __init__(self, in_features, out_features):\n",
    "        super().__init__()\n",
    "\n",
    "        # registering parameters: 参数定义成nn.Parameter的实例\n",
    "        # 此时autograd会自动tracking并让optimizer在迭代时update\n",
    "        self.weight = nn.Parameter(torch.randn(in_features, out_features))\n",
    "        self.bias = nn.Parameter(torch.randn(out_features))\n",
    "\n",
    "  # implement forward() method\n",
    "    def forward(self, input):\n",
    "        return input @ self.weight + self.bias"
   ]
  },
  {
   "cell_type": "code",
   "execution_count": 3,
   "id": "e63c55dd",
   "metadata": {
    "ExecuteTime": {
     "end_time": "2024-08-06T04:51:28.587817Z",
     "start_time": "2024-08-06T04:51:28.570259Z"
    }
   },
   "outputs": [
    {
     "data": {
      "text/plain": [
       "tensor([ 1.3376, -0.0370, -0.2683], grad_fn=<AddBackward0>)"
      ]
     },
     "execution_count": 3,
     "metadata": {},
     "output_type": "execute_result"
    }
   ],
   "source": [
    "model = MyLinear(4, 3)          \n",
    "sample_input = torch.randn(4)  \n",
    "\n",
    "# model is callable, calling invoke forward function\n",
    "model(sample_input)"
   ]
  },
  {
   "cell_type": "code",
   "execution_count": 4,
   "id": "e2e2b36d",
   "metadata": {
    "ExecuteTime": {
     "end_time": "2024-08-06T04:51:28.595933Z",
     "start_time": "2024-08-06T04:51:28.590523Z"
    }
   },
   "outputs": [
    {
     "name": "stdout",
     "output_type": "stream",
     "text": [
      "Parameter containing:\n",
      "tensor([[-0.3550,  0.9415,  0.8648],\n",
      "        [-0.2813, -0.8728, -0.7064],\n",
      "        [-0.5670,  0.3550, -0.2009],\n",
      "        [ 1.9295, -0.5165, -0.7180]], requires_grad=True)\n",
      "Parameter containing:\n",
      "tensor([-0.9009, -1.1516, -0.8664], requires_grad=True)\n",
      "\n",
      "\n",
      "('weight', Parameter containing:\n",
      "tensor([[-0.3550,  0.9415,  0.8648],\n",
      "        [-0.2813, -0.8728, -0.7064],\n",
      "        [-0.5670,  0.3550, -0.2009],\n",
      "        [ 1.9295, -0.5165, -0.7180]], requires_grad=True))\n",
      "('bias', Parameter containing:\n",
      "tensor([-0.9009, -1.1516, -0.8664], requires_grad=True))\n"
     ]
    }
   ],
   "source": [
    "## 遍历parameters()\n",
    "for parameter in model.parameters():\n",
    "    print(parameter)\n",
    "\n",
    "print('\\n')\n",
    "    \n",
    "## 遍历parameters named_parameters()\n",
    "#  这里weights和bias是parameter的name\n",
    "for parameter in model.named_parameters():\n",
    "    print(parameter)"
   ]
  },
  {
   "cell_type": "markdown",
   "id": "8f145b3d",
   "metadata": {},
   "source": [
    "### 3.2 将modules作为network的基础模块(building blocks)\n",
    "- modules contain other modules让他们成为实现复杂功能的building blocks。"
   ]
  },
  {
   "cell_type": "markdown",
   "id": "f297ab23",
   "metadata": {
    "ExecuteTime": {
     "end_time": "2023-10-20T09:10:48.862543Z",
     "start_time": "2023-10-20T09:10:48.859143Z"
    }
   },
   "source": [
    "#### 3.2.1 用nn.Sequential来chain together多个layer modules\n",
    "- nn.Sequential会自动将上一层的输出传给下一层作为输入。<font color=red>但只在输入和输出都是单变量的情况时有效。</font>\n",
    "- 除了下面例子中非常简单的案例，不建议直接用Sequential来定义module，因为sequential中用submodule的方式单一。<font color=green>最好自定义module，这样module中使用submodule来做computation的方式可以非常灵活。</font>"
   ]
  },
  {
   "cell_type": "code",
   "execution_count": 5,
   "id": "9b22cb2c",
   "metadata": {
    "ExecuteTime": {
     "end_time": "2024-08-06T04:51:28.602906Z",
     "start_time": "2024-08-06T04:51:28.597588Z"
    }
   },
   "outputs": [
    {
     "data": {
      "text/plain": [
       "tensor([0.2850], grad_fn=<AddBackward0>)"
      ]
     },
     "execution_count": 5,
     "metadata": {},
     "output_type": "execute_result"
    }
   ],
   "source": [
    "# nn.Sequential本身也是nn.Module的子类，所以实例化得到的也是module\n",
    "net = nn.Sequential(\n",
    "    MyLinear(4, 3),\n",
    "    nn.ReLU(),\n",
    "    MyLinear(3, 1)\n",
    ")\n",
    "\n",
    "simple_input = torch.randn(4)\n",
    "net(sample_input)"
   ]
  },
  {
   "cell_type": "markdown",
   "id": "e87baec6",
   "metadata": {},
   "source": [
    "####  3.2.2 自定义module来搭建network：只用layer module\n",
    "- 在__init__()中定义的submodule通常用torch.nn中或者自定义的layer module，对应神经网络中的layer。\n",
    "  - **对比这里和前面用module类自定义layer module**：\n",
    "    - 在用module自定义layer module时__init__()中定义的是forward computation中使用的parameters。此时，这些parameters被registered，从而被autograd system track到\n",
    "    - 这里的__init__()中定义的是forward computation中使用的有parameters的 modules，这些modules中的parameters也会被registered。并且如果module不是简单的layer module，而是有submodule的话，submodule中的参数全都会被registered。\n",
    "- 在__init__()中定义的submodule也可以用nn.ModuleList,nn.ModuleDict，他们可以实现动态定义submodule"
   ]
  },
  {
   "cell_type": "code",
   "execution_count": 6,
   "id": "d9106542",
   "metadata": {
    "ExecuteTime": {
     "end_time": "2024-08-06T04:51:28.607871Z",
     "start_time": "2024-08-06T04:51:28.604402Z"
    }
   },
   "outputs": [],
   "source": [
    "class Net(nn.Module):\n",
    "    def __init__(self):\n",
    "        super().__init__()\n",
    "        self.layer0 = MyLinear(4, 3)\n",
    "        self.layer1 = MyLinear(3, 1)  # 定义了两个submodule\n",
    "    \n",
    "    def forward(self, x):\n",
    "        x = self.layer0(x)\n",
    "        x = F.relu(x)                 # relu不是submodule，是function\n",
    "        x = self.layer1(x)\n",
    "        return x"
   ]
  },
  {
   "cell_type": "code",
   "execution_count": 7,
   "id": "e718a358",
   "metadata": {
    "ExecuteTime": {
     "end_time": "2024-08-06T04:51:28.613274Z",
     "start_time": "2024-08-06T04:51:28.609389Z"
    }
   },
   "outputs": [],
   "source": [
    "class Net2(nn.Module):\n",
    "    def __init__(self):\n",
    "        super().__init__()\n",
    "        self.layer0 = MyLinear(4, 3)\n",
    "        self.relu = nn.ReLU()         # 用的nn中的ReLU module\n",
    "        self.layer1 = MyLinear(3, 1)  # 定义了3个submodule\n",
    "    \n",
    "    def forward(self, x):\n",
    "        x = self.layer0(x)\n",
    "        x = self.relu(x)              # 这里relu是submodule\n",
    "        x = self.layer1(x)\n",
    "        return x\n",
    "# 可以这么处理，但不必要，因为ReLU没有参数，没必要用module，就function就好"
   ]
  },
  {
   "cell_type": "markdown",
   "id": "e7f029af",
   "metadata": {},
   "source": [
    "- **可以用children() or named_children()来iterate遍历module的immediate children**"
   ]
  },
  {
   "cell_type": "code",
   "execution_count": 8,
   "id": "76ed2044",
   "metadata": {
    "ExecuteTime": {
     "end_time": "2024-08-06T04:51:28.618346Z",
     "start_time": "2024-08-06T04:51:28.614842Z"
    }
   },
   "outputs": [
    {
     "name": "stdout",
     "output_type": "stream",
     "text": [
      "('layer0', MyLinear())\n",
      "('layer1', MyLinear())\n"
     ]
    }
   ],
   "source": [
    "net = Net()\n",
    "for child in net.named_children():\n",
    "    print(child)"
   ]
  },
  {
   "cell_type": "code",
   "execution_count": 9,
   "id": "a42b29f6",
   "metadata": {
    "ExecuteTime": {
     "end_time": "2024-08-06T04:51:28.622735Z",
     "start_time": "2024-08-06T04:51:28.619960Z"
    }
   },
   "outputs": [],
   "source": [
    "# 对比前面例子中直接用tensor operation定义的module\n",
    "# 此时module中没有child\n",
    "for child in model.children():\n",
    "    print(child)"
   ]
  },
  {
   "cell_type": "code",
   "execution_count": 10,
   "id": "0886481a",
   "metadata": {
    "ExecuteTime": {
     "end_time": "2024-08-06T04:51:28.629558Z",
     "start_time": "2024-08-06T04:51:28.626438Z"
    }
   },
   "outputs": [
    {
     "name": "stdout",
     "output_type": "stream",
     "text": [
      "('layer0', MyLinear())\n",
      "('relu', ReLU())\n",
      "('layer1', MyLinear())\n"
     ]
    }
   ],
   "source": [
    "# 也可以把relu处理成module\n",
    "net2 = Net2()\n",
    "for child in net2.named_children():\n",
    "    print(child)"
   ]
  },
  {
   "cell_type": "markdown",
   "id": "b7dd1733",
   "metadata": {},
   "source": [
    "- 如果不止想查看immediate children，想深入看所有nested的module，就用**modules() and named_modules() recursively iterate through a module and its child modules**"
   ]
  },
  {
   "cell_type": "code",
   "execution_count": 11,
   "id": "c2152ffd",
   "metadata": {
    "ExecuteTime": {
     "end_time": "2024-08-06T04:51:28.634911Z",
     "start_time": "2024-08-06T04:51:28.631111Z"
    },
    "scrolled": true
   },
   "outputs": [],
   "source": [
    "class BigNet(nn.Module):\n",
    "    def __init__(self):\n",
    "        super().__init__()\n",
    "        self.l1 = MyLinear(5, 4)\n",
    "        self.net = Net()\n",
    "    def forward(self, x):\n",
    "        return self.net(self.l1(x))\n",
    "\n",
    "big_net = BigNet()"
   ]
  },
  {
   "cell_type": "code",
   "execution_count": 12,
   "id": "0c6d8ac4",
   "metadata": {
    "ExecuteTime": {
     "end_time": "2024-08-06T04:51:28.639635Z",
     "start_time": "2024-08-06T04:51:28.636402Z"
    }
   },
   "outputs": [
    {
     "name": "stdout",
     "output_type": "stream",
     "text": [
      "MyLinear()\n",
      "Net(\n",
      "  (layer0): MyLinear()\n",
      "  (layer1): MyLinear()\n",
      ")\n"
     ]
    }
   ],
   "source": [
    "# 只看immediate children\n",
    "for child in big_net.children():\n",
    "    print(child)"
   ]
  },
  {
   "cell_type": "code",
   "execution_count": 13,
   "id": "c55fab76",
   "metadata": {
    "ExecuteTime": {
     "end_time": "2024-08-06T04:51:28.644634Z",
     "start_time": "2024-08-06T04:51:28.641318Z"
    }
   },
   "outputs": [
    {
     "name": "stdout",
     "output_type": "stream",
     "text": [
      "----------------------------------------------------\n",
      "('', BigNet(\n",
      "  (l1): MyLinear()\n",
      "  (net): Net(\n",
      "    (layer0): MyLinear()\n",
      "    (layer1): MyLinear()\n",
      "  )\n",
      "))\n",
      "----------------------------------------------------\n",
      "('l1', MyLinear())\n",
      "----------------------------------------------------\n",
      "('net', Net(\n",
      "  (layer0): MyLinear()\n",
      "  (layer1): MyLinear()\n",
      "))\n",
      "----------------------------------------------------\n",
      "('net.layer0', MyLinear())\n",
      "----------------------------------------------------\n",
      "('net.layer1', MyLinear())\n"
     ]
    }
   ],
   "source": [
    "# 看所有nested children\n",
    "for module in big_net.named_modules():\n",
    "    print('-' * 52)\n",
    "    print(module)"
   ]
  },
  {
   "cell_type": "markdown",
   "id": "80c0e3a1",
   "metadata": {},
   "source": [
    "####  3.2.3 自定义module来搭建network：用ModuleList/ModuleDict来dynamically define submodule\n",
    "- 用ModuleList或者ModuleDict在自定义module的__init__()中定义submodule\n",
    "  - ModuleList和ModuleDict都会自动register list/Dict中的submodule。实际上登记的是submodule中的参数。此时，calls to parameters() and named_parameters() will recursively include child parameters, 使得对network中所有parameters做optimization非常方便。"
   ]
  },
  {
   "cell_type": "code",
   "execution_count": 14,
   "id": "551de685",
   "metadata": {
    "ExecuteTime": {
     "end_time": "2024-08-06T04:51:28.651330Z",
     "start_time": "2024-08-06T04:51:28.646091Z"
    }
   },
   "outputs": [],
   "source": [
    "class DynamicNet(nn.Module):\n",
    "    def __init__(self, num_layers):\n",
    "        super().__init__()\n",
    "        self.linears = nn.ModuleList(\n",
    "            [MyLinear(4, 4) for _ in range(num_layers)])\n",
    "        self.activations = nn.ModuleDict({\n",
    "            'relu': nn.ReLU(),\n",
    "            'lrelu': nn.LeakyReLU()\n",
    "        })\n",
    "        self.final = MyLinear(4, 1)\n",
    "        \n",
    "    def forward(self, x, act):\n",
    "        for linear in self.linears:\n",
    "            x = linear(x)\n",
    "        x = self.activations[act](x)\n",
    "        x = self.final(x)\n",
    "        return x\n",
    "\n",
    "dynamic_net = DynamicNet(3)\n",
    "sample_input = torch.randn(4)\n",
    "output = dynamic_net(sample_input, 'relu')"
   ]
  },
  {
   "cell_type": "markdown",
   "id": "7af90dd5",
   "metadata": {},
   "source": [
    "- **child module由__init__()中排列的module sequence决定，不由forward()实际执行的computation决定**"
   ]
  },
  {
   "cell_type": "code",
   "execution_count": 15,
   "id": "f75c3991",
   "metadata": {
    "ExecuteTime": {
     "end_time": "2024-08-06T04:51:28.656179Z",
     "start_time": "2024-08-06T04:51:28.652887Z"
    }
   },
   "outputs": [
    {
     "name": "stdout",
     "output_type": "stream",
     "text": [
      "----------------------------------------------------\n",
      "('', DynamicNet(\n",
      "  (linears): ModuleList(\n",
      "    (0-2): 3 x MyLinear()\n",
      "  )\n",
      "  (activations): ModuleDict(\n",
      "    (relu): ReLU()\n",
      "    (lrelu): LeakyReLU(negative_slope=0.01)\n",
      "  )\n",
      "  (final): MyLinear()\n",
      "))\n",
      "----------------------------------------------------\n",
      "('linears', ModuleList(\n",
      "  (0-2): 3 x MyLinear()\n",
      "))\n",
      "----------------------------------------------------\n",
      "('linears.0', MyLinear())\n",
      "----------------------------------------------------\n",
      "('linears.1', MyLinear())\n",
      "----------------------------------------------------\n",
      "('linears.2', MyLinear())\n",
      "----------------------------------------------------\n",
      "('activations', ModuleDict(\n",
      "  (relu): ReLU()\n",
      "  (lrelu): LeakyReLU(negative_slope=0.01)\n",
      "))\n",
      "----------------------------------------------------\n",
      "('activations.relu', ReLU())\n",
      "----------------------------------------------------\n",
      "('activations.lrelu', LeakyReLU(negative_slope=0.01))\n",
      "----------------------------------------------------\n",
      "('final', MyLinear())\n"
     ]
    }
   ],
   "source": [
    "for module in dynamic_net.named_modules():\n",
    "    print('-'*52)\n",
    "    print(module)"
   ]
  },
  {
   "cell_type": "code",
   "execution_count": 16,
   "id": "8f225eed",
   "metadata": {
    "ExecuteTime": {
     "end_time": "2024-08-06T04:51:28.663202Z",
     "start_time": "2024-08-06T04:51:28.657625Z"
    }
   },
   "outputs": [
    {
     "name": "stdout",
     "output_type": "stream",
     "text": [
      "--------------------------------------------------------------------\n",
      "('linears.0.weight', Parameter containing:\n",
      "tensor([[-0.2599, -0.5645, -0.0587, -0.9620],\n",
      "        [-0.4756,  0.3471,  0.2669, -0.8156],\n",
      "        [ 0.7448, -0.2851, -0.7745,  0.4289],\n",
      "        [-1.1384,  0.1852, -0.9535,  1.3573]], requires_grad=True))\n",
      "--------------------------------------------------------------------\n",
      "('linears.0.bias', Parameter containing:\n",
      "tensor([-1.6436,  0.5007,  0.0061, -0.7417], requires_grad=True))\n",
      "--------------------------------------------------------------------\n",
      "('linears.1.weight', Parameter containing:\n",
      "tensor([[-0.9521, -1.1884,  1.3178,  0.4964],\n",
      "        [-0.4773, -0.6498,  1.3463,  0.4104],\n",
      "        [-0.1620, -0.5115, -0.5420,  0.1848],\n",
      "        [ 0.6219, -0.4513,  0.1677,  1.2817]], requires_grad=True))\n",
      "--------------------------------------------------------------------\n",
      "('linears.1.bias', Parameter containing:\n",
      "tensor([ 0.7707,  0.3933, -1.1715,  0.5077], requires_grad=True))\n",
      "--------------------------------------------------------------------\n",
      "('linears.2.weight', Parameter containing:\n",
      "tensor([[ 0.4696,  0.3354, -1.0386, -0.3657],\n",
      "        [-1.9137, -0.0872, -0.8220, -1.9170],\n",
      "        [ 0.1519, -2.3662,  0.6530,  0.4100],\n",
      "        [ 1.1906, -0.0227,  0.2199,  1.5487]], requires_grad=True))\n",
      "--------------------------------------------------------------------\n",
      "('linears.2.bias', Parameter containing:\n",
      "tensor([ 0.3824,  0.3318, -2.3936,  0.0717], requires_grad=True))\n",
      "--------------------------------------------------------------------\n",
      "('final.weight', Parameter containing:\n",
      "tensor([[ 1.0859],\n",
      "        [ 0.5528],\n",
      "        [-0.1298],\n",
      "        [ 1.2439]], requires_grad=True))\n",
      "--------------------------------------------------------------------\n",
      "('final.bias', Parameter containing:\n",
      "tensor([0.6525], requires_grad=True))\n"
     ]
    }
   ],
   "source": [
    "for parameter in dynamic_net.named_parameters():\n",
    "    print('-'*68)\n",
    "    print(parameter)"
   ]
  },
  {
   "cell_type": "markdown",
   "id": "5a485448",
   "metadata": {},
   "source": [
    "#### 3.2.4 移动参数的设备，改变参数精度，用.to()"
   ]
  },
  {
   "cell_type": "code",
   "execution_count": 17,
   "id": "e3ebc9d1",
   "metadata": {
    "ExecuteTime": {
     "end_time": "2024-08-06T04:51:29.021527Z",
     "start_time": "2024-08-06T04:51:28.664486Z"
    }
   },
   "outputs": [
    {
     "data": {
      "text/plain": [
       "tensor([7.3285], device='cuda:0', dtype=torch.float64, grad_fn=<AddBackward0>)"
      ]
     },
     "execution_count": 17,
     "metadata": {},
     "output_type": "execute_result"
    }
   ],
   "source": [
    "# 将module移动到cuda\n",
    "dynamic_net.to(device='cuda')\n",
    "\n",
    "# 改变数据类型\n",
    "dynamic_net.to(dtype=torch.float64)\n",
    "\n",
    "dynamic_net(torch.randn(4, device='cuda', dtype=torch.float64), 'relu')"
   ]
  },
  {
   "cell_type": "markdown",
   "id": "6555f4a6",
   "metadata": {},
   "source": [
    "#### 3.2.5 module和submodule可以apply任意函数，包括自定义函数\n",
    "- module.apply(func)可以将任意函数recursively apply到module及其submodule上\n",
    "- <font color=green>此时要注意判断func是否需要参与梯度计算，不需要的话要设置no_grad属性</font>"
   ]
  },
  {
   "cell_type": "code",
   "execution_count": 18,
   "id": "56d8daee",
   "metadata": {
    "ExecuteTime": {
     "end_time": "2024-08-06T04:51:29.027991Z",
     "start_time": "2024-08-06T04:51:29.023364Z"
    }
   },
   "outputs": [
    {
     "data": {
      "text/plain": [
       "DynamicNet(\n",
       "  (linears): ModuleList(\n",
       "    (0-2): 3 x MyLinear()\n",
       "  )\n",
       "  (activations): ModuleDict(\n",
       "    (relu): ReLU()\n",
       "    (lrelu): LeakyReLU(negative_slope=0.01)\n",
       "  )\n",
       "  (final): MyLinear()\n",
       ")"
      ]
     },
     "execution_count": 18,
     "metadata": {},
     "output_type": "execute_result"
    }
   ],
   "source": [
    "## 定义一个初始化整个module的Linear weights的函数\n",
    "# no_grad()用来avoid tracking this computation in the autograd graph.\n",
    "@torch.no_grad()\n",
    "def init_weights(m):\n",
    "    if isinstance(m, nn.Linear):\n",
    "        nn.init.xavier_normal_(m.weight) # init操作用in-place节省空间\n",
    "        m.bias.fill_(0.0)\n",
    "\n",
    "# Apply the function recursively on the module and its submodules.\n",
    "dynamic_net.apply(init_weights)"
   ]
  },
  {
   "cell_type": "markdown",
   "id": "c1f63538",
   "metadata": {},
   "source": [
    "## 4. 使用module训练NN\n",
    "**module有两种mode：trainning mode和evaluation mode**\n",
    "1. module默认处于training mode。用training()和eval()可以改变module所处mode。\n",
    "2. 如果module中有submodule在training mode和evaluation mode的时候输出不同，那么就应该在inference的时候将mode改为evaluation mode，比如batchnorm"
   ]
  },
  {
   "cell_type": "code",
   "execution_count": 19,
   "id": "85d6837a",
   "metadata": {
    "ExecuteTime": {
     "end_time": "2024-08-06T04:51:32.757265Z",
     "start_time": "2024-08-06T04:51:29.029244Z"
    }
   },
   "outputs": [
    {
     "data": {
      "text/plain": [
       "Net(\n",
       "  (layer0): MyLinear()\n",
       "  (layer1): MyLinear()\n",
       ")"
      ]
     },
     "execution_count": 19,
     "metadata": {},
     "output_type": "execute_result"
    }
   ],
   "source": [
    "# 新建network和optimizer\n",
    "net = Net()\n",
    "optimizer = torch.optim.SGD(net.parameters(), lr=1e-4, \n",
    "                            weight_decay=1e-2, momentum=0.9)\n",
    "\n",
    "# trainging the netword\n",
    "for _ in range(10000):\n",
    "    input = torch.randn(4)\n",
    "    output = net(input)\n",
    "    loss = torch.abs(output) # 用abs做loss，会让weights趋于0\n",
    "    \n",
    "    net.zero_grad()\n",
    "    loss.backward()\n",
    "    optimizer.step()\n",
    "    \n",
    "# training完成后，将module转到eval mode\n",
    "net.eval()"
   ]
  },
  {
   "cell_type": "code",
   "execution_count": 20,
   "id": "e7a99c86",
   "metadata": {
    "ExecuteTime": {
     "end_time": "2024-08-06T04:51:32.764208Z",
     "start_time": "2024-08-06T04:51:32.759706Z"
    }
   },
   "outputs": [
    {
     "name": "stdout",
     "output_type": "stream",
     "text": [
      "Parameter containing:\n",
      "tensor([[-3.2114e-04],\n",
      "        [ 1.4435e+00],\n",
      "        [ 1.9327e+00]], requires_grad=True)\n"
     ]
    }
   ],
   "source": [
    "print(net.layer1.weight)"
   ]
  },
  {
   "cell_type": "code",
   "execution_count": 21,
   "id": "31db1caf",
   "metadata": {
    "ExecuteTime": {
     "end_time": "2024-08-06T04:51:32.774963Z",
     "start_time": "2024-08-06T04:51:32.765573Z"
    },
    "scrolled": true
   },
   "outputs": [
    {
     "name": "stdout",
     "output_type": "stream",
     "text": [
      "training mode output: tensor([ 1.7402, -0.7920,  0.6037,  1.0033])\n",
      "evaluation mode output: tensor([ 0.7402, -1.7920, -0.3963,  0.0033])\n"
     ]
    }
   ],
   "source": [
    "# 在training和evaluation mode下输出不同的例子\n",
    "class ModalModule(nn.Module):\n",
    "  def __init__(self):\n",
    "    super().__init__()\n",
    "\n",
    "  def forward(self, x):\n",
    "    if self.training:\n",
    "      # Add a constant only in training mode.\n",
    "      return x + 1.\n",
    "    else:\n",
    "      return x\n",
    "\n",
    "m = ModalModule()\n",
    "x = torch.randn(4)\n",
    "print('training mode output: {}'.format(m(x)))\n",
    "\n",
    "m.eval()\n",
    "print('evaluation mode output: {}'.format(m(x)))"
   ]
  },
  {
   "cell_type": "markdown",
   "id": "2405a4ab",
   "metadata": {},
   "source": [
    "## 5. module初始化\n",
    "- **建议方式：先skip_init()method，之后自定义初始化方式。**\n",
    "- **不建议使用**：\n",
    "  - (1) 默认初始化，torch.nn提供的module中的parameter和浮点数buffer会在module实例化的时候初始化为存在CPU上的32位浮点数值。\n",
    "  - (2) 在module实例化的时候设置对应的arguments"
   ]
  },
  {
   "cell_type": "code",
   "execution_count": 22,
   "id": "62b1949b",
   "metadata": {
    "ExecuteTime": {
     "end_time": "2024-08-06T04:51:32.780962Z",
     "start_time": "2024-08-06T04:51:32.777061Z"
    }
   },
   "outputs": [],
   "source": [
    "# 将module直接初始化到GPU上，参数类型为16位浮点数\n",
    "m = nn.Linear(5, 3, device='cuda', dtype=torch.half)"
   ]
  },
  {
   "cell_type": "code",
   "execution_count": 23,
   "id": "9ae1ae7a",
   "metadata": {
    "ExecuteTime": {
     "end_time": "2024-08-06T04:51:32.786781Z",
     "start_time": "2024-08-06T04:51:32.782359Z"
    }
   },
   "outputs": [
    {
     "name": "stdout",
     "output_type": "stream",
     "text": [
      "tensor([0., 0., 0.], dtype=torch.float16)\n"
     ]
    }
   ],
   "source": [
    "# 除参数外，上述初始化方式也适用于floating-point buffers registered for the module\n",
    "m = nn.BatchNorm2d(3, dtype=torch.half)\n",
    "print(m.running_mean)"
   ]
  },
  {
   "cell_type": "code",
   "execution_count": 24,
   "id": "69ec708b",
   "metadata": {
    "ExecuteTime": {
     "end_time": "2024-08-06T04:51:32.798525Z",
     "start_time": "2024-08-06T04:51:32.788266Z"
    }
   },
   "outputs": [
    {
     "data": {
      "text/plain": [
       "Parameter containing:\n",
       "tensor([[-0.0164, -0.0865,  0.4707,  0.6579, -0.5813],\n",
       "        [-0.0952, -0.2116,  0.5484,  0.2515,  0.7630],\n",
       "        [ 0.8967,  0.4016,  0.1020,  0.1043,  0.1156]], requires_grad=True)"
      ]
     },
     "execution_count": 24,
     "metadata": {},
     "output_type": "execute_result"
    }
   ],
   "source": [
    "# 例：自定义参数初始化为正交矩阵\n",
    "m = torch.nn.utils.skip_init(nn.Linear, 5, 3)\n",
    "nn.init.orthogonal_(m.weight)"
   ]
  },
  {
   "cell_type": "markdown",
   "id": "0b983495",
   "metadata": {},
   "source": [
    "- <font color=blue>**使用skip_init() method要满足两个条件：**</font>\n",
    "  1. module的constructor中必须有device kwarg，他要传给constructor中所有的parameters和buffers\n",
    "  2. 除了nn.init中的初始化操作之外，parameters和buffers在constructor中不能参与任何其他computation。\n",
    "  - 另外还有一个不是必须，单建议遵守的规则是：module的constructor中加上dtype  kwarg，传给constructor中定义的所有parameter和floating-point buffers 。"
   ]
  },
  {
   "cell_type": "code",
   "execution_count": 25,
   "id": "3be100f2",
   "metadata": {
    "ExecuteTime": {
     "end_time": "2024-08-06T04:51:32.804888Z",
     "start_time": "2024-08-06T04:51:32.800160Z"
    }
   },
   "outputs": [],
   "source": [
    "import torch\n",
    "from torch import nn\n",
    "\n",
    "class MyModule(torch.nn.Module):\n",
    "  def __init__(self, foo, bar, device=None):\n",
    "    super().__init__()\n",
    "\n",
    "    # ==== Case 1: Module直接创建parameters. ====\n",
    "    # 必须把device参数传给所有新建的parameters.\n",
    "    self.param1 = nn.Parameter(torch.empty((foo, bar), device=device))\n",
    "    self.register_parameter('param2', nn.Parameter(torch.empty(bar, device=device)))\n",
    "\n",
    "    # 为了支持skip_init中用的meta device,除了torch.nn.init中定义的初始化操作外\n",
    "    # 不能对module's constructor中直接定义的parameters做任何其他操作\n",
    "    with torch.no_grad():\n",
    "        nn.init.kaiming_uniform_(self.param1)\n",
    "        nn.init.uniform_(self.param2)\n",
    "\n",
    "\n",
    "    # ==== Case 2: Module中创建了submodules. ====\n",
    "    # Pass device along recursively. \n",
    "    # All submodules will need to support them as well\n",
    "    # 所有torch.nn提供的modules都满足条件\n",
    "    self.fc = nn.Linear(bar, 5, device=device)\n",
    "\n",
    "    # This also works with containers.\n",
    "    self.linears = nn.Sequential(\n",
    "        nn.Linear(5, 5, device=device),\n",
    "        nn.Linear(5, 1, device=device)\n",
    "    )\n",
    "\n",
    "\n",
    "    # ==== Case 3: Module中创建了buffers. ====\n",
    "    # Pass device along during buffer tensor creation.\n",
    "    self.register_buffer('some_buffer', torch.ones(7, device=device))"
   ]
  },
  {
   "cell_type": "markdown",
   "id": "1337005f",
   "metadata": {},
   "source": [
    "## 6. torch自带module中的典型layers"
   ]
  },
  {
   "cell_type": "markdown",
   "id": "90d35d19",
   "metadata": {},
   "source": [
    "### nn.Flatten\n",
    "1. 参数：torch.nn.Flatten(start_dim=1, end_dim=-1)\n",
    "2. 压缩[start_dim, end_dim]范围的dims\n",
    "2. 默认将输入的data压成2维数据，保留原第一维，压缩剩下的维度，比如输出(N, D)"
   ]
  },
  {
   "cell_type": "code",
   "execution_count": 26,
   "id": "d741eb78",
   "metadata": {
    "ExecuteTime": {
     "end_time": "2024-08-06T04:51:32.809726Z",
     "start_time": "2024-08-06T04:51:32.806136Z"
    }
   },
   "outputs": [
    {
     "name": "stdout",
     "output_type": "stream",
     "text": [
      "torch.Size([3, 28, 28])\n",
      "torch.Size([3, 784])\n",
      "torch.Size([84, 28])\n"
     ]
    }
   ],
   "source": [
    "input_image = torch.rand(3,28,28)\n",
    "print(input_image.size())\n",
    "\n",
    "flatten = nn.Flatten()\n",
    "flat_image = flatten(input_image)\n",
    "print(flat_image.size())\n",
    "\n",
    "flatten2 = nn.Flatten(0, 1)  # 压缩[0, 1]范围的dims\n",
    "flat_image2 = flatten2(input_image)\n",
    "print(flat_image2.size())"
   ]
  },
  {
   "cell_type": "markdown",
   "id": "15422dc0",
   "metadata": {},
   "source": [
    "### nn.Linear\n",
    "1. affine layer\n",
    "2. 参数：torch.nn.Linear(in_features, out_features, bias=True, device=None, dtype=None)\n",
    "   · in_features (int) – size of each input sample\n",
    "   · out_features (int) – size of each output sample\n",
    "   · bias (bool)取False时, 就不会learn bias. Default: True"
   ]
  },
  {
   "cell_type": "code",
   "execution_count": 27,
   "id": "d2975059",
   "metadata": {
    "ExecuteTime": {
     "end_time": "2024-08-06T04:51:32.815379Z",
     "start_time": "2024-08-06T04:51:32.811096Z"
    }
   },
   "outputs": [
    {
     "name": "stdout",
     "output_type": "stream",
     "text": [
      "torch.Size([3, 6])\n"
     ]
    }
   ],
   "source": [
    "layer1 = nn.Linear(in_features=28*28, out_features=6)\n",
    "hidden1 = layer1(flat_image)\n",
    "print(hidden1.size())"
   ]
  },
  {
   "cell_type": "markdown",
   "id": "107dfd54",
   "metadata": {},
   "source": [
    "### nn.ReLU"
   ]
  },
  {
   "cell_type": "code",
   "execution_count": 28,
   "id": "a9664ae1",
   "metadata": {
    "ExecuteTime": {
     "end_time": "2024-08-06T04:51:32.823037Z",
     "start_time": "2024-08-06T04:51:32.819452Z"
    },
    "scrolled": true
   },
   "outputs": [
    {
     "name": "stdout",
     "output_type": "stream",
     "text": [
      "Before ReLU:\n",
      " tensor([[ 0.3486, -0.2854,  0.5229, -0.0191,  0.2855, -0.2265],\n",
      "        [ 0.5093,  0.0711,  0.3753,  0.0769,  0.0072, -0.5286],\n",
      "        [ 0.5357, -0.4205,  0.2364, -0.2208, -0.0226, -0.5407]],\n",
      "       grad_fn=<AddmmBackward0>)\n",
      "\n",
      "After ReLU:\n",
      " tensor([[0.3486, 0.0000, 0.5229, 0.0000, 0.2855, 0.0000],\n",
      "        [0.5093, 0.0711, 0.3753, 0.0769, 0.0072, 0.0000],\n",
      "        [0.5357, 0.0000, 0.2364, 0.0000, 0.0000, 0.0000]],\n",
      "       grad_fn=<ReluBackward0>)\n"
     ]
    }
   ],
   "source": [
    "print(f\"Before ReLU:\\n {hidden1}\\n\")\n",
    "hidden1 = nn.ReLU()(hidden1)\n",
    "print(f\"After ReLU:\\n {hidden1}\")"
   ]
  },
  {
   "cell_type": "markdown",
   "id": "377c6442",
   "metadata": {},
   "source": [
    "### nn.Sequential\n",
    "1. an ordered container of modules.\n",
    "2. 数据会按照Sequential中定义的layer顺序做处理"
   ]
  },
  {
   "cell_type": "code",
   "execution_count": 29,
   "id": "88abdeb3",
   "metadata": {
    "ExecuteTime": {
     "end_time": "2024-08-06T04:51:32.828480Z",
     "start_time": "2024-08-06T04:51:32.824332Z"
    }
   },
   "outputs": [],
   "source": [
    "seq_modules = nn.Sequential(\n",
    "    flatten,\n",
    "    layer1,\n",
    "    nn.ReLU(),\n",
    "    nn.Linear(6, 10)\n",
    ")\n",
    "input_image = torch.rand(3,28,28)\n",
    "scores = seq_modules(input_image)\n",
    "\n",
    "softmax = nn.Softmax(dim=1)\n",
    "pred_probab = softmax(scores)"
   ]
  }
 ],
 "metadata": {
  "kernelspec": {
   "display_name": "Python [conda env:231n] *",
   "language": "python",
   "name": "conda-env-231n-py"
  },
  "language_info": {
   "codemirror_mode": {
    "name": "ipython",
    "version": 3
   },
   "file_extension": ".py",
   "mimetype": "text/x-python",
   "name": "python",
   "nbconvert_exporter": "python",
   "pygments_lexer": "ipython3",
   "version": "3.10.12"
  }
 },
 "nbformat": 4,
 "nbformat_minor": 5
}
