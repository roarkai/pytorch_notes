{
 "cells": [
  {
   "cell_type": "markdown",
   "id": "f4c0730b",
   "metadata": {
    "ExecuteTime": {
     "end_time": "2023-10-09T09:20:24.292411Z",
     "start_time": "2023-10-09T09:20:24.288240Z"
    }
   },
   "source": [
    "# Optimization"
   ]
  },
  {
   "cell_type": "markdown",
   "id": "6736668e",
   "metadata": {},
   "source": [
    "### optimizer的工作方式\n",
    "在training loop中，优化会通过三步完成：\n",
    "1. 调用optimizer.zero_grad()来重置参数的梯度值。之所以要重置，是因为gradient的计算是累加的，为了防止double-counting，在每次迭代前要将初始值归0\n",
    "2. 调用loss.backward()来启动loss的反向传播。pytorch会存储每个parameter相对loss的梯度值\n",
    "3. 调用optimizer.step()，用backward得到的所有参数的梯度值来更新parameter"
   ]
  },
  {
   "cell_type": "code",
   "execution_count": 2,
   "id": "ab05b17d",
   "metadata": {
    "ExecuteTime": {
     "end_time": "2023-10-09T09:20:34.166333Z",
     "start_time": "2023-10-09T09:20:32.781999Z"
    }
   },
   "outputs": [
    {
     "name": "stderr",
     "output_type": "stream",
     "text": [
      "/home/roark/anaconda3/envs/231n/lib/python3.10/site-packages/torchvision/io/image.py:13: UserWarning: Failed to load image Python extension: '/home/roark/anaconda3/envs/231n/lib/python3.10/site-packages/torchvision/image.so: undefined symbol: _ZN5torch3jit17parseSchemaOrNameERKNSt7__cxx1112basic_stringIcSt11char_traitsIcESaIcEEE'If you don't plan on using image functionality from `torchvision.io`, you can ignore this warning. Otherwise, there might be something wrong with your environment. Did you have `libjpeg` or `libpng` installed before building `torchvision` from source?\n",
      "  warn(\n"
     ]
    }
   ],
   "source": [
    "# 先构建model\n",
    "import torch\n",
    "from torch import nn\n",
    "from torch.utils.data import DataLoader\n",
    "from torchvision import datasets\n",
    "from torchvision.transforms import ToTensor\n",
    "\n",
    "# training set\n",
    "training_data = datasets.FashionMNIST(\n",
    "    root=\"data\",\n",
    "    train=True,\n",
    "    download=True,\n",
    "    transform=ToTensor()\n",
    ")\n",
    "\n",
    "# test set\n",
    "test_data = datasets.FashionMNIST(\n",
    "    root=\"data\",\n",
    "    train=False,\n",
    "    download=True,\n",
    "    transform=ToTensor()\n",
    ")\n",
    "\n",
    "# Load data\n",
    "train_dataloader = DataLoader(training_data, batch_size=64)\n",
    "test_dataloader = DataLoader(test_data, batch_size=64)\n",
    "\n",
    "# construct a NN model\n",
    "class NeuralNetwork(nn.Module):\n",
    "    def __init__(self):\n",
    "        super().__init__()\n",
    "        self.flatten = nn.Flatten()\n",
    "        self.linear_relu_stack = nn.Sequential(\n",
    "            nn.Linear(28*28, 512),\n",
    "            nn.ReLU(),\n",
    "            nn.Linear(512, 512),\n",
    "            nn.ReLU(),\n",
    "            nn.Linear(512, 10),\n",
    "        )\n",
    "\n",
    "    def forward(self, x):\n",
    "        x = self.flatten(x)\n",
    "        logits = self.linear_relu_stack(x)\n",
    "        return logits\n",
    "\n",
    "# instantiate a model\n",
    "model = NeuralNetwork()"
   ]
  },
  {
   "cell_type": "code",
   "execution_count": 3,
   "id": "a65d1440",
   "metadata": {
    "ExecuteTime": {
     "end_time": "2023-10-09T09:25:22.439104Z",
     "start_time": "2023-10-09T09:25:22.436252Z"
    }
   },
   "outputs": [],
   "source": [
    "# set hyper parameters\n",
    "learning_rate = 1e-3\n",
    "batch_size = 64\n",
    "epochs = 5"
   ]
  },
  {
   "cell_type": "code",
   "execution_count": 4,
   "id": "01f81747",
   "metadata": {
    "ExecuteTime": {
     "end_time": "2023-10-09T09:26:21.753885Z",
     "start_time": "2023-10-09T09:26:21.750785Z"
    }
   },
   "outputs": [],
   "source": [
    "# Initialize the loss function\n",
    "loss_fn = nn.CrossEntropyLoss()"
   ]
  },
  {
   "cell_type": "code",
   "execution_count": 5,
   "id": "46120326",
   "metadata": {
    "ExecuteTime": {
     "end_time": "2023-10-09T09:27:22.172562Z",
     "start_time": "2023-10-09T09:27:22.169728Z"
    }
   },
   "outputs": [],
   "source": [
    "# Initialize the optimizer\n",
    "optimizer = torch.optim.SGD(model.parameters(), lr=learning_rate)"
   ]
  },
  {
   "cell_type": "code",
   "execution_count": 6,
   "id": "ac3191d9",
   "metadata": {
    "ExecuteTime": {
     "end_time": "2023-10-09T09:35:40.172957Z",
     "start_time": "2023-10-09T09:35:40.168838Z"
    }
   },
   "outputs": [],
   "source": [
    "# 定义train_loop\n",
    "def train_loop(dataloader, model, loss_fn, optimizer):\n",
    "    size = len(dataloader.dataset)\n",
    "    # Set the model to training mode - important for batch normalization and dropout layers\n",
    "    # Unnecessary in this situation but added for best practices\n",
    "    model.train()\n",
    "    for batch, (X, y) in enumerate(dataloader):\n",
    "        # Compute prediction and loss\n",
    "        pred = model(X)\n",
    "        loss = loss_fn(pred, y)\n",
    "\n",
    "        # Backpropagation\n",
    "        loss.backward()\n",
    "        optimizer.step()\n",
    "        optimizer.zero_grad()\n",
    "\n",
    "        if batch % 100 == 0:\n",
    "            loss, current = loss.item(), (batch + 1) * len(X)\n",
    "            print(f\"loss: {loss:>7f}  [{current:>5d}/{size:>5d}]\")"
   ]
  },
  {
   "cell_type": "code",
   "execution_count": 7,
   "id": "ac398b9f",
   "metadata": {
    "ExecuteTime": {
     "end_time": "2023-10-09T09:35:43.127950Z",
     "start_time": "2023-10-09T09:35:43.123731Z"
    }
   },
   "outputs": [],
   "source": [
    "# 定义test loop\n",
    "def test_loop(dataloader, model, loss_fn):\n",
    "    # Set the model to evaluation mode - important for batch normalization and dropout layers\n",
    "    # Unnecessary in this situation but added for best practices\n",
    "    model.eval()\n",
    "    size = len(dataloader.dataset)\n",
    "    num_batches = len(dataloader)\n",
    "    test_loss, correct = 0, 0\n",
    "\n",
    "    # Evaluating the model with torch.no_grad() ensures that no gradients are computed during test mode\n",
    "    # also serves to reduce unnecessary gradient computations and memory usage for tensors with requires_grad=True\n",
    "    with torch.no_grad():\n",
    "        for X, y in dataloader:\n",
    "            pred = model(X)\n",
    "            test_loss += loss_fn(pred, y).item()\n",
    "            correct += (pred.argmax(1) == y).type(torch.float).sum().item()\n",
    "\n",
    "    test_loss /= num_batches\n",
    "    correct /= size\n",
    "    print(f\"Test Error: \\n Accuracy: {(100*correct):>0.1f}%, Avg loss: {test_loss:>8f} \\n\")"
   ]
  },
  {
   "cell_type": "code",
   "execution_count": 8,
   "id": "de18153f",
   "metadata": {
    "ExecuteTime": {
     "end_time": "2023-10-09T09:37:43.989365Z",
     "start_time": "2023-10-09T09:36:36.679645Z"
    }
   },
   "outputs": [
    {
     "name": "stdout",
     "output_type": "stream",
     "text": [
      "Epoch 1\n",
      "-------------------------------\n",
      "loss: 2.297951  [   64/60000]\n",
      "loss: 2.293491  [ 6464/60000]\n",
      "loss: 2.276759  [12864/60000]\n",
      "loss: 2.271200  [19264/60000]\n",
      "loss: 2.256204  [25664/60000]\n",
      "loss: 2.230252  [32064/60000]\n",
      "loss: 2.239081  [38464/60000]\n",
      "loss: 2.211486  [44864/60000]\n",
      "loss: 2.212490  [51264/60000]\n",
      "loss: 2.174179  [57664/60000]\n",
      "Test Error: \n",
      " Accuracy: 50.7%, Avg loss: 2.172608 \n",
      "\n",
      "Epoch 2\n",
      "-------------------------------\n",
      "loss: 2.182818  [   64/60000]\n",
      "loss: 2.171914  [ 6464/60000]\n",
      "loss: 2.120591  [12864/60000]\n",
      "loss: 2.129127  [19264/60000]\n",
      "loss: 2.088525  [25664/60000]\n",
      "loss: 2.031816  [32064/60000]\n",
      "loss: 2.055591  [38464/60000]\n",
      "loss: 1.988626  [44864/60000]\n",
      "loss: 2.002173  [51264/60000]\n",
      "loss: 1.910487  [57664/60000]\n",
      "Test Error: \n",
      " Accuracy: 61.5%, Avg loss: 1.917411 \n",
      "\n",
      "Epoch 3\n",
      "-------------------------------\n",
      "loss: 1.952132  [   64/60000]\n",
      "loss: 1.917939  [ 6464/60000]\n",
      "loss: 1.806538  [12864/60000]\n",
      "loss: 1.833902  [19264/60000]\n",
      "loss: 1.743233  [25664/60000]\n",
      "loss: 1.676725  [32064/60000]\n",
      "loss: 1.698913  [38464/60000]\n",
      "loss: 1.605196  [44864/60000]\n",
      "loss: 1.635701  [51264/60000]\n",
      "loss: 1.502888  [57664/60000]\n",
      "Test Error: \n",
      " Accuracy: 62.4%, Avg loss: 1.534094 \n",
      "\n",
      "Epoch 4\n",
      "-------------------------------\n",
      "loss: 1.604163  [   64/60000]\n",
      "loss: 1.560200  [ 6464/60000]\n",
      "loss: 1.412464  [12864/60000]\n",
      "loss: 1.469508  [19264/60000]\n",
      "loss: 1.367050  [25664/60000]\n",
      "loss: 1.345868  [32064/60000]\n",
      "loss: 1.361000  [38464/60000]\n",
      "loss: 1.291557  [44864/60000]\n",
      "loss: 1.328730  [51264/60000]\n",
      "loss: 1.211077  [57664/60000]\n",
      "Test Error: \n",
      " Accuracy: 63.8%, Avg loss: 1.248936 \n",
      "\n",
      "Epoch 5\n",
      "-------------------------------\n",
      "loss: 1.329396  [   64/60000]\n",
      "loss: 1.303656  [ 6464/60000]\n",
      "loss: 1.141309  [12864/60000]\n",
      "loss: 1.236385  [19264/60000]\n",
      "loss: 1.122264  [25664/60000]\n",
      "loss: 1.138287  [32064/60000]\n",
      "loss: 1.160560  [38464/60000]\n",
      "loss: 1.103874  [44864/60000]\n",
      "loss: 1.143158  [51264/60000]\n",
      "loss: 1.052165  [57664/60000]\n",
      "Test Error: \n",
      " Accuracy: 64.8%, Avg loss: 1.081056 \n",
      "\n",
      "Epoch 6\n",
      "-------------------------------\n",
      "loss: 1.155215  [   64/60000]\n",
      "loss: 1.150481  [ 6464/60000]\n",
      "loss: 0.972002  [12864/60000]\n",
      "loss: 1.098647  [19264/60000]\n",
      "loss: 0.980633  [25664/60000]\n",
      "loss: 1.004697  [32064/60000]\n",
      "loss: 1.043198  [38464/60000]\n",
      "loss: 0.988991  [44864/60000]\n",
      "loss: 1.026094  [51264/60000]\n",
      "loss: 0.958017  [57664/60000]\n",
      "Test Error: \n",
      " Accuracy: 66.2%, Avg loss: 0.976899 \n",
      "\n",
      "Epoch 7\n",
      "-------------------------------\n",
      "loss: 1.038253  [   64/60000]\n",
      "loss: 1.054765  [ 6464/60000]\n",
      "loss: 0.859390  [12864/60000]\n",
      "loss: 1.009488  [19264/60000]\n",
      "loss: 0.894240  [25664/60000]\n",
      "loss: 0.912065  [32064/60000]\n",
      "loss: 0.967760  [38464/60000]\n",
      "loss: 0.915288  [44864/60000]\n",
      "loss: 0.946148  [51264/60000]\n",
      "loss: 0.895701  [57664/60000]\n",
      "Test Error: \n",
      " Accuracy: 67.6%, Avg loss: 0.906703 \n",
      "\n",
      "Epoch 8\n",
      "-------------------------------\n",
      "loss: 0.953707  [   64/60000]\n",
      "loss: 0.989363  [ 6464/60000]\n",
      "loss: 0.779503  [12864/60000]\n",
      "loss: 0.947295  [19264/60000]\n",
      "loss: 0.836518  [25664/60000]\n",
      "loss: 0.844467  [32064/60000]\n",
      "loss: 0.914350  [38464/60000]\n",
      "loss: 0.866214  [44864/60000]\n",
      "loss: 0.889024  [51264/60000]\n",
      "loss: 0.850486  [57664/60000]\n",
      "Test Error: \n",
      " Accuracy: 68.8%, Avg loss: 0.856064 \n",
      "\n",
      "Epoch 9\n",
      "-------------------------------\n",
      "loss: 0.889146  [   64/60000]\n",
      "loss: 0.940563  [ 6464/60000]\n",
      "loss: 0.719739  [12864/60000]\n",
      "loss: 0.900683  [19264/60000]\n",
      "loss: 0.794922  [25664/60000]\n",
      "loss: 0.793318  [32064/60000]\n",
      "loss: 0.873979  [38464/60000]\n",
      "loss: 0.831848  [44864/60000]\n",
      "loss: 0.846453  [51264/60000]\n",
      "loss: 0.815383  [57664/60000]\n",
      "Test Error: \n",
      " Accuracy: 69.9%, Avg loss: 0.817309 \n",
      "\n",
      "Epoch 10\n",
      "-------------------------------\n",
      "loss: 0.837220  [   64/60000]\n",
      "loss: 0.901128  [ 6464/60000]\n",
      "loss: 0.673221  [12864/60000]\n",
      "loss: 0.864483  [19264/60000]\n",
      "loss: 0.762697  [25664/60000]\n",
      "loss: 0.753561  [32064/60000]\n",
      "loss: 0.841228  [38464/60000]\n",
      "loss: 0.806198  [44864/60000]\n",
      "loss: 0.813570  [51264/60000]\n",
      "loss: 0.786682  [57664/60000]\n",
      "Test Error: \n",
      " Accuracy: 71.1%, Avg loss: 0.786189 \n",
      "\n",
      "Done!\n"
     ]
    }
   ],
   "source": [
    "loss_fn = nn.CrossEntropyLoss()\n",
    "optimizer = torch.optim.SGD(model.parameters(), lr=learning_rate)\n",
    "\n",
    "epochs = 10\n",
    "for t in range(epochs):\n",
    "    print(f\"Epoch {t+1}\\n-------------------------------\")\n",
    "    train_loop(train_dataloader, model, loss_fn, optimizer)\n",
    "    test_loop(test_dataloader, model, loss_fn)\n",
    "print(\"Done!\")"
   ]
  }
 ],
 "metadata": {
  "kernelspec": {
   "display_name": "Python [conda env:231n] *",
   "language": "python",
   "name": "conda-env-231n-py"
  },
  "language_info": {
   "codemirror_mode": {
    "name": "ipython",
    "version": 3
   },
   "file_extension": ".py",
   "mimetype": "text/x-python",
   "name": "python",
   "nbconvert_exporter": "python",
   "pygments_lexer": "ipython3",
   "version": "3.10.12"
  }
 },
 "nbformat": 4,
 "nbformat_minor": 5
}
