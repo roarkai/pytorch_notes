{
 "cells": [
  {
   "cell_type": "markdown",
   "id": "44edbaab",
   "metadata": {},
   "source": [
    "# Torch.nn\n",
    "torch.nn package中的内容是graph的basic building blocks。"
   ]
  },
  {
   "cell_type": "markdown",
   "id": "d1391efe",
   "metadata": {},
   "source": [
    "### 1. preparing data"
   ]
  },
  {
   "cell_type": "code",
   "execution_count": 1,
   "id": "f7598c9f",
   "metadata": {
    "ExecuteTime": {
     "end_time": "2023-10-12T10:26:00.616755Z",
     "start_time": "2023-10-12T10:26:00.542956Z"
    }
   },
   "outputs": [],
   "source": [
    "## download MNIST dataset\n",
    "\n",
    "from pathlib import Path # python3 standary lib\n",
    "import requests          # used to download dataset\n",
    "\n",
    "DATA_PATH = Path(\"data\")\n",
    "PATH  = DATA_PATH / \"mnist\"\n",
    "\n",
    "PATH.mkdir(parents=True, exist_ok=True)\n",
    "\n",
    "URL = \"https://github.com/pytorch/tutorials/raw/main/_static/\"\n",
    "FILENAME = \"mnist.pkl.gz\"\n",
    "\n",
    "if not (PATH / FILENAME).exists():\n",
    "        content = requests.get(URL + FILENAME).content\n",
    "        (PATH / FILENAME).open(\"wb\").write(content)"
   ]
  },
  {
   "cell_type": "markdown",
   "id": "d5c11b0b",
   "metadata": {},
   "source": [
    "This dataset is in numpy array format, and has been stored using pickle, a python-specific format for serializing data."
   ]
  },
  {
   "cell_type": "code",
   "execution_count": 2,
   "id": "fb02f3bd",
   "metadata": {
    "ExecuteTime": {
     "end_time": "2023-10-12T10:26:01.491366Z",
     "start_time": "2023-10-12T10:26:00.618478Z"
    }
   },
   "outputs": [],
   "source": [
    "## extract data from original files\n",
    "\n",
    "import pickle\n",
    "import gzip\n",
    "\n",
    "with gzip.open((PATH / FILENAME).as_posix(), \"rb\") as f:\n",
    "        ((x_train, y_train), (x_valid, y_valid), _) = pickle.load(f, encoding=\"latin-1\")"
   ]
  },
  {
   "cell_type": "markdown",
   "id": "0fae2f95",
   "metadata": {},
   "source": [
    "Each image is 28 x 28, and is being stored as a flattened row of length 784 (=28x28). To plot one image, we need to reshape it to 2d first."
   ]
  },
  {
   "cell_type": "code",
   "execution_count": 3,
   "id": "9de8fc7f",
   "metadata": {
    "ExecuteTime": {
     "end_time": "2023-10-12T10:26:01.841676Z",
     "start_time": "2023-10-12T10:26:01.492630Z"
    }
   },
   "outputs": [
    {
     "data": {
      "image/png": "[encoded data removed]",
      "text/plain": [
       "<Figure size 200x200 with 1 Axes>"
      ]
     },
     "metadata": {},
     "output_type": "display_data"
    },
    {
     "name": "stdout",
     "output_type": "stream",
     "text": [
      "(50000, 784)\n"
     ]
    }
   ],
   "source": [
    "## plot a image\n",
    "\n",
    "import matplotlib.pyplot as plt\n",
    "import numpy as np\n",
    "\n",
    "plt.figure(figsize=(2, 2))\n",
    "plt.imshow(x_train[0].reshape((28, 28)), cmap=\"gray\")\n",
    "plt.show()\n",
    "print(x_train.shape)"
   ]
  },
  {
   "cell_type": "code",
   "execution_count": 4,
   "id": "595a173e",
   "metadata": {
    "ExecuteTime": {
     "end_time": "2023-10-12T10:26:03.017605Z",
     "start_time": "2023-10-12T10:26:01.844155Z"
    }
   },
   "outputs": [
    {
     "name": "stdout",
     "output_type": "stream",
     "text": [
      "tensor([[0., 0., 0.,  ..., 0., 0., 0.],\n",
      "        [0., 0., 0.,  ..., 0., 0., 0.],\n",
      "        [0., 0., 0.,  ..., 0., 0., 0.],\n",
      "        ...,\n",
      "        [0., 0., 0.,  ..., 0., 0., 0.],\n",
      "        [0., 0., 0.,  ..., 0., 0., 0.],\n",
      "        [0., 0., 0.,  ..., 0., 0., 0.]]) tensor([5, 0, 4,  ..., 8, 4, 8])\n",
      "torch.Size([50000, 784])\n",
      "tensor(0) tensor(9)\n"
     ]
    }
   ],
   "source": [
    "## convert the date from numpy arrays to tensors\n",
    "\n",
    "import torch\n",
    "\n",
    "x_train, y_train, x_val, y_val = map(torch.tensor, \n",
    "                                     (x_train, y_train, x_valid, y_valid))\n",
    "\n",
    "N, C = x_train.shape\n",
    "print(x_train, y_train)\n",
    "print(x_train.shape)\n",
    "print(y_train.min(), y_train.max())"
   ]
  },
  {
   "cell_type": "markdown",
   "id": "663d57fd",
   "metadata": {},
   "source": [
    "## 2. construct a NN\n",
    "### 2.1 只用最底层tensor operation\n",
    "<font color=red>**· 完全手写函数**</font>"
   ]
  },
  {
   "cell_type": "markdown",
   "id": "45896412",
   "metadata": {},
   "source": [
    "**step1: 初始化weights and bias**"
   ]
  },
  {
   "cell_type": "code",
   "execution_count": 5,
   "id": "3e67eea1",
   "metadata": {
    "ExecuteTime": {
     "end_time": "2023-10-12T10:26:03.023131Z",
     "start_time": "2023-10-12T10:26:03.019486Z"
    }
   },
   "outputs": [],
   "source": [
    "import math\n",
    "\n",
    "weights = torch.randn(784, 10)    # random init\n",
    "weights /= math.sqrt(784)         # Xaiver init\n",
    "weights.requires_grad_()          # init之后再set gradient，因为init不用求梯度\n",
    "bias = torch.zeros(10, requires_grad=True)"
   ]
  },
  {
   "cell_type": "markdown",
   "id": "4dd8f61b",
   "metadata": {},
   "source": [
    "**step2: 定义forward function, 用model打包**\\\n",
    "<font color=blue>· tensor调用的function都有对应的grad_fn，能自动构造graph，计算backward</font>"
   ]
  },
  {
   "cell_type": "code",
   "execution_count": 6,
   "id": "4c320249",
   "metadata": {
    "ExecuteTime": {
     "end_time": "2023-10-12T10:26:03.034843Z",
     "start_time": "2023-10-12T10:26:03.024238Z"
    }
   },
   "outputs": [],
   "source": [
    "def log_softmax(x):\n",
    "    return x - x.exp().sum(-1).log().unsqueeze(-1) # 'unsqueeze' is for broadcast   \n",
    "\n",
    "def model(x_batch):\n",
    "    return log_softmax(x_batch @ weights + bias)"
   ]
  },
  {
   "cell_type": "markdown",
   "id": "8fe17fbf",
   "metadata": {},
   "source": [
    "**step3: 定义loss function**"
   ]
  },
  {
   "cell_type": "code",
   "execution_count": 7,
   "id": "76b51067",
   "metadata": {
    "ExecuteTime": {
     "end_time": "2023-10-12T10:26:03.040426Z",
     "start_time": "2023-10-12T10:26:03.036019Z"
    }
   },
   "outputs": [],
   "source": [
    "def negative_log_likelyhood(input, target):\n",
    "    return -input[range(target.shape[0]), target].mean()\n",
    "\n",
    "loss_func = negative_log_likelyhood"
   ]
  },
  {
   "cell_type": "markdown",
   "id": "eded2c2b",
   "metadata": {},
   "source": [
    "**step4: 定义accuracy function**"
   ]
  },
  {
   "cell_type": "code",
   "execution_count": 8,
   "id": "e218ee84",
   "metadata": {
    "ExecuteTime": {
     "end_time": "2023-10-12T10:26:03.046099Z",
     "start_time": "2023-10-12T10:26:03.041589Z"
    }
   },
   "outputs": [],
   "source": [
    "def accuracy(out, y_batch):\n",
    "    preds = torch.argmax(out, dim=1)\n",
    "    return (preds==y_batch).float().mean()"
   ]
  },
  {
   "cell_type": "markdown",
   "id": "a71fcfcc",
   "metadata": {
    "ExecuteTime": {
     "end_time": "2023-10-12T05:45:30.593113Z",
     "start_time": "2023-10-12T05:45:30.588334Z"
    }
   },
   "source": [
    "#### 一个完整的trainning loop\n",
    "step1: mini-batch data\\\n",
    "step2: forward, make prediction\\\n",
    "step3: loss\\\n",
    "step4: backward\\\n",
    "step5: update"
   ]
  },
  {
   "cell_type": "code",
   "execution_count": 9,
   "id": "e61dd40f",
   "metadata": {
    "ExecuteTime": {
     "end_time": "2023-10-12T10:26:03.655322Z",
     "start_time": "2023-10-12T10:26:03.047172Z"
    }
   },
   "outputs": [],
   "source": [
    "lr = 0.5  # learning rate\n",
    "epochs = 2  # how many epochs to train for\n",
    "batch_size = 64\n",
    "\n",
    "for epoch in range(epochs):\n",
    "    for i in range((N - 1) // batch_size + 1):\n",
    "        start_i = i * batch_size\n",
    "        end_i = start_i + batch_size\n",
    "        x_batch = x_train[start_i:end_i]\n",
    "        y_batch = y_train[start_i:end_i]\n",
    "        pred = model(x_batch)\n",
    "        loss = loss_func(pred, y_batch)\n",
    "\n",
    "        loss.backward()\n",
    "        with torch.no_grad():\n",
    "            weights -= weights.grad * lr\n",
    "            bias -= bias.grad * lr\n",
    "            weights.grad.zero_()\n",
    "            bias.grad.zero_()"
   ]
  },
  {
   "cell_type": "code",
   "execution_count": 10,
   "id": "e5f89083",
   "metadata": {
    "ExecuteTime": {
     "end_time": "2023-10-12T10:26:03.661610Z",
     "start_time": "2023-10-12T10:26:03.658144Z"
    }
   },
   "outputs": [
    {
     "name": "stdout",
     "output_type": "stream",
     "text": [
      "tensor(0.0837, grad_fn=<NegBackward0>) tensor(1.)\n"
     ]
    }
   ],
   "source": [
    "print(loss_func(model(x_batch), y_batch), accuracy(model(x_batch), y_batch))"
   ]
  },
  {
   "cell_type": "markdown",
   "id": "971e2268",
   "metadata": {},
   "source": [
    "### 2.2 用相对底层的nn.functional\n",
    "<font color=red>**· 只用很底层的function构件，只是不用手动实现act和loss func**</font>"
   ]
  },
  {
   "cell_type": "code",
   "execution_count": 11,
   "id": "fdc5ce74",
   "metadata": {
    "ExecuteTime": {
     "end_time": "2023-10-12T10:26:03.676612Z",
     "start_time": "2023-10-12T10:26:03.662695Z"
    }
   },
   "outputs": [
    {
     "name": "stdout",
     "output_type": "stream",
     "text": [
      "tensor(0.0837, grad_fn=<NllLossBackward0>) tensor(1.)\n"
     ]
    }
   ],
   "source": [
    "import torch.nn.functional as F\n",
    "\n",
    "loss_func = F.cross_entropy # loss function用nn.functional\n",
    "\n",
    "def model(x_batch):\n",
    "    return x_batch @ weights + bias\n",
    "\n",
    "print(loss_func(model(x_batch), y_batch), accuracy(model(x_batch), y_batch))"
   ]
  },
  {
   "cell_type": "markdown",
   "id": "f633b3a1",
   "metadata": {
    "ExecuteTime": {
     "end_time": "2023-10-12T06:22:26.570282Z",
     "start_time": "2023-10-12T06:22:26.557834Z"
    }
   },
   "source": [
    "### 2.3 用nn.Module, nn.Parameter\n",
    "<font color=red>**· 自定义forward函数**</font>"
   ]
  },
  {
   "cell_type": "code",
   "execution_count": 12,
   "id": "083b6da0",
   "metadata": {
    "ExecuteTime": {
     "end_time": "2023-10-12T10:26:03.681567Z",
     "start_time": "2023-10-12T10:26:03.677712Z"
    }
   },
   "outputs": [
    {
     "name": "stdout",
     "output_type": "stream",
     "text": [
      "tensor(2.4013, grad_fn=<NllLossBackward0>)\n"
     ]
    }
   ],
   "source": [
    "from torch import nn\n",
    "class MnistLogistic(nn.Module):\n",
    "    def __init__(self):\n",
    "        super().__init__()\n",
    "        self.weights = nn.Parameter(torch.randn(784, 10) / math.sqrt(784))\n",
    "        self.bias = nn.Parameter(torch.zeros(10))\n",
    "        \n",
    "    def forward(self, x_batch):\n",
    "        return x_batch @ self.weights + self.bias\n",
    "\n",
    "model = MnistLogistic()\n",
    "\n",
    "print(loss_func(model(x_batch), y_batch))"
   ]
  },
  {
   "cell_type": "code",
   "execution_count": 13,
   "id": "43d858c7",
   "metadata": {
    "ExecuteTime": {
     "end_time": "2023-10-12T10:26:04.169936Z",
     "start_time": "2023-10-12T10:26:03.683465Z"
    }
   },
   "outputs": [
    {
     "name": "stdout",
     "output_type": "stream",
     "text": [
      "tensor(0.0821, grad_fn=<NllLossBackward0>)\n"
     ]
    }
   ],
   "source": [
    "# run a training loop\n",
    "lr = 0.5\n",
    "epoch = 2\n",
    "\n",
    "def fit(model, epoch, lr):\n",
    "    for epoch in range(epochs):\n",
    "        for i in range((N - 1) // batch_size + 1):\n",
    "            start_i = i * batch_size\n",
    "            end_i = start_i + batch_size\n",
    "            x_batch = x_train[start_i: end_i]\n",
    "            y_batch = y_train[start_i: end_i]\n",
    "            pred = model(x_batch)\n",
    "            loss = loss_func(pred, y_batch)\n",
    "            \n",
    "            loss.backward()\n",
    "            with torch.no_grad():\n",
    "                for p in model.parameters():  # nn.Module中的\n",
    "                    p -= p.grad * lr\n",
    "                model.zero_grad()\n",
    "fit(model, epoch, lr)\n",
    "print(loss_func(model(x_batch), y_batch))"
   ]
  },
  {
   "cell_type": "markdown",
   "id": "55c28125",
   "metadata": {},
   "source": [
    "### 2.4 在nn.Module中用nn中的layers\n",
    "<font color=red>**· forward直接调用nn自带的layer**</font>"
   ]
  },
  {
   "cell_type": "code",
   "execution_count": 14,
   "id": "37f9506e",
   "metadata": {
    "ExecuteTime": {
     "end_time": "2023-10-12T10:26:04.174981Z",
     "start_time": "2023-10-12T10:26:04.171224Z"
    }
   },
   "outputs": [
    {
     "name": "stdout",
     "output_type": "stream",
     "text": [
      "tensor(2.3593, grad_fn=<NllLossBackward0>)\n"
     ]
    }
   ],
   "source": [
    "class MnistLogistic(nn.Module):\n",
    "    def __init__(self):\n",
    "        super().__init__()\n",
    "        self.lin = nn.Linear(784, 10)\n",
    "        \n",
    "    def forward(self, x_batch):\n",
    "        return self.lin(x_batch)\n",
    "\n",
    "model = MnistLogistic()\n",
    "\n",
    "# 一个batch\n",
    "print(loss_func(model(x_batch), y_batch))"
   ]
  },
  {
   "cell_type": "code",
   "execution_count": 15,
   "id": "fdae5392",
   "metadata": {
    "ExecuteTime": {
     "end_time": "2023-10-12T10:26:04.595935Z",
     "start_time": "2023-10-12T10:26:04.176102Z"
    }
   },
   "outputs": [
    {
     "name": "stdout",
     "output_type": "stream",
     "text": [
      "tensor(0.0829, grad_fn=<NllLossBackward0>)\n"
     ]
    }
   ],
   "source": [
    "# run a training loop\n",
    "lr = 0.5\n",
    "epoch = 2\n",
    "fit(model, epoch, lr)\n",
    "print(loss_func(model(x_batch), y_batch))"
   ]
  },
  {
   "cell_type": "markdown",
   "id": "4624b442",
   "metadata": {},
   "source": [
    "### 2.5 用torch.optim\n",
    "<font color=red>**· 自动完成gradient update**</font>"
   ]
  },
  {
   "cell_type": "code",
   "execution_count": 16,
   "id": "56af3216",
   "metadata": {
    "ExecuteTime": {
     "end_time": "2023-10-12T10:26:05.030712Z",
     "start_time": "2023-10-12T10:26:04.597974Z"
    }
   },
   "outputs": [
    {
     "name": "stdout",
     "output_type": "stream",
     "text": [
      "tensor(2.3589, grad_fn=<NllLossBackward0>)\n",
      "tensor(0.0811, grad_fn=<NllLossBackward0>)\n"
     ]
    }
   ],
   "source": [
    "from torch import optim\n",
    "\n",
    "lr = 0.5\n",
    "epoch = 2\n",
    "\n",
    "model = MnistLogistic()\n",
    "opt = optim.SGD(model.parameters(), lr=lr)\n",
    "\n",
    "# 一个batch\n",
    "print(loss_func(model(x_batch), y_batch))\n",
    "\n",
    "# run a trainning loop\n",
    "for epoch in range(epochs):\n",
    "    for i in range((N - 1) // batch_size + 1):\n",
    "        start_i = i * batch_size\n",
    "        end_i = start_i + batch_size\n",
    "        x_batch = x_train[start_i: end_i]\n",
    "        y_batch = y_train[start_i: end_i]\n",
    "        pred = model(x_batch)\n",
    "        loss = loss_func(pred, y_batch)\n",
    "            \n",
    "        loss.backward()\n",
    "        opt.step()\n",
    "        opt.zero_grad()\n",
    "\n",
    "print(loss_func(model(x_batch), y_batch))"
   ]
  },
  {
   "cell_type": "markdown",
   "id": "e65370ca",
   "metadata": {
    "ExecuteTime": {
     "end_time": "2023-10-12T07:20:17.836445Z",
     "start_time": "2023-10-12T07:20:17.825065Z"
    }
   },
   "source": [
    "### 2.6 用Dataset\n",
    "<font color=red>**· 用TensorDataset来wrapping dataset可以方便的iterate, index, slice a tensor along its first dimension**</font>"
   ]
  },
  {
   "cell_type": "code",
   "execution_count": 17,
   "id": "3b2bf638",
   "metadata": {
    "ExecuteTime": {
     "end_time": "2023-10-12T10:26:05.034783Z",
     "start_time": "2023-10-12T10:26:05.032214Z"
    }
   },
   "outputs": [],
   "source": [
    "from torch.utils.data import TensorDataset"
   ]
  },
  {
   "cell_type": "code",
   "execution_count": 18,
   "id": "3939351e",
   "metadata": {
    "ExecuteTime": {
     "end_time": "2023-10-12T10:26:05.472824Z",
     "start_time": "2023-10-12T10:26:05.035838Z"
    }
   },
   "outputs": [
    {
     "name": "stdout",
     "output_type": "stream",
     "text": [
      "tensor(0.0802, grad_fn=<NllLossBackward0>)\n"
     ]
    }
   ],
   "source": [
    "# 用TensorDataset来wrap dataset\n",
    "train_ds = TensorDataset(x_train, y_train)\n",
    "\n",
    "# 设置超参数\n",
    "lr = 0.5\n",
    "epoch = 2\n",
    "\n",
    "# 设置模型\n",
    "model = MnistLogistic()\n",
    "opt = optim.SGD(model.parameters(), lr=lr)\n",
    "\n",
    "# run a trainning loop\n",
    "for epoch in range(epochs):\n",
    "    for i in range((N - 1) // batch_size + 1):\n",
    "        start_i = i * batch_size\n",
    "        end_i = start_i + batch_size\n",
    "        x_batch, y_batch = train_ds[start_i: end_i]\n",
    "        pred = model(x_batch)\n",
    "        loss = loss_func(pred, y_batch)\n",
    "            \n",
    "        loss.backward()\n",
    "        opt.step()\n",
    "        opt.zero_grad()\n",
    "        \n",
    "print(loss_func(model(x_batch), y_batch))"
   ]
  },
  {
   "cell_type": "markdown",
   "id": "ab932ad3",
   "metadata": {},
   "source": [
    "### 2.7 用DataLoader\n",
    "<font color=red>**· 自动获得batches，而不再用data[start_i: end_i]的方式手动提取数据**</font>"
   ]
  },
  {
   "cell_type": "code",
   "execution_count": 19,
   "id": "5eaab18f",
   "metadata": {
    "ExecuteTime": {
     "end_time": "2023-10-12T10:26:05.476324Z",
     "start_time": "2023-10-12T10:26:05.474394Z"
    }
   },
   "outputs": [],
   "source": [
    "from torch.utils.data import DataLoader"
   ]
  },
  {
   "cell_type": "code",
   "execution_count": 20,
   "id": "158d62f5",
   "metadata": {
    "ExecuteTime": {
     "end_time": "2023-10-12T10:26:06.562213Z",
     "start_time": "2023-10-12T10:26:05.477543Z"
    }
   },
   "outputs": [
    {
     "name": "stdout",
     "output_type": "stream",
     "text": [
      "tensor(0.0832, grad_fn=<NllLossBackward0>)\n"
     ]
    }
   ],
   "source": [
    "# 准备数据\n",
    "train_dset = TensorDataset(x_train, y_train)\n",
    "train_dloader = DataLoader(train_dset, batch_size=batch_size)\n",
    "\n",
    "# 设置超参数\n",
    "lr = 0.5\n",
    "epoch = 2\n",
    "\n",
    "# 设置模型\n",
    "model = MnistLogistic()\n",
    "opt = optim.SGD(model.parameters(), lr=lr)\n",
    "\n",
    "# run a trainning loop\n",
    "for epoch in range(epochs):\n",
    "    for x_batch, y_batch in train_dloader:\n",
    "        pred = model(x_batch)\n",
    "        loss = loss_func(pred, y_batch)\n",
    "            \n",
    "        loss.backward()\n",
    "        opt.step()\n",
    "        opt.zero_grad()\n",
    "        \n",
    "print(loss_func(model(x_batch), y_batch))"
   ]
  },
  {
   "cell_type": "markdown",
   "id": "5b674ff9",
   "metadata": {},
   "source": [
    "### 2.8 增加validation\n",
    "<font color=red>**· validation不做shuffle，batchsize可以跟training时不同**</font>"
   ]
  },
  {
   "cell_type": "code",
   "execution_count": 21,
   "id": "8ddb390a",
   "metadata": {
    "ExecuteTime": {
     "end_time": "2023-10-12T10:26:08.061586Z",
     "start_time": "2023-10-12T10:26:06.563578Z"
    }
   },
   "outputs": [
    {
     "name": "stdout",
     "output_type": "stream",
     "text": [
      "tensor(0.2966)\n",
      "tensor(0.2931)\n"
     ]
    }
   ],
   "source": [
    "# 准备trainning和validation data\n",
    "train_dset = TensorDataset(x_train, y_train)\n",
    "train_dloader = DataLoader(train_dset, batch_size=batch_size, shuffle=True)\n",
    "\n",
    "val_dset = TensorDataset(x_val, y_val)\n",
    "val_dloader = DataLoader(val_dset, batch_size=batch_size*2)\n",
    "\n",
    "# 设置超参数\n",
    "lr = 0.5\n",
    "epoch = 2\n",
    "\n",
    "# 设置模型\n",
    "model = MnistLogistic()\n",
    "opt = optim.SGD(model.parameters(), lr=lr)\n",
    "\n",
    "# run a trainning loop\n",
    "for epoch in range(epochs):\n",
    "    model.train()\n",
    "    for x_batch, y_batch in train_dloader:\n",
    "        pred = model(x_batch)\n",
    "        loss = loss_func(pred, y_batch)\n",
    "            \n",
    "        loss.backward()\n",
    "        opt.step()\n",
    "        opt.zero_grad()\n",
    "    \n",
    "    model.eval()\n",
    "    with torch.no_grad():\n",
    "        valid_loss = sum(loss_func(model(x_batch), y_batch) for x_batch, y_batch in val_dloader)\n",
    "\n",
    "    print(valid_loss / len(val_dloader))"
   ]
  },
  {
   "cell_type": "markdown",
   "id": "98ff6d63",
   "metadata": {},
   "source": [
    "### 2.9 自定义简化流程的wrapper\n",
    "<font color=red>**· 简化get_data和fit**</font>"
   ]
  },
  {
   "cell_type": "code",
   "execution_count": 22,
   "id": "a4b6628d",
   "metadata": {
    "ExecuteTime": {
     "end_time": "2023-10-12T10:26:08.070701Z",
     "start_time": "2023-10-12T10:26:08.065543Z"
    }
   },
   "outputs": [],
   "source": [
    "def loss_batch(model, loss_func, xb, yb, opt=None):\n",
    "    loss = loss_func(model(xb), yb)\n",
    "\n",
    "    if opt is not None:\n",
    "        loss.backward()\n",
    "        opt.step()\n",
    "        opt.zero_grad()\n",
    "\n",
    "    return loss.item(), len(xb)"
   ]
  },
  {
   "cell_type": "code",
   "execution_count": 23,
   "id": "eb78c3b2",
   "metadata": {
    "ExecuteTime": {
     "end_time": "2023-10-12T10:26:08.082913Z",
     "start_time": "2023-10-12T10:26:08.071795Z"
    }
   },
   "outputs": [],
   "source": [
    "import numpy as np\n",
    "\n",
    "def fit(epochs, model, loss_func, opt, train_dl, valid_dl):\n",
    "    for epoch in range(epochs):\n",
    "        model.train()\n",
    "        for xb, yb in train_dl:\n",
    "            loss_batch(model, loss_func, xb, yb, opt)\n",
    "\n",
    "        model.eval()\n",
    "        with torch.no_grad():\n",
    "            losses, nums = zip(\n",
    "                *[loss_batch(model, loss_func, xb, yb) for xb, yb in valid_dl]\n",
    "            )\n",
    "        val_loss = np.sum(np.multiply(losses, nums)) / np.sum(nums)\n",
    "\n",
    "        print(epoch, val_loss)"
   ]
  },
  {
   "cell_type": "code",
   "execution_count": 24,
   "id": "bf0c13ef",
   "metadata": {
    "ExecuteTime": {
     "end_time": "2023-10-12T10:26:08.088274Z",
     "start_time": "2023-10-12T10:26:08.084007Z"
    }
   },
   "outputs": [],
   "source": [
    "def get_data(train_dset, val_dset, batch_size):\n",
    "    return (\n",
    "        DataLoader(train_dset, batch_size=batch_size, shuffle=True), \n",
    "        DataLoader(val_dset, batch_size=batch_size*2)\n",
    "    )"
   ]
  },
  {
   "cell_type": "code",
   "execution_count": 25,
   "id": "0f56fa1e",
   "metadata": {
    "ExecuteTime": {
     "end_time": "2023-10-12T10:26:09.379434Z",
     "start_time": "2023-10-12T10:26:08.089316Z"
    }
   },
   "outputs": [
    {
     "name": "stdout",
     "output_type": "stream",
     "text": [
      "0 0.34181232682466506\n",
      "1 0.3006162665963173\n"
     ]
    }
   ],
   "source": [
    "train_dloader, val_dloader = get_data(train_dset, val_dset, batch_size)\n",
    "model = MnistLogistic()\n",
    "opt = optim.SGD(model.parameters(), lr=lr)\n",
    "fit(epochs, model, loss_func, opt, train_dloader, val_dloader)"
   ]
  },
  {
   "cell_type": "markdown",
   "id": "3bac67ea",
   "metadata": {},
   "source": [
    "### 2.10 用nn.sequential\n",
    "<font color=red>**· X**</font> \\\n",
    "<font color=blue>**· 后面开始改用CNN模型**</font>: (cnn-relu) * 3 -> average_pooling"
   ]
  },
  {
   "cell_type": "markdown",
   "id": "000f7816",
   "metadata": {},
   "source": [
    "#### 没有用nn.sequential"
   ]
  },
  {
   "cell_type": "code",
   "execution_count": 26,
   "id": "04e9e20a",
   "metadata": {
    "ExecuteTime": {
     "end_time": "2023-10-12T10:26:13.370222Z",
     "start_time": "2023-10-12T10:26:09.380785Z"
    }
   },
   "outputs": [
    {
     "name": "stdout",
     "output_type": "stream",
     "text": [
      "0 0.347343075799942\n",
      "1 0.24481436341404914\n"
     ]
    }
   ],
   "source": [
    "class MnistCNN(nn.Module):\n",
    "    def __init__(self):\n",
    "        super().__init__()\n",
    "        self.conv1 = nn.Conv2d(1, 16, kernel_size=3, stride=2, padding=1)\n",
    "        self.conv2 = nn.Conv2d(16, 16, kernel_size=3, stride=2, padding=1)\n",
    "        self.conv3 = nn.Conv2d(16, 10, kernel_size=3, stride=2, padding=1)\n",
    "\n",
    "    def forward(self, x_batch):\n",
    "        x_batch = x_batch.view(-1, 1, 28, 28)\n",
    "        x_batch = F.relu(self.conv1(x_batch))\n",
    "        x_batch = F.relu(self.conv2(x_batch))\n",
    "        x_batch = F.relu(self.conv3(x_batch))\n",
    "        x_batch = F.avg_pool2d(x_batch, 4)\n",
    "        return x_batch.view(-1, x_batch.size(1))\n",
    "\n",
    "lr = 0.1\n",
    "\n",
    "model = MnistCNN()\n",
    "opt = optim.SGD(model.parameters(), lr=lr, momentum=0.9)\n",
    "\n",
    "fit(epochs, model, loss_func, opt, train_dloader, val_dloader)"
   ]
  },
  {
   "cell_type": "markdown",
   "id": "5fcd066c",
   "metadata": {},
   "source": [
    "#### 用nn.sequential"
   ]
  },
  {
   "cell_type": "code",
   "execution_count": 27,
   "id": "a9ae7861",
   "metadata": {
    "ExecuteTime": {
     "end_time": "2023-10-12T10:26:13.375780Z",
     "start_time": "2023-10-12T10:26:13.372048Z"
    }
   },
   "outputs": [],
   "source": [
    "## 自定义layer要用nn.Module\n",
    "#  自定义一个起数据预处理作用的view layer\n",
    "class Lambda(nn.Module):\n",
    "    def __init__(self, func):\n",
    "        super().__init__()\n",
    "        self.func = func\n",
    "    \n",
    "    def forward(self, x):\n",
    "        return self.func(x)\n",
    "    \n",
    "def preprocess_view(x):\n",
    "    return x.view(-1, 1, 28, 28)"
   ]
  },
  {
   "cell_type": "code",
   "execution_count": 28,
   "id": "d9a47b8d",
   "metadata": {
    "ExecuteTime": {
     "end_time": "2023-10-12T10:26:17.332753Z",
     "start_time": "2023-10-12T10:26:13.380011Z"
    }
   },
   "outputs": [
    {
     "name": "stdout",
     "output_type": "stream",
     "text": [
      "0 0.3724334008693695\n",
      "1 0.24540741817951203\n"
     ]
    }
   ],
   "source": [
    "model = nn.Sequential(\n",
    "    Lambda(preprocess_view), \n",
    "    nn.Conv2d(1, 16, kernel_size=3, stride=2, padding=1), \n",
    "    nn.ReLU(), \n",
    "    nn.Conv2d(16, 16, kernel_size=3, stride=2, padding=1),\n",
    "    nn.ReLU(), \n",
    "    nn.Conv2d(16, 10, kernel_size=3, stride=2, padding=1), \n",
    "    nn.ReLU(),\n",
    "    nn.AvgPool2d(4),\n",
    "    Lambda(lambda x: x.view(x.size(0), -1)),\n",
    ")\n",
    "\n",
    "opt = optim.SGD(model.parameters(), lr=lr, momentum=0.9)\n",
    "\n",
    "fit(epochs, model, loss_func, opt, train_dloader, val_dloader)"
   ]
  },
  {
   "cell_type": "markdown",
   "id": "bfdb702c",
   "metadata": {},
   "source": [
    "### 2.11 wrapping DataLoader\n",
    "<font color=red>**· 把数据预处理打包到自定义的DataLoader中，让model可以处理任意长宽的图片**</font>"
   ]
  },
  {
   "cell_type": "code",
   "execution_count": 29,
   "id": "113ac20d",
   "metadata": {
    "ExecuteTime": {
     "end_time": "2023-10-12T10:26:17.338631Z",
     "start_time": "2023-10-12T10:26:17.334412Z"
    }
   },
   "outputs": [],
   "source": [
    "def preprocess(x, y):\n",
    "    return x.view(-1, 1, 28, 28), y\n",
    "\n",
    "\n",
    "class WrappedDataLoader:\n",
    "    def __init__(self, dl, func):\n",
    "        self.dl = dl\n",
    "        self.func = func\n",
    "\n",
    "    def __len__(self):\n",
    "        return len(self.dl)\n",
    "\n",
    "    def __iter__(self):\n",
    "        for b in self.dl:\n",
    "            yield (self.func(*b))\n",
    "\n",
    "train_dloader, val_dloader = get_data(train_dset, val_dset, batch_size)\n",
    "train_dloader = WrappedDataLoader(train_dloader, preprocess)\n",
    "val_dloader = WrappedDataLoader(val_dloader, preprocess)"
   ]
  },
  {
   "cell_type": "code",
   "execution_count": 30,
   "id": "bfbeab4c",
   "metadata": {
    "ExecuteTime": {
     "end_time": "2023-10-12T10:26:21.296897Z",
     "start_time": "2023-10-12T10:26:17.339741Z"
    }
   },
   "outputs": [
    {
     "name": "stdout",
     "output_type": "stream",
     "text": [
      "0 0.36414643461704255\n",
      "1 0.2789471734046936\n"
     ]
    }
   ],
   "source": [
    "model = nn.Sequential(\n",
    "    nn.Conv2d(1, 16, kernel_size=3, stride=2, padding=1),\n",
    "    nn.ReLU(),\n",
    "    nn.Conv2d(16, 16, kernel_size=3, stride=2, padding=1),\n",
    "    nn.ReLU(),\n",
    "    nn.Conv2d(16, 10, kernel_size=3, stride=2, padding=1),\n",
    "    nn.ReLU(),\n",
    "    nn.AdaptiveAvgPool2d(1),\n",
    "    Lambda(lambda x: x.view(x.size(0), -1)),\n",
    ")\n",
    "\n",
    "opt = optim.SGD(model.parameters(), lr=lr, momentum=0.9)\n",
    "\n",
    "fit(epochs, model, loss_func, opt, train_dloader, val_dloader)"
   ]
  },
  {
   "cell_type": "markdown",
   "id": "6fbc47f4",
   "metadata": {},
   "source": [
    "### 2.12 用GPU做运算"
   ]
  },
  {
   "cell_type": "code",
   "execution_count": 31,
   "id": "4c0c22fa",
   "metadata": {
    "ExecuteTime": {
     "end_time": "2023-10-12T10:26:24.529586Z",
     "start_time": "2023-10-12T10:26:21.298134Z"
    }
   },
   "outputs": [
    {
     "name": "stderr",
     "output_type": "stream",
     "text": [
      "/home/roark/anaconda3/envs/231n/lib/python3.10/site-packages/torch/nn/modules/conv.py:459: UserWarning: Applied workaround for CuDNN issue, install nvrtc.so (Triggered internally at ../aten/src/ATen/native/cudnn/Conv_v8.cpp:80.)\n",
      "  return F.conv2d(input, weight, bias, self.stride,\n"
     ]
    },
    {
     "name": "stdout",
     "output_type": "stream",
     "text": [
      "0 0.2655771452665329\n",
      "1 0.22858904560804366\n"
     ]
    }
   ],
   "source": [
    "if torch.cuda.is_available():\n",
    "    dev = torch.device(\"cuda\") \n",
    "else:\n",
    "    dev = torch.device(\"cpu\")\n",
    "\n",
    "# 数据预处理的时候将tensor移到gpu上\n",
    "def preprocess(x, y):\n",
    "    return x.view(-1, 1, 28, 28).to(dev), y.to(dev)\n",
    "\n",
    "train_dloader, val_dloader = get_data(train_dset, val_dset, batch_size)\n",
    "train_dloader = WrappedDataLoader(train_dloader, preprocess)\n",
    "val_dloader = WrappedDataLoader(val_dloader, preprocess)\n",
    "\n",
    "# 将model定义在gpu上\n",
    "model.to(dev)\n",
    "opt = optim.SGD(model.parameters(), lr=lr, momentum=0.9)\n",
    "\n",
    "fit(epochs, model, loss_func, opt, train_dloader, val_dloader)"
   ]
  },
  {
   "cell_type": "markdown",
   "id": "ea60ebca",
   "metadata": {},
   "source": [
    "<font color=red>上面warning solution是因为cuda lib的版本兼容性引起的，参见：https://stackoverflow.com/questions/76216778/userwarning-applied-workaround-for-cudnn-issue-install-nvrtc-so</font>"
   ]
  }
 ],
 "metadata": {
  "kernelspec": {
   "display_name": "Python [conda env:231n] *",
   "language": "python",
   "name": "conda-env-231n-py"
  },
  "language_info": {
   "codemirror_mode": {
    "name": "ipython",
    "version": 3
   },
   "file_extension": ".py",
   "mimetype": "text/x-python",
   "name": "python",
   "nbconvert_exporter": "python",
   "pygments_lexer": "ipython3",
   "version": "3.10.12"
  }
 },
 "nbformat": 4,
 "nbformat_minor": 5
}
