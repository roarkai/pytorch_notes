{
 "cells": [
  {
   "cell_type": "markdown",
   "id": "cd233b14",
   "metadata": {},
   "source": [
    "# Tensor的基本操作"
   ]
  },
  {
   "cell_type": "markdown",
   "id": "275fd7c5",
   "metadata": {},
   "source": [
    "## 1. 新建Tensor"
   ]
  },
  {
   "cell_type": "code",
   "execution_count": 1,
   "id": "71c1e8b4",
   "metadata": {
    "ExecuteTime": {
     "end_time": "2023-10-12T03:52:54.168913Z",
     "start_time": "2023-10-12T03:52:52.965042Z"
    }
   },
   "outputs": [],
   "source": [
    "import torch\n",
    "import numpy as np"
   ]
  },
  {
   "cell_type": "markdown",
   "id": "852c024f",
   "metadata": {},
   "source": [
    "### 1.1 根据给定的shape直接新建tensor\n",
    "1. ones, zeros, empty等操作和numpy相似\n",
    "2. shape可以是tuple，也可以直接给各个dimension的大小，而不package到tuple中\n",
    "3. 用manual_seed()来设定随机种子"
   ]
  },
  {
   "cell_type": "code",
   "execution_count": 15,
   "id": "cfe1a607",
   "metadata": {
    "ExecuteTime": {
     "end_time": "2023-10-12T03:53:53.344147Z",
     "start_time": "2023-10-12T03:53:53.331670Z"
    }
   },
   "outputs": [
    {
     "name": "stdout",
     "output_type": "stream",
     "text": [
      "tensor([[0., 0., 0.],\n",
      "        [0., 0., 0.]]) \n",
      " tensor([[1, 1, 1],\n",
      "        [1, 1, 1]], dtype=torch.int16)\n"
     ]
    },
    {
     "data": {
      "text/plain": [
       "False"
      ]
     },
     "execution_count": 15,
     "metadata": {},
     "output_type": "execute_result"
    }
   ],
   "source": [
    "shape = (2, 3)\n",
    "zeros = torch.zeros(shape)\n",
    "i = torch.ones((2, 3), dtype=torch.int16) # 指定数据类型\n",
    "\n",
    "print(zeros, '\\n', i)\n",
    "torch.is_storage(zeros)"
   ]
  },
  {
   "cell_type": "code",
   "execution_count": 3,
   "id": "9918e75c",
   "metadata": {
    "ExecuteTime": {
     "end_time": "2023-10-12T03:52:54.195800Z",
     "start_time": "2023-10-12T03:52:54.188242Z"
    }
   },
   "outputs": [
    {
     "name": "stdout",
     "output_type": "stream",
     "text": [
      "tensor([[0.3126, 0.3791, 0.3087],\n",
      "        [0.0736, 0.4216, 0.0691]])\n",
      "tensor([[0.2332, 0.4047, 0.2162],\n",
      "        [0.9927, 0.4128, 0.5938]])\n",
      "tensor([[True, True, True],\n",
      "        [True, True, True]])\n"
     ]
    }
   ],
   "source": [
    "## random initialization\n",
    "# random seed\n",
    "torch.manual_seed(1729)\n",
    "r1 = torch.rand(shape)   # [0, 1)均匀分布\n",
    "print(r1)\n",
    "\n",
    "r2 = torch.rand(shape)   # [0, 1)均匀分布\n",
    "print(r2)\n",
    "\n",
    "torch.manual_seed(1729)\n",
    "r3 = torch.rand(shape)   # [0, 1)均匀分布\n",
    "print(r3 == r1)"
   ]
  },
  {
   "cell_type": "markdown",
   "id": "efdb18ab",
   "metadata": {},
   "source": [
    "### 1.2 将python list，tuple或numpy array转变成tensor类型"
   ]
  },
  {
   "cell_type": "code",
   "execution_count": 4,
   "id": "568797f8",
   "metadata": {
    "ExecuteTime": {
     "end_time": "2023-10-12T03:52:54.202355Z",
     "start_time": "2023-10-12T03:52:54.198227Z"
    }
   },
   "outputs": [
    {
     "name": "stdout",
     "output_type": "stream",
     "text": [
      "tensor([[1, 2],\n",
      "        [3, 4]]) torch.int64\n"
     ]
    }
   ],
   "source": [
    "data = [[1, 2],[3, 4]]\n",
    "x_data = torch.tensor(data)\n",
    "print(x_data, x_data.dtype)"
   ]
  },
  {
   "cell_type": "code",
   "execution_count": 5,
   "id": "5225523e",
   "metadata": {
    "ExecuteTime": {
     "end_time": "2023-10-12T03:52:54.208933Z",
     "start_time": "2023-10-12T03:52:54.203969Z"
    }
   },
   "outputs": [
    {
     "name": "stdout",
     "output_type": "stream",
     "text": [
      "tensor([[1, 2],\n",
      "        [3, 4]]) \n",
      " tensor([[1, 2],\n",
      "        [3, 4]])\n"
     ]
    }
   ],
   "source": [
    "## 将np_array转变成tensor\n",
    "np_array = np.array(data)\n",
    "x_np = torch.tensor(np_array)\n",
    "y_np = torch.from_numpy(np_array)\n",
    "print(x_np, '\\n', y_np)"
   ]
  },
  {
   "cell_type": "code",
   "execution_count": 6,
   "id": "b049671c",
   "metadata": {
    "ExecuteTime": {
     "end_time": "2023-10-12T03:52:54.215314Z",
     "start_time": "2023-10-12T03:52:54.210657Z"
    }
   },
   "outputs": [
    {
     "name": "stdout",
     "output_type": "stream",
     "text": [
      "tensor([[1.0000, 2.0000],\n",
      "        [3.5000, 4.0000]]) torch.float32\n"
     ]
    }
   ],
   "source": [
    "## 可以识别混合类型\n",
    "data = [[1, 2],(3.5, 4)]\n",
    "x_data = torch.tensor(data)\n",
    "print(x_data, x_data.dtype)"
   ]
  },
  {
   "cell_type": "code",
   "execution_count": 7,
   "id": "53f0d1d2",
   "metadata": {
    "ExecuteTime": {
     "end_time": "2023-10-12T03:52:54.221962Z",
     "start_time": "2023-10-12T03:52:54.217019Z"
    }
   },
   "outputs": [
    {
     "name": "stdout",
     "output_type": "stream",
     "text": [
      "tensor([[0.2332, 0.4047, 0.2162],\n",
      "        [0.9927, 0.4128, 0.5938]])\n",
      "[[0.23321933 0.40465623 0.2162376 ]\n",
      " [0.99269456 0.41275233 0.59382254]]\n"
     ]
    }
   ],
   "source": [
    "## tensor转变成numpy array\n",
    "pytorch_rand = torch.rand(2, 3)\n",
    "print(pytorch_rand)\n",
    "\n",
    "numpy_rand = pytorch_rand.numpy()\n",
    "print(numpy_rand)"
   ]
  },
  {
   "cell_type": "markdown",
   "id": "b37d938b",
   "metadata": {},
   "source": [
    "### 1.3 用已有tensor的shape和datatype来新建tensor\n",
    "这里要注意数据类型变化"
   ]
  },
  {
   "cell_type": "code",
   "execution_count": 8,
   "id": "722853c7",
   "metadata": {
    "ExecuteTime": {
     "end_time": "2023-10-12T03:52:54.228911Z",
     "start_time": "2023-10-12T03:52:54.223719Z"
    }
   },
   "outputs": [
    {
     "name": "stdout",
     "output_type": "stream",
     "text": [
      "ones tensor with shape as x_data: tensor([[1., 1.],\n",
      "        [1., 1.]])\n",
      "tensor([[0.6128, 0.1519],\n",
      "        [0.0453, 0.5035]])\n"
     ]
    }
   ],
   "source": [
    "x_ones = torch.ones_like(x_data)\n",
    "print(f'ones tensor with shape as x_data:', x_ones)\n",
    "\n",
    "# x_rand = torch.rand_like(x_data) # 错，x_data原来的value是int，要override\n",
    "x_rand = torch.rand_like(x_data, dtype=torch.float)\n",
    "print(x_rand)"
   ]
  },
  {
   "cell_type": "markdown",
   "id": "89897159",
   "metadata": {},
   "source": [
    "## 2. tensor的属性"
   ]
  },
  {
   "cell_type": "markdown",
   "id": "16c8afa1",
   "metadata": {},
   "source": [
    "### 2.1 数据类型\n",
    "新建tensor的默认类型是float32"
   ]
  },
  {
   "cell_type": "code",
   "execution_count": 9,
   "id": "a178d58b",
   "metadata": {
    "ExecuteTime": {
     "end_time": "2023-10-12T03:52:54.235529Z",
     "start_time": "2023-10-12T03:52:54.230645Z"
    }
   },
   "outputs": [
    {
     "name": "stdout",
     "output_type": "stream",
     "text": [
      "tensor([[1, 1, 1],\n",
      "        [1, 1, 1]], dtype=torch.int16)\n",
      "tensor([[1., 1., 1.],\n",
      "        [1., 1., 1.]])\n"
     ]
    }
   ],
   "source": [
    "# 设置数据类型的两种方式\n",
    "a = torch.ones((2, 3), dtype=torch.int16)\n",
    "print(a)\n",
    "\n",
    "c = a.to(torch.float32)\n",
    "print(c)"
   ]
  },
  {
   "cell_type": "markdown",
   "id": "bdcccce1",
   "metadata": {},
   "source": [
    "### 2.2 存储位置\n",
    "1. 默认情况下，tensor是在cpu上创建的，可以用tensor.to()将tensor转移到gpu上，或者直接在gpu上新建tensor\n",
    "2. 一个expression中的运算对象要在同一个device上，cpu和gpu上的数据无法在一个expression中处理\n",
    "3. cpu上的tensor可以跟numpy共享底层的memory location，但gpu上的tensor不行。因为gpu上只能放tensor，不能放numpy数据类型\n",
    "4. 要注意，在cpu和gpu之间做数据的迁移很耗费时间。"
   ]
  },
  {
   "cell_type": "code",
   "execution_count": 10,
   "id": "6f471bd6",
   "metadata": {
    "ExecuteTime": {
     "end_time": "2023-10-12T03:52:54.624553Z",
     "start_time": "2023-10-12T03:52:54.238344Z"
    }
   },
   "outputs": [
    {
     "name": "stdout",
     "output_type": "stream",
     "text": [
      "tensor([[0.3344, 0.2640],\n",
      "        [0.2119, 0.0582]], device='cuda:0')\n"
     ]
    }
   ],
   "source": [
    "## 在gpu上新建tensor\n",
    "x = torch.rand(2, 2, device='cuda')\n",
    "print(x)"
   ]
  },
  {
   "cell_type": "code",
   "execution_count": 11,
   "id": "b6f3cc75",
   "metadata": {
    "ExecuteTime": {
     "end_time": "2023-10-12T03:52:54.631096Z",
     "start_time": "2023-10-12T03:52:54.626305Z"
    }
   },
   "outputs": [
    {
     "name": "stdout",
     "output_type": "stream",
     "text": [
      "torch.Size([2, 3]) torch.float32 cpu\n",
      "torch.Size([2, 3]) torch.float32 cuda:0\n"
     ]
    }
   ],
   "source": [
    "## 将现有tensor移动到gpu\n",
    "x = torch.ones(2, 3)\n",
    "if torch.cuda.is_available():\n",
    "    y = x.to('cuda')\n",
    "print(x.shape, x.dtype, x.device)\n",
    "print(y.shape, y.dtype, y.device)\n",
    "\n",
    "# mul = tensor * tensor2 # 错，他们一个在cpu上，一个在gpu上"
   ]
  },
  {
   "cell_type": "code",
   "execution_count": 12,
   "id": "3ae68e06",
   "metadata": {
    "ExecuteTime": {
     "end_time": "2023-10-12T03:52:54.638998Z",
     "start_time": "2023-10-12T03:52:54.633066Z"
    }
   },
   "outputs": [
    {
     "name": "stdout",
     "output_type": "stream",
     "text": [
      "改变前： tensor([1., 1., 1., 1., 1.]) [1. 1. 1. 1. 1.]\n",
      "改变tensor，numpy对象也变： tensor([3., 3., 3., 3., 3.]) [3. 3. 3. 3. 3.]\n",
      "改变numpy对象后，tensor也变： tensor([5., 5., 5., 5., 5.]) [5. 5. 5. 5. 5.]\n"
     ]
    }
   ],
   "source": [
    "## cpu上的tensor可以跟numpy共享memory location。改变其中一个的值，另一个也变\n",
    "t = torch.ones(5)\n",
    "n = t.numpy()\n",
    "print(\"改变前：\", t, n)\n",
    "t.add_(2)\n",
    "print(\"改变tensor，numpy对象也变：\", t, n)\n",
    "np.add(n, 2, out=n)\n",
    "print(\"改变numpy对象后，tensor也变：\", t, n)"
   ]
  },
  {
   "cell_type": "code",
   "execution_count": 13,
   "id": "1acaaaf7",
   "metadata": {
    "ExecuteTime": {
     "end_time": "2023-10-12T03:52:54.645535Z",
     "start_time": "2023-10-12T03:52:54.640606Z"
    }
   },
   "outputs": [
    {
     "name": "stdout",
     "output_type": "stream",
     "text": [
      "tensor([5., 5., 5., 5., 5.], device='cuda:0')\n"
     ]
    }
   ],
   "source": [
    "## 但在gpu上无法做numpy类型对象的计算\n",
    "if torch.cuda.is_available():\n",
    "    t = t.to('cuda')\n",
    "#     n = n.to('cuda') # numpy对象不能移到gpu上，因为没有.to method\n",
    "print(t)\n",
    "# n = t.numpy() # 报错：can't convert cuda:0 device type tensor to numpy."
   ]
  }
 ],
 "metadata": {
  "kernelspec": {
   "display_name": "Python [conda env:231n] *",
   "language": "python",
   "name": "conda-env-231n-py"
  },
  "language_info": {
   "codemirror_mode": {
    "name": "ipython",
    "version": 3
   },
   "file_extension": ".py",
   "mimetype": "text/x-python",
   "name": "python",
   "nbconvert_exporter": "python",
   "pygments_lexer": "ipython3",
   "version": "3.10.12"
  }
 },
 "nbformat": 4,
 "nbformat_minor": 5
}
